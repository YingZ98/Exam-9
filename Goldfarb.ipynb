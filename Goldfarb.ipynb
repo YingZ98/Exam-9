{
 "cells": [
  {
   "cell_type": "markdown",
   "metadata": {
    "slideshow": {
     "slide_type": "slide"
    }
   },
   "source": [
    "## Intro\n",
    "\n",
    "- ROE and ROA do not account for risk.\n",
    "- RAROC accounts for risk and provides a better measure of performance.\n",
    "\n",
    "$$RAROC = \\frac{\\text{Income}}{\\text{Risk-Adjusted Capital}}$$"
   ]
  },
  {
   "cell_type": "markdown",
   "metadata": {
    "slideshow": {
     "slide_type": "slide"
    }
   },
   "source": [
    "## Income Measures\n",
    "\n",
    "- <b>GAAP Income</b> - Based on GAAP accounting. Convinient if used by management decisions.\n",
    "- <b>Statutory Net Income</b> - Based on SAP accounting.\n",
    "- <b>IASB Fair Value</b> - Based on Fair value accounting. (market value)\n",
    "    - Advantage: removes accounting biases of various accounting conventions.\n",
    "- $\\color{blue}{\\text{Economic Profit}}$ - Change in economic value of the firm over a period of time. (Used in paper)\n",
    "    - Issues\n",
    "        - Ignores franchise value.\n",
    "        - Does not reconcile to GAAP values, so hard to use for management.\n",
    "        - Hard for management to justify decisions to external parties since external parties only have access to SAP and GAAP figures."
   ]
  },
  {
   "cell_type": "markdown",
   "metadata": {
    "slideshow": {
     "slide_type": "slide"
    }
   },
   "source": [
    "## Capital Measures\n",
    "<br><br>\n",
    "<b>Non-risk-adjusted capital measures</b>\n",
    "- <b>Actual Commited Capital</b> - Capital provided by shareholders.\n",
    "- <b>Market Value of Equity</b> - Market capitalization.\n",
    "\n"
   ]
  },
  {
   "cell_type": "markdown",
   "metadata": {
    "slideshow": {
     "slide_type": "subslide"
    }
   },
   "source": [
    "<b>Risk-adjusted capital measures</b>\n",
    "- <b>Regulatory required capital</b>\n",
    "- <b>Rating agency required capital</b> - capital required to achieve target credit rating.\n",
    "- <b>Economic capital</b> - capital necessary to provide the firm with certain probability of achieving a specific objective over the time horizon.\n",
    "    - Solvency objective: firm can meet its existing obligations to policyholders.\n",
    "    - Capital adequacy objective: firm can continue to pay dividends/grow premiums/maintain a certain financial strength.\n",
    "- <b>Risk capital</b> - capital that needs to be provided by the shareholders to cover the risk that the liabilities will exceed funds already provided (loss reserves or premiums). This differs from the Economic Capital in that it is reduced to the extent that the liabilities are overly conservative."
   ]
  }
 ],
 "metadata": {
  "celltoolbar": "Slideshow",
  "kernelspec": {
   "display_name": "Python 3",
   "language": "python",
   "name": "python3"
  },
  "language_info": {
   "codemirror_mode": {
    "name": "ipython",
    "version": 3
   },
   "file_extension": ".py",
   "mimetype": "text/x-python",
   "name": "python",
   "nbconvert_exporter": "python",
   "pygments_lexer": "ipython3",
   "version": "3.7.1"
  }
 },
 "nbformat": 4,
 "nbformat_minor": 2
}
