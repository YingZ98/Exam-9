{
 "cells": [
  {
   "cell_type": "markdown",
   "metadata": {
    "slideshow": {
     "slide_type": "slide"
    }
   },
   "source": [
    "## Intro\n",
    "\n",
    "- ROE and ROA do not account for risk.\n",
    "- RAROC accounts for risk and provides a better measure of performance.\n",
    "\n",
    "$$RAROC = \\frac{\\text{Income}}{\\text{Risk-Adjusted Capital}}$$"
   ]
  },
  {
   "cell_type": "markdown",
   "metadata": {
    "slideshow": {
     "slide_type": "slide"
    }
   },
   "source": [
    "## Income Measures\n",
    "\n",
    "- <b>GAAP Income</b> - Based on GAAP accounting. Convinient if used by management decisions.\n",
    "- <b>Statutory Net Income</b> - Based on SAP accounting.\n",
    "- <b>IASB Fair Value</b> - Based on Fair value accounting. (market value)\n",
    "    - <b>Advantage</b>: removes accounting biases of various accounting conventions.\n",
    "- $\\color{blue}{\\text{Economic Profit}}$ - Change in economic value of the firm over a period of time. (Used in paper)\n",
    "    - Issues\n",
    "        - Ignores franchise value.\n",
    "        - Does not reconcile to GAAP values, so hard to use for management.\n",
    "        - Hard for management to justify decisions to external parties since external parties only have access to SAP and GAAP figures."
   ]
  },
  {
   "cell_type": "markdown",
   "metadata": {
    "slideshow": {
     "slide_type": "slide"
    }
   },
   "source": [
    "## Capital Measures\n",
    "\n",
    "#### Non-risk-adjusted capital measures\n",
    "- <b>Actual Commited Capital</b> - Capital provided by shareholders.\n",
    "- <b>Market Value of Equity</b> - Market capitalization.\n",
    "\n"
   ]
  },
  {
   "cell_type": "markdown",
   "metadata": {
    "slideshow": {
     "slide_type": "subslide"
    }
   },
   "source": [
    "#### Risk-adjusted capital measures\n",
    "- <b>Regulatory required capital</b>\n",
    "- <b>Rating agency required capital</b> - capital required to achieve target credit rating.\n",
    "- <b>Economic capital</b> - capital necessary to provide the firm with certain probability of achieving a specific objective over the time horizon.\n",
    "    - Solvency objective: firm can meet its existing obligations to policyholders.\n",
    "    - Capital adequacy objective: firm can continue to pay dividends/grow premiums/maintain a certain financial strength.\n",
    "- <b>Risk capital</b> - capital that needs to be provided by the shareholders to cover the risk that the liabilities will exceed funds already provided (loss reserves or premiums). This differs from the Economic Capital in that it is reduced to the extent that the liabilities are overly conservative."
   ]
  },
  {
   "cell_type": "markdown",
   "metadata": {
    "slideshow": {
     "slide_type": "slide"
    }
   },
   "source": [
    "## Risk Measures\n",
    "\n",
    "1. Probability of ruin\n",
    "2. VaR\n",
    "3. Conditional Tail Expectation (CTE)\n",
    "4. Expected Policyholder Deficit Ratio\n",
    "\n",
    "Risk measures are used to figure out the overall target capital and allocation of capital."
   ]
  },
  {
   "cell_type": "markdown",
   "metadata": {
    "slideshow": {
     "slide_type": "slide"
    }
   },
   "source": [
    "## Comparison Threshold Level\n",
    "\n",
    "Risk measures are compared to a threshold level. Ways to derive these thresholds:\n",
    "\n",
    "1. Bond default probabilities\n",
    "2. Management's risk preference\n",
    "3. Arbitrary default probability"
   ]
  },
  {
   "cell_type": "markdown",
   "metadata": {
    "slideshow": {
     "slide_type": "slide"
    }
   },
   "source": [
    "## Categories of Risk an Insurer is Exposed To\n",
    "\n",
    "1. Market risk\n",
    "2. Credit risk\n",
    "3. Insurance underwriting risk\n",
    "    - UW risk\n",
    "        - Loss ratio distribution model\n",
    "        - Frequency & severity model\n",
    "        - Inference from reserve risk models\n",
    "    - Cat risk\n",
    "    - Loss reserve risk\n",
    "        - Process risk\n",
    "        - Parameter risk\n",
    "        - Model risk\n"
   ]
  },
  {
   "cell_type": "markdown",
   "metadata": {
    "slideshow": {
     "slide_type": "subslide"
    }
   },
   "source": [
    "4. Operational risk\n",
    "5. Strategic risk"
   ]
  },
  {
   "cell_type": "markdown",
   "metadata": {
    "slideshow": {
     "slide_type": "slide"
    }
   },
   "source": [
    "## Risk Aggregation\n",
    "\n",
    "- We need to quantify dependency between various risks before we can aggregate the risks.\n",
    "- Different methods to quantify dependency/correlation:\n",
    "    - Empirical analysis\n",
    "    - Subjective estimates\n",
    "    - Explicit factor models\n",
    "- Methods used for aggregating:\n",
    "    - Closed Form Solutions\n",
    "    - Approximation methods\n",
    "    - Simulation methods\n",
    "    - Square root rule"
   ]
  },
  {
   "cell_type": "markdown",
   "metadata": {
    "slideshow": {
     "slide_type": "slide"
    }
   },
   "source": [
    "## Capital Allocation\n",
    "\n",
    "1. Proportional allocation based on a risk measure\n",
    "2. Incremental allocation\n",
    "3. Marginal allocation (ex. Myers-Read method)\n",
    "    - Different from incremental allocation since we are small changes in business unit.\n",
    "4. Co-Measures Approach"
   ]
  },
  {
   "cell_type": "markdown",
   "metadata": {
    "slideshow": {
     "slide_type": "slide"
    }
   },
   "source": [
    "## Myers-Read Method\n",
    "\n",
    "- Allocates capital to equalize the marginal impact of each business unit on the value of the option to default on obligations (put option).<br><br>\n",
    "\n",
    "<center>$s_i = \\frac{\\text{Capital}_i}{\\text{Liability}_i}$</center>\n",
    "<center>$\\frac{\\partial p}{\\partial s}$ = partial derivative of the put option w.r. to s</center>\n",
    "<center>$\\sigma_{iL}$ = covariance of line's losses with aggregate losses from all lines</center>\n",
    "<center>$\\sigma_{iV}$ = covariance of line's losses with the assets</center>\n",
    "<center>$\\sigma$ = overall std. = $\\sqrt{\\sigma_v^2 + \\sigma_L^2}$</center>\n",
    "<br>\n",
    "\n",
    "$$s_i = s - \\left(\\frac{\\partial p}{\\partial s}\\right)^{-1} \\cdot \\frac{\\partial p}{\\partial \\sigma} \\cdot \\frac{(\\sigma_{iL}-\\sigma_L^2) - (\\sigma_{iV} - \\sigma_{LV})}{\\sigma}$$"
   ]
  },
  {
   "cell_type": "markdown",
   "metadata": {
    "slideshow": {
     "slide_type": "subslide"
    }
   },
   "source": [
    "#### Issues with Myers Read method\n",
    "1. It was not developed to determine the risk adjusted capital requirement.\n",
    "2. It requires significantly more quantitative resources than other methods.\n",
    "3. Mathematical challenges have indicated that Myers Read may not be appropriate for most insurance applications.\n",
    "4. The capital allocated to a line is proportional to the covariability with the loss portfolio, and inversely proportional to the covarability with the asset portfolio."
   ]
  },
  {
   "cell_type": "markdown",
   "metadata": {
    "slideshow": {
     "slide_type": "slide"
    }
   },
   "source": [
    "## Applications of Risk Adjusted Performance Metrics\n",
    "1. Assessing capital adequacy\n",
    "2. Setting risk management priorities: insurer can identify the segment/activity that is generating the most risk capital.\n",
    "3. Evaluating alternative risk management strategies: insurer can examine the impact of a risk management strategy on RAROC.\n",
    "4. Risk adjusted performance measurement\n",
    "5. Insurance policy pricing"
   ]
  },
  {
   "cell_type": "markdown",
   "metadata": {
    "slideshow": {
     "slide_type": "slide"
    }
   },
   "source": [
    "## Risk Adjusted Performance Measurement\n",
    "<br>\n",
    "<center><img src='images/Goldfarb_RPM.JPG'></center>"
   ]
  },
  {
   "cell_type": "markdown",
   "metadata": {
    "slideshow": {
     "slide_type": "slide"
    }
   },
   "source": [
    "## Pricing Insurance Policy\n",
    "\n",
    "- RAROC can be used to price insurance policies by selecting a specific RAROC percentage and calculating for additional risk margin / premium ($\\pi$).<br><br>\n",
    "\n",
    "- <b>RAROC =</b> $\\frac{(\\text{Original Premium} + \\text{Risk Margin} - Expenses) \\cdot (1+ \\text{Expected Investment Income return}) - PV(\\text{Expected Claims})}{\\text{Allocated Capital}}$ <br><br>\n",
    "\n",
    "- Note: PV(Expected Claims) is at time 1 using risk-free rate."
   ]
  },
  {
   "cell_type": "markdown",
   "metadata": {
    "slideshow": {
     "slide_type": "slide"
    }
   },
   "source": [
    "## Multi-Period Capital Commitment\n",
    "\n",
    "- Capital is released at the same rate at which claims are paid.<br><br>\n",
    "\n",
    "<center>R = Cost of risk capital / Required annual target return</center>\n",
    "<center>r = investment income return</center><br>\n",
    "\n",
    "$$\\text{Target RAROC} = R \\cdot \\left[ \\frac{\\sum \\frac{C_i}{(1+r)^i}}{\\text{Beginning Capital}} \\right]$$"
   ]
  }
 ],
 "metadata": {
  "celltoolbar": "Slideshow",
  "kernelspec": {
   "display_name": "Python 3",
   "language": "python",
   "name": "python3"
  },
  "language_info": {
   "codemirror_mode": {
    "name": "ipython",
    "version": 3
   },
   "file_extension": ".py",
   "mimetype": "text/x-python",
   "name": "python",
   "nbconvert_exporter": "python",
   "pygments_lexer": "ipython3",
   "version": "3.7.1"
  }
 },
 "nbformat": 4,
 "nbformat_minor": 2
}
