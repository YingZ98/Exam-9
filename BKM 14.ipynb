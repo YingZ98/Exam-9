{
 "cells": [
  {
   "cell_type": "markdown",
   "metadata": {
    "slideshow": {
     "slide_type": "slide"
    }
   },
   "source": [
    "## Bond Characteristics\n",
    "\n",
    "- Typical coupon bond obligates the issuer to make semiannual coupon payments to the bond holder.\n",
    "- The issuer repays the debt by paying the bond's <b>par value/face value</b>.\n",
    "- Example: A $\\$1,000$ par value bond with 8\\% coupon rate would pay \\$40 every 6 months.\n"
   ]
  },
  {
   "cell_type": "markdown",
   "metadata": {
    "slideshow": {
     "slide_type": "slide"
    }
   },
   "source": [
    "## Accrued Interest & Quoted Bond Prices\n",
    "\n",
    "- The quoted bond price does not include the accrued interest between coupon payments.<br><br>\n",
    "\n",
    "<center> Bond Price / invoice price = flat price + accrued interest</center> \n",
    "<center> $\\Downarrow$ </center>\n",
    "<center>flat price + $\\frac{\\text{Annual coupon payment}}{2} \\cdot \\frac{\\text{Days since last coupon payment}}{\\text{Days separating coupon payments}}$ </center>"
   ]
  },
  {
   "cell_type": "markdown",
   "metadata": {
    "slideshow": {
     "slide_type": "slide"
    }
   },
   "source": [
    "## Types of Bonds\n",
    "\n",
    "#### Callable Bonds\n",
    "- The issuer can repurchase the bond at a specific call price before the maturity date.\n",
    "- Callable bonds are issued with higher coupons and promised yield to maturity than noncallable bonds.\n",
    "- <b>Deferred callable bonds</b> - Have an initial period of call protection.\n",
    "\n",
    "#### Puttable Bonds\n",
    "- Similar to callable bond, except it gives the option to return the bond to the issuer and reclaim principal.\n"
   ]
  },
  {
   "cell_type": "markdown",
   "metadata": {
    "slideshow": {
     "slide_type": "subslide"
    }
   },
   "source": [
    "#### Convertible Bonds\n",
    "- Gives bondolder an option to exchange bond for a specified number of shares of the issuing firm.\n",
    "- <b>Conversion ratio</b> - Number of shares that each bond can be exchanged for\n",
    "- <b>Market conversion value</b> - Current value of shares for which the bond can be exchanged\n",
    "- <b>Conversion Premium</b> - Excess of bond value over its conversion value"
   ]
  },
  {
   "cell_type": "markdown",
   "metadata": {
    "slideshow": {
     "slide_type": "subslide"
    }
   },
   "source": [
    "#### Floating-Rate Bonds\n",
    "\n",
    "- Lower interest rate risk since coupon rate is set as: market interest rate + x%.\n",
    "- There is risk if the financial strength of the firm deteriorates because investor can't get a greater yield premium.\n",
    "\n",
    "#### Inverse Floaters\n",
    "\n",
    "- Similar to floating rate bonds, but the coupon falls when the interest rate rise.\n",
    "    - This causes bonds to depreciate very fast when the rates rise and vice versa.\n",
    "    \n",
    "#### Asset-Backed Bonds\n",
    "\n",
    "- Income from a specified group of asset(s) is used to service the debt.\n",
    "    - Good example is mortgage backed securities (MBS)."
   ]
  },
  {
   "cell_type": "markdown",
   "metadata": {
    "slideshow": {
     "slide_type": "subslide"
    }
   },
   "source": [
    "#### Catastrophe Bonds\n",
    "\n",
    "- Provide a higher coupon rate because if there is a CAT, the bondholder will lose a portion (or all) of the investment.\n",
    "\n",
    "#### Indexed Bonds\n",
    "\n",
    "- Make payments that are based on a general price index, or the price of a specific commodity.\n",
    "    - Example, Treasury Inflation Protected Securities(TIPS) are bonds issued by the US Treasury that are linked to the rate of inflation.\n",
    "    \n"
   ]
  },
  {
   "cell_type": "markdown",
   "metadata": {
    "slideshow": {
     "slide_type": "subslide"
    }
   },
   "source": [
    "<center><img src=\"images/TIPS.JPG\"></center>"
   ]
  },
  {
   "cell_type": "markdown",
   "metadata": {
    "slideshow": {
     "slide_type": "slide"
    }
   },
   "source": [
    "## Bond Pricing\n",
    "\n",
    "<center>Bond value = sum of discounted coupons + PV of Par value</center>\n",
    "<center>$\\Downarrow$</center>\n",
    "<center>Bond value = $\\sum_{t = 1}^T\\frac{Coupon}{(1+r)^t} + \\frac{\\text{Par value}}{(1+r)^T}$</center>\n",
    "<br><br>\n",
    "<center>Bond value = $\\frac{\\text{Par value}}{(1+r)^T} + \\frac{Coupon}{r} - \\frac{Coupon}{r}*\\frac{1}{(1+r)^T}$</center>\n",
    "<center>$\\Downarrow$</center>\n",
    "<center><font color = blue>Bond value = $\\frac{\\text{Par value}}{(1+r)^T} + \\frac{Coupon}{r} \\left( 1 - \\frac{1}{(1+r)^T}\\right)$</font></center>\n",
    "<br><br>\n",
    "Note, if interest rate/annual interest rate is 8% then r is 4%. If the period length is 30 years then T is 60."
   ]
  },
  {
   "cell_type": "markdown",
   "metadata": {
    "slideshow": {
     "slide_type": "slide"
    }
   },
   "source": [
    "## Bond Yields\n",
    "\n",
    "#### Yield to Maturity (a.k.a Yield)\n",
    "- This is defined as the rate that balances the following equation: PV of bond payments = Price.\n",
    "    - This is the average return the investor would earn by holding the bond till maturity.<br><br>\n",
    "- <b>Current Yield: </b> $\\frac{\\text{Annual coupon}}{\\text{Bond Price}}$ and <b>Coupon rate: </b> $\\frac{\\text{Annual coupon}}{\\text{Par value}}$<br><br>\n",
    "- For bonds selling at premium: coupon > current yield > YTM\n",
    "- For bonds selling at discount: coupon < current yield < YTM\n",
    "- In the premium bond case, YTM accounts for built-on-capital loss and vice versa."
   ]
  },
  {
   "cell_type": "markdown",
   "metadata": {
    "slideshow": {
     "slide_type": "subslide"
    }
   },
   "source": [
    "#### Yield to Call\n",
    "- Plots the yield on callable bonds.\n",
    "- There are two forms of call protection: deferred callable bonds and deep-discount bonds.<br><br>\n",
    "\n",
    "<center><img src=\"images/Yield_To_Call.JPG\"></center>"
   ]
  },
  {
   "cell_type": "markdown",
   "metadata": {
    "slideshow": {
     "slide_type": "subslide"
    }
   },
   "source": [
    "#### Realized Compound Return vs YTM\n",
    "\n",
    "- Realized compound return different from YTM where the reinvestment rate differs from the YTM.\n",
    "- Using <b>horizon analysis,</b> one could forecast realized compound returns over various holding periods.<br><br>\n",
    "- Bondholders are exposed to two sources of <I><U>offsetting risk</U></I> when interest rates change:\n",
    "    - In case of increase in interest rates:\n",
    "        - Bond prices will fall (<b>price risk</b>)\n",
    "        - Reinvested coupon income would grow faster (<b>reinvestment risk</b>)"
   ]
  },
  {
   "cell_type": "markdown",
   "metadata": {
    "slideshow": {
     "slide_type": "subslide"
    }
   },
   "source": [
    "#### Holding-Period Return (HPR) vs YTM\n",
    "\n",
    "- YTM can be calculates today using all the availale information.\n",
    "- HPR on the other hand, depends on the market price of the bonf at the end of that holding period. This figure is not known today.<br><br>\n",
    "\n",
    "<center> Holding-period return = $\\frac{\\text{Coupon Payments + Market Price of Bond}}{\\text{Original Bond Price}} - 1$</center>\n",
    "\n",
    "- Note, we do not trend values here!"
   ]
  },
  {
   "cell_type": "markdown",
   "metadata": {
    "slideshow": {
     "slide_type": "slide"
    }
   },
   "source": [
    "## Bond Prices over Time\n",
    "\n",
    "- Bonds selling below the par value has a built-in capital gains to offset the lower coupons.\n",
    "- Bonds selling above the par value generally have higher coupon payments and suffer capital losses.\n",
    "- The return on bonds should be similar to others bonds with comparable risk profile regardless of whether it is being sold at premium or discount.\n",
    "\n",
    "<center><img src=\"images/Fig 14.6.JPG\"></center>"
   ]
  },
  {
   "cell_type": "markdown",
   "metadata": {
    "slideshow": {
     "slide_type": "slide"
    }
   },
   "source": [
    "## After-Tax Returns\n",
    "\n",
    "- For bonds, IRS calculates a price appreciation schedule based on the \"constant yield method\". \n",
    "    - This allows them to tax the imbedded capital gains or losses each year. \n",
    "- If the bond is sold, then there would be an additional capital gain/loss based on selling price.\n",
    "<br><br>\n",
    "- <b>Example:</b> Assume 30 yr. bond with par value of 1,000, 10% interest rate, 8% coupons and current price of 57.31. Next year the price of bond would be 63.04.<br><br>\n",
    "<center>Imputed Interest = 63.04 - 57.31 = 5.73</center>\n",
    "<center>Taxable Amount (if not sold) = 80 + 5.73 = 85.73</center>\n"
   ]
  },
  {
   "cell_type": "markdown",
   "metadata": {
    "slideshow": {
     "slide_type": "slide"
    }
   },
   "source": [
    "## Zero Coupon Bonds & Treasury Strips\n",
    "\n",
    "- Bond dealers buy coupon bonds from Treasury and strip to coupons to create zero coupon bonds. The new zero coupon securities are called <b>Treasury STRIPS</b>."
   ]
  },
  {
   "cell_type": "markdown",
   "metadata": {
    "slideshow": {
     "slide_type": "slide"
    }
   },
   "source": [
    "## Determinants of Bond Safety\n",
    "\n",
    "Below are the key financial ratios used to gauge financial strength of a firm.\n",
    "\n",
    "- <b>Coverage ratios</b> = $\\frac{\\text{Company Earnings}}{\\text{Fixed costs}}$\n",
    "    - <b>Times interest earned ratio</b> = $\\frac{\\text{Earnings before interest payments and taxes}}{\\text{Interest obligations}}$\n",
    "    - <b>Fixed charge coverage ratio</b> = $\\frac{\\text{Earnings}}{\\text{Fixed cash obligations (i.e. lease payments, sinking fund payments, etc.)}}$\n",
    "    \n",
    "- <b>Leverage ratio</b> = $\\frac{Debt}{Equity}$\n",
    "- <b>Liquidity ratios:</b> measures the insurer's ability to pay bills with its most liquid assets.\n",
    "    - <b>Current ratio</b> = $\\frac{\\text{Current Assets}}{\\text{Current Liabilities}}$<br><br>\n",
    "    - <b>Quick ratio</b> = $\\frac{\\text{Current assets excluding inventories}}{\\text{Current Liabilities}}$"
   ]
  },
  {
   "cell_type": "markdown",
   "metadata": {
    "slideshow": {
     "slide_type": "subslide"
    }
   },
   "source": [
    "- <b>Profitability ratios:</b> Measures of rates of return on assets or equity.<br><br>\n",
    "    - <b>Return on assets</b> = $\\frac{\\text{Earnings before interest & taxes}}{\\text{Total Assets}}$<br><br>\n",
    "    - <b>Return on equity</b> = $\\frac{\\text{Net Income}}{\\text{Equity}}$<br><br>\n",
    "- <b>Cash flow to debt ratio</b> = $\\frac{\\text{Total Cash Flow}}{\\text{Outstanding Debt}}$"
   ]
  },
  {
   "cell_type": "markdown",
   "metadata": {
    "slideshow": {
     "slide_type": "slide"
    }
   },
   "source": [
    "## YTM and Default Risk\n",
    "\n",
    "- Due to default risk, corporate bonds must offer default premium to the bond holders.\n",
    "    - This has an impact of lowering the bond price and hence increasing the expected YTM.\n",
    "        - Expected YTM lowers future payments based on expectation, but still uses current bond price.\n",
    "    - However, the stated YTM still assumes full future payments and uses current bond price. "
   ]
  },
  {
   "cell_type": "markdown",
   "metadata": {
    "slideshow": {
     "slide_type": "slide"
    }
   },
   "source": [
    "## Credit Default Swap\n",
    "\n",
    "- This is an insurance policy on the default risk of a bond/loan.\n",
    "- These can be used to raise ratings of underlying bonds to AAA rated bonds.\n",
    "    - Hence, the premium for CDS approximate the yield spread between underlying bonds and AAA-rated bonds."
   ]
  },
  {
   "cell_type": "markdown",
   "metadata": {
    "slideshow": {
     "slide_type": "slide"
    }
   },
   "source": [
    "### Bond Indentures\n",
    "\n",
    "- Bond indentures include restrictions that protect the rights of the bondholders.\n",
    "\n",
    "#### Sinking Funds\n",
    "- Spreads the burden of par value payment over several years.\n",
    "    - The firm may repurchase a portion of the outstanding bonds in the open market each year.\n",
    "    - The firm may purchase a fraction of the bonds at the special call price or market price (whichever is lower).\n",
    "        - Called bonds chosen randomly.\n",
    "- Sinking fund call vs conventional bond call\n",
    "    - limited bonds can be called at sinking fund call price (some indentures allow doubling option)\n",
    "    - The call price for sinking fund is usually set at par value.\n",
    "- Don't need sinking fund for <b>serial bond</b> issue. Due to staggered maturity dates."
   ]
  },
  {
   "cell_type": "markdown",
   "metadata": {
    "slideshow": {
     "slide_type": "subslide"
    }
   },
   "source": [
    "#### Subordination of Further Debt\n",
    "- Limits the amount of additional debt the firm can take on.\n",
    "\n",
    "#### Dividend Restrictions\n",
    "- Forces firm to retain assets rather than pay them out to the stockholders.\n",
    "- For example, no dividend payments if the cumulative dividends paid out since inception exceed the cumulative retained earnings plus proceeds from stock sales.\n",
    "\n",
    "#### Collateral\n",
    "- Some bonds may be supported by collateral."
   ]
  }
 ],
 "metadata": {
  "celltoolbar": "Slideshow",
  "kernelspec": {
   "display_name": "Python 3",
   "language": "python",
   "name": "python3"
  },
  "language_info": {
   "codemirror_mode": {
    "name": "ipython",
    "version": 3
   },
   "file_extension": ".py",
   "mimetype": "text/x-python",
   "name": "python",
   "nbconvert_exporter": "python",
   "pygments_lexer": "ipython3",
   "version": "3.7.1"
  }
 },
 "nbformat": 4,
 "nbformat_minor": 2
}
