{
 "cells": [
  {
   "cell_type": "markdown",
   "metadata": {
    "slideshow": {
     "slide_type": "slide"
    }
   },
   "source": [
    "Robbin presents several different methods for calculating UW profit provision:\n",
    "\n",
    "1. CY investment income offset.\n",
    "2. Present value offset.\n",
    "3. PV cash flow return.\n",
    "4. Risk adjusted discounted cash flow.<br><br>\n",
    "\n",
    "Note, for this paper, Equity $\\neq$ Surplus (unless told otherwise)."
   ]
  },
  {
   "cell_type": "markdown",
   "metadata": {
    "slideshow": {
     "slide_type": "slide"
    }
   },
   "source": [
    "## General Formulas\n",
    "<br>\n",
    "<center>Premium = $\\frac{(1+LAE)Losses + F}{1- V - Profit}$</center>\n",
    "<br>\n",
    "<center>Combined ratio = V + $\\frac{(1+LAE)Losses + F}{Premium}$</center>\n",
    "<br>\n",
    "<center>Profit = 1 - Combined Ratio</center>"
   ]
  },
  {
   "cell_type": "markdown",
   "metadata": {
    "slideshow": {
     "slide_type": "slide"
    }
   },
   "source": [
    "## CY Investment Income Offset Procedure\n",
    "\n",
    "- <b>General Procedure -</b> We are basically investing all of policyholder supplied funds and looking at the difference between the investment yield and the target profit level.\n",
    "\n",
    "<center><img src='images/Robbin_UW_1_1.JPG'></center>"
   ]
  },
  {
   "cell_type": "markdown",
   "metadata": {
    "slideshow": {
     "slide_type": "subslide"
    }
   },
   "source": [
    "<center><img src='images/Robbin_UW_1.JPG'></center>"
   ]
  },
  {
   "cell_type": "markdown",
   "metadata": {
    "slideshow": {
     "slide_type": "subslide"
    }
   },
   "source": [
    "#### Advantages\n",
    "1. Easy to get the numbers, as they are from filed documents.\n",
    "2. Calculation is short and relatively straight forward.\n",
    "\n",
    "#### Disadvantages\n",
    "1. Lack of economic theory supporting the calculation.\n",
    "2. Results distorted if large change in volume or reserve adequacy.\n",
    "\n"
   ]
  },
  {
   "cell_type": "markdown",
   "metadata": {
    "slideshow": {
     "slide_type": "slide"
    }
   },
   "source": [
    "## Present Value Offset Method\n",
    "\n",
    "- <b>General procedure -</b> Calculate difference between PV of cash flows for reference and target line. Adjust profit based on how the target line's profit compares to that of the reference line.\n",
    "\n",
    "\n",
    "- Options for discount rates:\n",
    "    - Portfolio yield from a recent year.\n",
    "    - Estimated portfolio yield for the year in which the rates will be in effect - More stable and verifiable.\n",
    "    - New money yield - More suitable for prospective ratemaking."
   ]
  },
  {
   "cell_type": "markdown",
   "metadata": {
    "slideshow": {
     "slide_type": "subslide"
    }
   },
   "source": [
    "<center><img src='images/Robbin_UW_2.JPG'></center>"
   ]
  },
  {
   "cell_type": "markdown",
   "metadata": {
    "slideshow": {
     "slide_type": "subslide"
    }
   },
   "source": [
    "UW profit provision for reviewed line = $U^0 - PLR \\cdot(PVx^0-PVx)$\n",
    "\n",
    "<br><br><br>\n",
    "\n",
    "Here, $U^0$ refers to profit provision for the reference line."
   ]
  },
  {
   "cell_type": "markdown",
   "metadata": {
    "slideshow": {
     "slide_type": "subslide"
    }
   },
   "source": [
    "- The premium can be calculated as:<br><br>\n",
    "\n",
    "<center>P = PVL + F + V $\\cdot$P + $U^0 \\cdot$ P + L $\\cdot ( 1 - PVx^0)$</center>\n",
    "$$\\Downarrow$$\n",
    "<center>P = L$\\cdot$PVx + F + V $\\cdot$P + $U^0 \\cdot$ P + L $\\cdot ( 1 - PVx^0)$</center>\n",
    "$$\\Downarrow$$\n",
    "<center>P = F + V $\\cdot$P + $U^0 \\cdot$ P + L $\\cdot ( 1 - (PVx^0 - PVx))$</center>\n",
    "\n",
    "where,<br><br>\n",
    "PVL = PV of losses for the line<br><br>\n",
    "L = full value of losses for the line<br><br>\n",
    "$PVx^0$ = PV factor of losses for the reference line"
   ]
  },
  {
   "cell_type": "markdown",
   "metadata": {
    "slideshow": {
     "slide_type": "subslide"
    }
   },
   "source": [
    "#### Advantages\n",
    "1. Accounts for investment income in a simple manner.\n",
    "2. Not distorted by rapid growth/decline.\n",
    "3. No need to select a target return, or allocate surplus."
   ]
  },
  {
   "cell_type": "markdown",
   "metadata": {
    "slideshow": {
     "slide_type": "slide"
    }
   },
   "source": [
    "## Present Value Cash Flow Return Model\n",
    "\n",
    "- <b>General Procedure -</b> We discount $\\color{green}{\\text{cash flows}}$ (UW cash flow + investment income - tax) at $\\color{green}{\\text{investment rate of return}}$ and discount $\\color{red}{\\text{equity}}$ at $\\color{red}{\\text{target rate of return}}$. Profit is 1 - CR.<br><br>\n",
    "\n",
    "- $\\color{green}{\\text{Investment rate of return}}$ - Used to discount cash flows as this is the yield that is actually being earned.\n",
    "- $\\color{red}{\\text{Target rate of return}}$ - Used to discount equity as this is the target value that the insurer wants to achieve with the cash flows.\n",
    "\n",
    "<br><br>\n",
    "Note, under this method, profit provision is appropriate if the PV(cash flows) = PV(equity flow)"
   ]
  },
  {
   "cell_type": "markdown",
   "metadata": {
    "slideshow": {
     "slide_type": "subslide"
    }
   },
   "source": [
    "<center><img src ='images/Robbin_UW_3_1.JPG'></center>"
   ]
  },
  {
   "cell_type": "markdown",
   "metadata": {
    "slideshow": {
     "slide_type": "subslide"
    }
   },
   "source": [
    "<table><tr><td><img src='images/Robbin_UW_3_2.JPG'></td><td><img src='images/Robbin_UW_3_3.JPG'></td></tr></table>"
   ]
  },
  {
   "cell_type": "markdown",
   "metadata": {
    "slideshow": {
     "slide_type": "subslide"
    }
   },
   "source": [
    "<center><img src ='images/Robbin_UW_3_4.JPG'></center>\n"
   ]
  },
  {
   "cell_type": "markdown",
   "metadata": {
    "slideshow": {
     "slide_type": "subslide"
    }
   },
   "source": [
    "#### Advantage\n",
    "- The PV of UW cash flows is what most people think about with regards to UW profit.\n",
    "\n",
    "#### Disadvantage\n",
    "- Not clear what sort of porfit is being measured. The cash flows do not have the same timing as GAAP income."
   ]
  },
  {
   "cell_type": "markdown",
   "metadata": {
    "slideshow": {
     "slide_type": "slide"
    }
   },
   "source": [
    "## Risk Adjusted Discounted Cash Flow Model\n",
    "\n",
    "- <b>General Procedure -</b> Losses are discounted at risk-adjusted rate while all other UW components are discounted at risk-free rate. Equity is still discounted at investment rate of return. Components are discounted to the END of the first year.\n",
    "\n",
    "- The risk-adjusted rate is calculated using CAPM equation:\n",
    "\n",
    "$$i_r = i_f + \\beta_r \\cdot (i_m - i_f)$$"
   ]
  },
  {
   "cell_type": "markdown",
   "metadata": {
    "slideshow": {
     "slide_type": "subslide"
    }
   },
   "source": [
    "<center><img src ='images/Robbin_UW_4_1.JPG'></center>"
   ]
  },
  {
   "cell_type": "markdown",
   "metadata": {
    "slideshow": {
     "slide_type": "subslide"
    }
   },
   "source": [
    "<table><tr><td><img src='images/Robbin_UW_4_2.JPG'></td><td><img src='images/Robbin_UW_4_3.JPG'></td></tr></table>"
   ]
  },
  {
   "cell_type": "markdown",
   "metadata": {
    "slideshow": {
     "slide_type": "subslide"
    }
   },
   "source": [
    "<center><img src ='images/Robbin_UW_4_4.JPG'></center>\n",
    "\n",
    "- Note, this method is generally used to calculate premium. (unlike in this example)"
   ]
  },
  {
   "cell_type": "markdown",
   "metadata": {
    "slideshow": {
     "slide_type": "subslide"
    }
   },
   "source": [
    "#### Advantages\n",
    "1. Great intuitive appeal.\n",
    "2. Grounded in modern financial theory.\n",
    "3. Not necessary to determine a target rate of return.\n",
    "\n",
    "#### Disadvantage\n",
    "1. Hard to determine beta."
   ]
  },
  {
   "cell_type": "markdown",
   "metadata": {
    "slideshow": {
     "slide_type": "slide"
    }
   },
   "source": [
    "## Two ways in which profit provision can be regulated according to Robbin\n",
    "\n",
    "1. <b>Rate of return approach -</b> Rates should be regulated to ensure that companies are able to achieve an adequate return. \n",
    "    - Supporters of this approach argue that insurers should be regulated similar to utility companies.\n",
    "    - <b>Issue -</b> insurers are not natural monopolies like utility companies since they all have relatively low market shares.\n",
    "2. <b>Constrained free market theory -</b> Premiums will move to an optimal level via market forces. Therefore, direct regulation is not necessary.\n",
    "\n"
   ]
  }
 ],
 "metadata": {
  "celltoolbar": "Slideshow",
  "kernelspec": {
   "display_name": "Python 3",
   "language": "python",
   "name": "python3"
  },
  "language_info": {
   "codemirror_mode": {
    "name": "ipython",
    "version": 3
   },
   "file_extension": ".py",
   "mimetype": "text/x-python",
   "name": "python",
   "nbconvert_exporter": "python",
   "pygments_lexer": "ipython3",
   "version": "3.7.1"
  }
 },
 "nbformat": 4,
 "nbformat_minor": 2
}
