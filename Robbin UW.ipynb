{
 "cells": [
  {
   "cell_type": "markdown",
   "metadata": {
    "slideshow": {
     "slide_type": "slide"
    }
   },
   "source": [
    "Robbin presents several different methods for calculating UW profit provision:\n",
    "\n",
    "1. CY investmnt income offset.\n",
    "2. Present value offset.\n",
    "3. PV cash flow return.\n",
    "4. Risk adjusted discounted cash flow."
   ]
  },
  {
   "cell_type": "markdown",
   "metadata": {
    "slideshow": {
     "slide_type": "slide"
    }
   },
   "source": [
    "## General Formulas\n",
    "\n",
    "<center>Premium = $\\frac{(1+LAE)Losses + F}{1- V - Profit}$</center>\n",
    "<br>\n",
    "<center>Combined ratio = V + $\\frac{(1+LAE)Losses + F}{Premium}$</center>\n",
    "<br>\n",
    "<center>Profit = 1 - Combined Ratio</center>"
   ]
  },
  {
   "cell_type": "markdown",
   "metadata": {
    "slideshow": {
     "slide_type": "slide"
    }
   },
   "source": [
    "## CY Investment Income Offset Procedure\n",
    "\n",
    "- <b>General Procedure -</b> We are basically investing all of our available reserves and looking at the difference between the investment yield and the target profit level.\n",
    "\n",
    "<center><img src='images/Robbin_UW_1_1.JPG'></center>"
   ]
  },
  {
   "cell_type": "markdown",
   "metadata": {
    "slideshow": {
     "slide_type": "subslide"
    }
   },
   "source": [
    "<center><img src='images/Robbin_UW_1.JPG'></center>"
   ]
  },
  {
   "cell_type": "markdown",
   "metadata": {
    "slideshow": {
     "slide_type": "subslide"
    }
   },
   "source": [
    "#### Advantages\n",
    "1. Easy to get the numbers, as they are from filed documents.\n",
    "2. Calculation is short and relatively straight forward.\n",
    "\n",
    "#### Disadvantages\n",
    "1. Lack of economic theory supporting the calculation.\n",
    "2. Results distorted if large change in volume or reserve adequacy.\n",
    "\n"
   ]
  },
  {
   "cell_type": "markdown",
   "metadata": {
    "slideshow": {
     "slide_type": "slide"
    }
   },
   "source": [
    "## Present Value Offset Method\n",
    "\n",
    "- <b>General procedure -</b> Calculate difference between PV of cash flows for reference and target line. Adjust profit based on how the target line's profit compares to that of the reference line.\n",
    "\n",
    "\n",
    "- Options for discount rates:\n",
    "    - Portfolio yield from a recent year.\n",
    "    - Estimated portfolio yield for the year in which the rates will be in effect - More stable and verifiable.\n",
    "    - New money yield - More suitable for prospective ratemaking."
   ]
  },
  {
   "cell_type": "markdown",
   "metadata": {
    "slideshow": {
     "slide_type": "subslide"
    }
   },
   "source": [
    "<center><img src='images/Robbin_UW_2.JPG'></center>"
   ]
  },
  {
   "cell_type": "markdown",
   "metadata": {
    "slideshow": {
     "slide_type": "subslide"
    }
   },
   "source": [
    "- The premium can be calculated as:<br><br>\n",
    "\n",
    "<center>P = PVL + F + V $\\cdot$P + $U^0 \\cdot$ P + L $\\cdot ( 1 - PVx^0)$</center>\n",
    "$$\\Downarrow$$\n",
    "<center>P = L$\\cdot$PVx + F + V $\\cdot$P + $U^0 \\cdot$ P + L $\\cdot ( 1 - PVx^0)$</center>\n",
    "$$\\Downarrow$$\n",
    "<center>P = F + V $\\cdot$P + $U^0 \\cdot$ P + L $\\cdot ( 1 - (PVx^0 - PVx))$</center>\n",
    "\n",
    "where,<br><br>\n",
    "PVL = PV of losses for the line<br><br>\n",
    "L = full value of losses for the line<br><br>\n",
    "$PVx^0$ = PV factor of losses for the reference line"
   ]
  },
  {
   "cell_type": "markdown",
   "metadata": {
    "slideshow": {
     "slide_type": "subslide"
    }
   },
   "source": [
    "#### Advantages\n",
    "1. Accounts for investment income in a simple manner.\n",
    "2. Not distorted by rapid growth/decline.\n",
    "3. No need to select a target return, or allocate surplus."
   ]
  },
  {
   "cell_type": "markdown",
   "metadata": {
    "slideshow": {
     "slide_type": "slide"
    }
   },
   "source": [
    "## Present Value Cash Flow Return Model\n",
    "\n",
    "- <b>General Procedure -</b> We discount $\\color{green}{\\text{cash flows}}$ (UW cash flow + investment income - tax) at $\\color{green}{\\text{investment rate of return}}$ and discount $\\color{red}{\\text{equity}}$ at $\\color{red}{\\text{target rate of return}}$. Profit is 1 - CR.<br><br>\n",
    "\n",
    "- <b>Target rate of return -</b> used to discount equity as this is the target value that the insurer wants to achieve with the cash flows.\n",
    "- <b>Investment rate of return -</b> used to discount cash flows as this is the yield that is actually being earned.\n"
   ]
  }
 ],
 "metadata": {
  "celltoolbar": "Slideshow",
  "kernelspec": {
   "display_name": "Python 3",
   "language": "python",
   "name": "python3"
  },
  "language_info": {
   "codemirror_mode": {
    "name": "ipython",
    "version": 3
   },
   "file_extension": ".py",
   "mimetype": "text/x-python",
   "name": "python",
   "nbconvert_exporter": "python",
   "pygments_lexer": "ipython3",
   "version": "3.7.1"
  }
 },
 "nbformat": 4,
 "nbformat_minor": 2
}
