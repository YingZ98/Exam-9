{
 "cells": [
  {
   "cell_type": "markdown",
   "metadata": {
    "slideshow": {
     "slide_type": "slide"
    }
   },
   "source": [
    "## Intro\n",
    "\n",
    "This paper talks about various risk linked securities that can be used to transfer the risk from the insurer to other markets."
   ]
  },
  {
   "cell_type": "markdown",
   "metadata": {
    "slideshow": {
     "slide_type": "slide"
    }
   },
   "source": [
    "## Reasons Why Earlier Attempts at Using CAT Futures, CAT Puts and Calls Failed\n",
    "\n",
    "1. Thinness of the market.\n",
    "2. Possible counterparty risk on the occurence of a major catastrophe.\n",
    "3. Insurers wanting to avoid disrupting long-term relationships with reinsurers. \n",
    "4. Excessive basis risk."
   ]
  },
  {
   "cell_type": "markdown",
   "metadata": {
    "slideshow": {
     "slide_type": "subslide"
    }
   },
   "source": [
    "<b>Basis risk:</b> Risk that the payment by the financial instrument may not be highly correlated with the insurer's actual losses."
   ]
  },
  {
   "cell_type": "markdown",
   "metadata": {
    "slideshow": {
     "slide_type": "slide"
    }
   },
   "source": [
    "## Reasons why Contingency Notes Failed\n",
    "\n",
    "1. Investors were exposed to the general business risks of the insurer (insurer could default on notes).\n",
    "2. Investors could withdraw the funds from the trust, in which case insurer would need to repay the trust."
   ]
  },
  {
   "cell_type": "markdown",
   "metadata": {
    "slideshow": {
     "slide_type": "slide"
    }
   },
   "source": [
    "## CAT Bonds Structure\n",
    "\n",
    "- They are part of event-linked bonds.\n",
    "\n",
    "<center><img src='images/CAT_Bonds.JPG'></center>"
   ]
  },
  {
   "cell_type": "markdown",
   "metadata": {
    "slideshow": {
     "slide_type": "subslide"
    }
   },
   "source": [
    "#### Benefits of setting up single purpose reinsurer (SPR)\n",
    "1. Shields the investors from the general business risk of the insurer.\n",
    "2. Financial costs for the insurer will be lower.\n",
    "3. Transaction is more transparent than a debt issue because the funds are held in a trust and released according to very specific criteria."
   ]
  },
  {
   "cell_type": "markdown",
   "metadata": {
    "slideshow": {
     "slide_type": "slide"
    }
   },
   "source": [
    "## CAT Bond Triggers\n",
    "\n",
    "1. <b>Indemnity triggers:</b> The payouts are based on the sponsoring insurer's actual losses.<br><br>\n",
    "2. <b>Index triggers:</b> The payouts are based on an index of industry losses. Possible indices:\n",
    "    1. <b>Industry loss indices:</b> The estimated losses to the industry from an event.\n",
    "    2. <b>Modeled loss indices:</b> Runs the parameters of the event through a CAT model to generate :\n",
    "        1. Industry losses, or\n",
    "        2. losses specific to the sponsoring insurer.\n",
    "    3. <b>Parametric indices:</b> Triggered by specified physical measures of an event. (EQ Magnitude, etc.)<br><br>\n",
    "3. <b>Hybrid triggers:</b> These blend more than one trigger."
   ]
  },
  {
   "cell_type": "markdown",
   "metadata": {
    "slideshow": {
     "slide_type": "slide"
    }
   },
   "source": [
    "<center><img src='images/CAT_Bond_Triggers.JPG'></center>"
   ]
  },
  {
   "cell_type": "markdown",
   "metadata": {
    "slideshow": {
     "slide_type": "slide"
    }
   },
   "source": [
    "## Reasons CAT Bonds Used Over Reinsurers\n",
    "\n",
    "1. Lower credit risk since CAT bonds are much safer as they are fully collateralized.<br><br>\n",
    "2. The highest layers usually have the highest reinsurance profit margins. Investors are willing to accept lower spreads from CAT bonds because they offer diversification benefits: CAT events usually have low correlations to investment returns.<br><br>\n",
    "3. Multi-year feature shelter the insurer from fluctuations in reinsurance prices."
   ]
  },
  {
   "cell_type": "markdown",
   "metadata": {
    "slideshow": {
     "slide_type": "slide"
    }
   },
   "source": [
    "## CAT Bonds vs Reinsurance Pricing\n",
    "\n",
    "- <b>Rate on Line (ROL) =</b> $\\frac{\\text{Reinsurance Premium}}{\\text{Policy Limit}}$<br><br>\n",
    "- <b>Loss on Line (LOL) =</b> $\\frac{\\text{Expected Loss}}{\\text{Policy Limit}}$\n",
    "\n",
    "<br><br>\n",
    "- $\\frac{ROL}{LOL} = \\frac{\\text{Reinsurance Premium}}{\\text{Expected Loss}} \\sim$ yield on CAT bonds."
   ]
  },
  {
   "cell_type": "markdown",
   "metadata": {
    "slideshow": {
     "slide_type": "slide"
    }
   },
   "source": [
    "## Sidecars\n",
    "\n",
    "- <b>Purpose:</b> Provide additional capacity to write reinsurance for insurer/reinsurer.\n",
    "    - Only available to single insurer/reinsurer.\n",
    "    \n",
    "- Sidecars are mainly capitalized by private investors, but can be funded by insurers and reinsurers.\n",
    "\n",
    "#### Advantages\n",
    "- Transactions are usually <b>off-balance sheet,</b> and therefore the sidecars can be used to improve the reinsurer's leverage.\n",
    "- Can be formed quickly with minimal documentation/adminstrative costs."
   ]
  },
  {
   "cell_type": "markdown",
   "metadata": {
    "slideshow": {
     "slide_type": "slide"
    }
   },
   "source": [
    "## CAT Equity Puts\n",
    "\n",
    "- Insurer receives the option to issue preferred stock to the writer at a specified price on the occurence of a specified event.\n",
    "\n",
    "#### Advantages\n",
    "- Insurer will be able to raise equity after a catastrophe, when its stock price is likely to be depressed.\n",
    "- Lower transaction costs than CAT bonds, as no need to form a SPR.\n",
    "\n",
    "#### Disadvantages\n",
    "- Not collateralized, so exposes the insurer to credit risk.\n",
    "- If the insurer issues preferred stock, the value of the existing shares will be diluted."
   ]
  },
  {
   "cell_type": "markdown",
   "metadata": {
    "slideshow": {
     "slide_type": "slide"
    }
   },
   "source": [
    "## CAT Risk Swaps\n",
    "\n",
    "- <b>Structure:</b> Two reinsurers in different regions might take on each other's insurance exposure.\n",
    "- A specified amount of money needs to be paid by each reinsurer in the occurence of a specified event.\n",
    "- <b>Parity:</b> No money is exchanged at the inception due to equal expected losses.\n",
    "\n",
    "#### Advantages\n",
    "1. Reinsurer reduces some of its core risk, and achieves diversification.\n",
    "2. Lower transaction costs than some of the other securities.\n"
   ]
  },
  {
   "cell_type": "markdown",
   "metadata": {
    "slideshow": {
     "slide_type": "subslide"
    }
   },
   "source": [
    "#### Disadvantages\n",
    "1. It is difficult to create a swap that achieves parity.\n",
    "2. Can create more exposure to basis risk than some other types of contracts.\n",
    "3. Not prefunded. (Credit risk exists)"
   ]
  },
  {
   "cell_type": "markdown",
   "metadata": {
    "slideshow": {
     "slide_type": "slide"
    }
   },
   "source": [
    "## Industry Loss Warranties (ILW)\n",
    "\n",
    "- <b>Purpose:</b> Possible that risk-linked securities might not be treated as reinsurance by regulators. An ILW is one type of security that does not suffer from this problem.\n",
    "<br><br>\n",
    "- This security has <b>dual-triggers</b> that need to be satisfied for loss to be paid:\n",
    "    - <b>Retention trigger:</b> based on the incurred loss of the insurer.\n",
    "    - <b>Warranty trigger:</b> based on an industry wide loss index."
   ]
  },
  {
   "cell_type": "markdown",
   "metadata": {
    "slideshow": {
     "slide_type": "subslide"
    }
   },
   "source": [
    "- ILWs have two categories of payments that can be made:\n",
    "    - <b>Binary trigger:</b> full payment is made once both triggers are satisfied.\n",
    "    - <b>Pro rata trigger:</b> Payoff depends on the magnitude by which the loss exceeds the warranty."
   ]
  }
 ],
 "metadata": {
  "celltoolbar": "Slideshow",
  "kernelspec": {
   "display_name": "Python 3",
   "language": "python",
   "name": "python3"
  },
  "language_info": {
   "codemirror_mode": {
    "name": "ipython",
    "version": 3
   },
   "file_extension": ".py",
   "mimetype": "text/x-python",
   "name": "python",
   "nbconvert_exporter": "python",
   "pygments_lexer": "ipython3",
   "version": "3.7.1"
  }
 },
 "nbformat": 4,
 "nbformat_minor": 2
}
