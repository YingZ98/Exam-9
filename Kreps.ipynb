{
 "cells": [
  {
   "cell_type": "markdown",
   "metadata": {
    "slideshow": {
     "slide_type": "slide"
    }
   },
   "source": [
    "## Overview\n",
    "\n",
    "- Paper looks at ways of allocating the cost of capital rather than allocating capital itself.\n",
    "    - Can then be used to derive the risk load.\n",
    "- Paper discusses several formulas for allocating risk loads.\n",
    "<br><br>\n",
    "- We use <b>riskiness leverage ratio</b> to incorporate management's views towards risk."
   ]
  },
  {
   "cell_type": "markdown",
   "metadata": {
    "slideshow": {
     "slide_type": "subslide"
    }
   },
   "source": [
    "- Mean of liabilities is supported by reserves and variability is supported by surplus."
   ]
  },
  {
   "cell_type": "markdown",
   "metadata": {
    "slideshow": {
     "slide_type": "slide"
    }
   },
   "source": [
    "## The Framework\n",
    "<br>\n",
    "\n",
    "<center>X = liability</center>\n",
    "<center>$\\mu$ = mean of X (booked liabilities)</center>\n",
    "<center>C = capital to support X (total assets)</center>\n",
    "<center>R = risk load for X (surplus)</center>\n",
    "<br><br>\n",
    "<center>C = $\\mu$ + R</center>"
   ]
  },
  {
   "cell_type": "markdown",
   "metadata": {
    "slideshow": {
     "slide_type": "subslide"
    }
   },
   "source": [
    "- Some variables act as hedge if they are below the mean, which causes them to have a negative risk loads."
   ]
  },
  {
   "cell_type": "markdown",
   "metadata": {
    "slideshow": {
     "slide_type": "slide"
    }
   },
   "source": [
    "## Risk Loads\n",
    "<br>\n",
    "<center>R (risk load) = $\\int$ dx f(x) r(x)</center>\n",
    "\n",
    "where, r(x) = (x-$\\mu$) L(x)\n",
    "\n",
    "- The equations shows that risk load is prob. wtd. avg. of risk loads over outcomes of the total loss."
   ]
  },
  {
   "cell_type": "markdown",
   "metadata": {
    "slideshow": {
     "slide_type": "slide"
    }
   },
   "source": [
    "## Leverage Models\n",
    "\n",
    "#### Variance\n",
    "\n",
    "- The whole distribution is relevant.\n",
    "\n",
    "$$L(x) = \\frac{\\beta}{S} (x-\\mu)$$"
   ]
  },
  {
   "cell_type": "markdown",
   "metadata": {
    "slideshow": {
     "slide_type": "subslide"
    }
   },
   "source": [
    "#### TVaR\n",
    "\n",
    "- The riskiness leverage ratio is 0 up to a point, and then constant.\n",
    "\n",
    "$$L(x) = \\frac{\\theta(x-x_q)}{1-q}$$\n",
    "\n",
    "where, q = desired percentage for TVaR(95% etc.)"
   ]
  },
  {
   "cell_type": "markdown",
   "metadata": {
    "slideshow": {
     "slide_type": "subslide"
    }
   },
   "source": [
    "#### VaR\n",
    "\n",
    "- The riskiness leverage is 0 except for the desired point ($x_q$).\n",
    "\n",
    "$$L(x) = \\frac{\\delta(x-x_q)}{f(x_q)}$$"
   ]
  },
  {
   "cell_type": "markdown",
   "metadata": {
    "slideshow": {
     "slide_type": "subslide"
    }
   },
   "source": [
    "#### SVaR (Semi-Variance)\n",
    "\n",
    "- Risk loads are non-zero for results that are greater than the mean.\n",
    "\n",
    "$$L(x) = \\frac{\\beta}{S}(x-\\mu)\\theta(x-\\mu)$$\n",
    "\n",
    "#### Mean Downside Deviation\n",
    "\n",
    "- Assigns capital for bad outcomes in proportion to how bad they are.\n",
    "\n",
    "$$L(x) = \\beta \\cdot \\frac{\\theta(x-\\mu)}{1-F(\\mu)}$$"
   ]
  },
  {
   "cell_type": "markdown",
   "metadata": {
    "slideshow": {
     "slide_type": "subslide"
    }
   },
   "source": [
    "#### Proportional Excess\n",
    "\n",
    "- The allocation is pro-rate to its contribution to the excess over the mean."
   ]
  },
  {
   "cell_type": "markdown",
   "metadata": {
    "slideshow": {
     "slide_type": "slide"
    }
   },
   "source": [
    "## Management's Desired Properties of the Riskiness Leverage Ratio\n",
    "\n",
    "1. Be a downside measure.\n",
    "2. Be roughly constant for excess that is small compared to capital.\n",
    "3. Becomes much larger for excess that significantly impacts capital.\n",
    "4. Reduces to 0 (or at least doesn't increase) for excess that significantly exceeds capital."
   ]
  },
  {
   "cell_type": "markdown",
   "metadata": {
    "slideshow": {
     "slide_type": "slide"
    }
   },
   "source": [
    "## Regulator's Preferences of the Riskiness Leverage\n",
    "\n",
    "1. Be 0 until the capital is seriously impacted.\n",
    "2. Not decrease (for excess that significantly exceeds capital) because of the risk to the state guaranty fund."
   ]
  }
 ],
 "metadata": {
  "celltoolbar": "Slideshow",
  "kernelspec": {
   "display_name": "Python 3",
   "language": "python",
   "name": "python3"
  },
  "language_info": {
   "codemirror_mode": {
    "name": "ipython",
    "version": 3
   },
   "file_extension": ".py",
   "mimetype": "text/x-python",
   "name": "python",
   "nbconvert_exporter": "python",
   "pygments_lexer": "ipython3",
   "version": "3.7.1"
  }
 },
 "nbformat": 4,
 "nbformat_minor": 2
}
