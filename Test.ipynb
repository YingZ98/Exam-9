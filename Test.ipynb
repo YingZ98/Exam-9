{
 "cells": [
  {
   "cell_type": "markdown",
   "metadata": {
    "slideshow": {
     "slide_type": "slide"
    }
   },
   "source": [
    "- Portfolios to the northwest (of P) in the risk-return plane always dominate.\n",
    "- However, portfolios in the southwest and northeast can be equivalent or offer better risk-return\n",
    "    - portfolios on the indifference curve offer the same risk-return(aka utility) as portfolio P\n",
    "<br>\n",
    "<center><img src=\"images/indifference_curve.jpg\"></center>\n",
    "\n",
    "- Note: indifference curve with Utility of .09 is always going to have 4% higher expected return than an indifference curve with Utility of .05 \n",
    "    - If you take difference of Utility functions, the E(r) of $U_9$ would be 4% higher"
   ]
  }
 ],
 "metadata": {
  "celltoolbar": "Slideshow",
  "kernelspec": {
   "display_name": "Python 3",
   "language": "python",
   "name": "python3"
  },
  "language_info": {
   "codemirror_mode": {
    "name": "ipython",
    "version": 3
   },
   "file_extension": ".py",
   "mimetype": "text/x-python",
   "name": "python",
   "nbconvert_exporter": "python",
   "pygments_lexer": "ipython3",
   "version": "3.7.1"
  }
 },
 "nbformat": 4,
 "nbformat_minor": 2
}
