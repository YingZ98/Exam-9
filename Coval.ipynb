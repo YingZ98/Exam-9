{
 "cells": [
  {
   "cell_type": "markdown",
   "metadata": {
    "slideshow": {
     "slide_type": "slide"
    }
   },
   "source": [
    "## Asset Backed Security Collateralized Debt Obligation a.k.a ABS CDO\n",
    "\n",
    "- ABSs were part of structured securities that were created by pooling together various risky securities.\n",
    "- The prioritization scheme made some of the tranches safer than the average underlying assets.\n",
    "- An entity can create ABS to remove certain financial asset from its balance sheet.\n",
    "    - The credit risk of the asset will be transferred to the purchasers of the securities.\n",
    "- The senior tranches can get AAA rating even if the underlying assets are not AAA rated.\n",
    "    - Assumes the underlying assets are not highly correlated.\n",
    "- Junior tranches are the most sensitive to default probability estimates."
   ]
  },
  {
   "cell_type": "markdown",
   "metadata": {
    "slideshow": {
     "slide_type": "slide"
    }
   },
   "source": [
    "<center><img src='images/ABS_Defaults.JPG'></center>"
   ]
  },
  {
   "cell_type": "markdown",
   "metadata": {
    "slideshow": {
     "slide_type": "slide"
    }
   },
   "source": [
    "## CDO$^2$\n",
    "\n",
    "- Due to high level of risk, mezzanine tranches can often be difficult to sell. To sell them more easily, they were repackaged into ABS CDO or CDO$^2$.\n",
    "- Senior tranches again received AAA rating in general.\n",
    "    - Only valid if the different tranches are independent.\n",
    "    - Amplifies risk if the securities are correlated."
   ]
  },
  {
   "cell_type": "markdown",
   "metadata": {
    "slideshow": {
     "slide_type": "slide"
    }
   },
   "source": [
    "## Systematic Risk\n",
    "\n",
    "- Non-systemic risk is diversified away due to pooling of various securities.\n",
    "- Senior tranche most exposed to systematic risk $\\rightarrow$ payoff similar to that of a broad market index fund.\n",
    "- Due to higher systematic risk, these securities need to offer higher expected returns than single name bonds with similar risk.\n",
    "    - Empirical data shows inadequate risk premium."
   ]
  },
  {
   "cell_type": "markdown",
   "metadata": {
    "slideshow": {
     "slide_type": "slide"
    }
   },
   "source": [
    "## Impact of Correlation and Default Probability on Tranches\n",
    "\n",
    "<center><img src='images/Payoff_CDO.JPG'></center>\n",
    "<center><img src='images/Payoff_CDO_1.JPG'></center>"
   ]
  },
  {
   "cell_type": "markdown",
   "metadata": {
    "slideshow": {
     "slide_type": "subslide"
    }
   },
   "source": [
    "<center><img src='images/Payoff_CDO2.JPG'></center>"
   ]
  },
  {
   "cell_type": "markdown",
   "metadata": {
    "slideshow": {
     "slide_type": "subslide"
    }
   },
   "source": [
    "<center><img src='images/Payoff_CDO_prob.JPG'></center>\n",
    "<center><img src='images/Payoff_CDO_1_prob.JPG'></center>"
   ]
  },
  {
   "cell_type": "markdown",
   "metadata": {
    "slideshow": {
     "slide_type": "subslide"
    }
   },
   "source": [
    "<center><img src='images/Payoff_CDO2_prob.JPG'></center>"
   ]
  },
  {
   "cell_type": "markdown",
   "metadata": {
    "slideshow": {
     "slide_type": "slide"
    }
   },
   "source": [
    "## Roles of Different Entities in ABS Market\n",
    "\n",
    "#### Rating Agencies\n",
    "- Historically, they only rated single-name securities.\n",
    "    - Didn't have to account for correlation.\n",
    "- Rating of structured finance instruments gave an illusion that they were comparable to traditional single-name securities.\n",
    "- Rated them very highly for the amount of risk involved.\n",
    "- Did not understand the impact of errors in the correlation assumptions on the default probabilities.\n",
    "- Assumed that housing prices would always appreciate.\n",
    "- Conflict of interest - issuers paid for credit rating.\n",
    "\n"
   ]
  },
  {
   "cell_type": "markdown",
   "metadata": {
    "slideshow": {
     "slide_type": "subslide"
    }
   },
   "source": [
    "#### Investors\n",
    "- Believed that they were great investments due to the high credit ratings and lack of historical data.\n",
    "\n",
    "\n",
    "#### Issuers\n",
    "- A large portion of the CDOs issued over the last decade were backed by subprime residential mortgages. \n",
    "    - Since this is a new phenomenon, there's very little historical data on defaults.\n",
    "    - Error in parameter estimates and magnifying effect of re-securitization, led to huge losses.\n",
    "- Subprime residential mortgages backed securities were repackaged into CMO (basically same as CDO$^2$)"
   ]
  },
  {
   "cell_type": "markdown",
   "metadata": {
    "slideshow": {
     "slide_type": "subslide"
    }
   },
   "source": [
    "#### Economy\n",
    "- In the last decade, the subprime mortgage market has increased dramatically.\n",
    "- Quality of subprime borrowers has deteriorated.\n",
    "    - Ratio of mortgage to home prices increased.\n",
    "    - Increased use of second lien loans.\n",
    "    - Increased issuance of mortgages with low/no documentation.\n",
    "    \n",
    "#### Banks\n",
    "- Kept dealing with structured finances even though the UW standards fell due to short-term profits.\n",
    "- Banks held senior tranches as capital requirements were low (due to high rating)."
   ]
  },
  {
   "cell_type": "markdown",
   "metadata": {
    "slideshow": {
     "slide_type": "slide"
    }
   },
   "source": [
    "## Properties of CMOs That Contributed to Financial Crisis\n",
    "\n",
    "- Higher probability of default due to lower credit quality of borrowers.\n",
    "- Lower recovery values because when the assets need to be sold, they are often sold under financial pressure.\n",
    "- High level of default correlation due to pooling of mortgages from similar geographic areas/vintages.\n",
    "- Due to the CDO$^2$ structure, the impact of errors in the estimates is magnified."
   ]
  }
 ],
 "metadata": {
  "celltoolbar": "Slideshow",
  "kernelspec": {
   "display_name": "Python 3",
   "language": "python",
   "name": "python3"
  },
  "language_info": {
   "codemirror_mode": {
    "name": "ipython",
    "version": 3
   },
   "file_extension": ".py",
   "mimetype": "text/x-python",
   "name": "python",
   "nbconvert_exporter": "python",
   "pygments_lexer": "ipython3",
   "version": "3.7.1"
  }
 },
 "nbformat": 4,
 "nbformat_minor": 2
}
