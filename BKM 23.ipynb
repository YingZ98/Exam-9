{
 "cells": [
  {
   "cell_type": "markdown",
   "metadata": {
    "slideshow": {
     "slide_type": "skip"
    }
   },
   "source": [
    "## BKM 23.3"
   ]
  },
  {
   "cell_type": "markdown",
   "metadata": {
    "slideshow": {
     "slide_type": "skip"
    }
   },
   "source": [
    "## BKM 23.4"
   ]
  },
  {
   "cell_type": "markdown",
   "metadata": {
    "slideshow": {
     "slide_type": "slide"
    }
   },
   "source": [
    "## Swaps\n",
    "\n",
    "- <b>Definition:</b> They are multiperiod extensions of forward contracts where you exchange one security for another at a set price.\n",
    "\n",
    "#### Advantage of Swaps\n",
    "- They enable managers to quickly, cheaply and anonymously restructure the balance sheet.\n"
   ]
  },
  {
   "cell_type": "markdown",
   "metadata": {
    "slideshow": {
     "slide_type": "subslide"
    }
   },
   "source": [
    "#### Swaps Examples\n",
    "\n",
    "- A firm can use swaps to convert fixed rate debt to floating rate debt (ideal move if you expect interest rates to go down).\n",
    "    - Enter into swap to receive fixed rate and pay a floating rate.\n",
    "<br><br>\n",
    "- Firm can use <b>foreign exchange swaps</b> to exchange one currecy for another at multiple periods."
   ]
  },
  {
   "cell_type": "markdown",
   "metadata": {
    "slideshow": {
     "slide_type": "slide"
    }
   },
   "source": [
    "## Transforming Floating Rate Debt to Synthetic Fixed Rate Debt\n",
    "\n",
    "<br>\n",
    "\n",
    "<center><img src=\"images/Fig 23.6.JPG\"></center>\n",
    "<center><img src=\"images/Fig 23.6_Eq.JPG\"></center>"
   ]
  },
  {
   "cell_type": "markdown",
   "metadata": {
    "slideshow": {
     "slide_type": "slide"
    }
   },
   "source": [
    "## Credit Risk in Swap Market\n",
    "\n",
    "- The credit risk is not as large as the volume of the aggregate notional principal would imply because payments are based on a factor that's applied to the notional principal.\n",
    "\n",
    "## Credit Default Swaps\n",
    "\n",
    "- Can be purchased on bonds that you don't own.\n",
    "    - Hence, they can be used to speculate on the changes in the credit standing of the reference firms."
   ]
  }
 ],
 "metadata": {
  "celltoolbar": "Slideshow",
  "kernelspec": {
   "display_name": "Python 3",
   "language": "python",
   "name": "python3"
  },
  "language_info": {
   "codemirror_mode": {
    "name": "ipython",
    "version": 3
   },
   "file_extension": ".py",
   "mimetype": "text/x-python",
   "name": "python",
   "nbconvert_exporter": "python",
   "pygments_lexer": "ipython3",
   "version": "3.7.1"
  }
 },
 "nbformat": 4,
 "nbformat_minor": 2
}
