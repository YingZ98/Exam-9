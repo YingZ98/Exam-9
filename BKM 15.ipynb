{
 "cells": [
  {
   "cell_type": "markdown",
   "metadata": {
    "slideshow": {
     "slide_type": "slide"
    }
   },
   "source": [
    "- <b>Yield to maturity</b> - The average return that you expect to earn on a bond if you hold it till maturity.\n",
    "- <b>Spot rate</b> - Same as YTM on a zero-coupon bond. Interest rate that applies from time 0 to t at that <I><U>spot in time</U></I>.\n",
    "- <b>Short rate</b> - Interest rate that will apply during future time interval (t $\\rightarrow$ t+n).\n",
    "- <b>Forward rate</b> - The future expected short rate. Since we don't know future interest rates.\n",
    "    - It basically solves the equation: Yield{n-period zero} = Yield{(n-1)-period zero and 1-year bond}."
   ]
  },
  {
   "cell_type": "markdown",
   "metadata": {
    "slideshow": {
     "slide_type": "slide"
    }
   },
   "source": [
    "- <font color = blue>Short-term investors</font>: Longer term bonds require <b>liquidity premium</b> which causes the forward rate to be higher than the expected short rate.\n",
    "    - Liquidity premium is positive.\n",
    "- <font color = blue>Long-term investors</font>: Investor would not be willing to do a rollover strategy (buy 2 bonds instead of 1) unless the expected short rate was higher than the forward rate.\n",
    "    - Liquidity premium is negative."
   ]
  },
  {
   "cell_type": "markdown",
   "metadata": {
    "slideshow": {
     "slide_type": "slide"
    }
   },
   "source": [
    "## Creating Synthetic Forward Loan\n",
    "\n",
    "We are given the following information about zero-coupon bonds:\n",
    "\n",
    "$$\n",
    "\\begin{array}{c|c|c|c}\n",
    "\\text{Term} & \\text{Price} & \\text{YTM} & \\text{Forward Rate} \\\\\n",
    "\\hline\n",
    "1 & 952.38 & 5\\% & 5\\% \\\\\n",
    "2 & 890 & 6\\% & 7.01\\% \\\\\n",
    "\\end{array}\n",
    "$$\n",
    "\n",
    "- At time 0, buy 1-yr zero and sell 1.0701 units of 2-yr zero. This give net cash flow of 0.\n",
    "- At time 1, 1-yr zero matures and you receive $\\$1,000$ for your loan.\n",
    "- At time 2, we repay $\\$1,000$ * 1.0701 = $\\$1,070.10$"
   ]
  },
  {
   "cell_type": "markdown",
   "metadata": {
    "slideshow": {
     "slide_type": "slide"
    }
   },
   "source": [
    "## Theories of the Term Structure"
   ]
  }
 ],
 "metadata": {
  "celltoolbar": "Slideshow",
  "kernelspec": {
   "display_name": "Python 3",
   "language": "python",
   "name": "python3"
  },
  "language_info": {
   "codemirror_mode": {
    "name": "ipython",
    "version": 3
   },
   "file_extension": ".py",
   "mimetype": "text/x-python",
   "name": "python",
   "nbconvert_exporter": "python",
   "pygments_lexer": "ipython3",
   "version": "3.7.1"
  }
 },
 "nbformat": 4,
 "nbformat_minor": 2
}
