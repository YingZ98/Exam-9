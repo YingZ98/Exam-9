{
 "cells": [
  {
   "cell_type": "markdown",
   "metadata": {
    "slideshow": {
     "slide_type": "slide"
    }
   },
   "source": [
    "- <b>Yield to maturity</b> - The average return that you expect to earn on a bond if you hold it till maturity.\n",
    "- <b>Spot rate</b> - Same as YTM on a zero-coupon bond. Interest rate that applies from time 0 $\\rightarrow$ t at that <b><U>spot/point in time</U></b>.\n",
    "- <b>Short rate</b> - Interest rate that will apply during future time interval (t $\\rightarrow$ t+n).\n",
    "- <b>Forward rate</b> - The future expected short rate. Since we don't know future interest rates.\n",
    "    - It basically solves the equation: $(1+y_n)^n = (1+y_{n-1})^{n-1} \\cdot (1+f_n)$"
   ]
  },
  {
   "cell_type": "markdown",
   "metadata": {
    "slideshow": {
     "slide_type": "slide"
    }
   },
   "source": [
    "- <font color = blue>Short-term investors</font>: Longer term bonds require <b>liquidity premium</b> which causes the forward rate to be higher than the expected short rate.\n",
    "    - Liquidity premium is positive.\n",
    "- <font color = blue>Long-term investors</font>: Investor would not be willing to do a rollover strategy (buy 2 bonds instead of 1) unless the expected short rate was higher than the forward rate.\n",
    "    - Liquidity premium is negative."
   ]
  },
  {
   "cell_type": "markdown",
   "metadata": {
    "slideshow": {
     "slide_type": "slide"
    }
   },
   "source": [
    "## Creating Synthetic Forward Loan\n",
    "\n",
    "We are given the following information about zero-coupon bonds:\n",
    "\n",
    "$$\n",
    "\\begin{array}{c|c|c|c}\n",
    "\\text{Term} & \\text{Price} & \\text{YTM} & \\text{Forward Rate} \\\\\n",
    "\\hline\n",
    "1 & 952.38 & 5\\% & 5\\% \\\\\n",
    "2 & 890 & 6\\% & 7.01\\% \\\\\n",
    "\\end{array}\n",
    "$$\n",
    "\n",
    "- At time 0, buy 1-yr zero and sell 1.0701 units of 2-yr zero. This give net cash flow of 0.\n",
    "- At time 1, 1-yr zero matures and you receive $\\$1,000$ for your loan.\n",
    "- At time 2, we repay $\\$1,000$ * 1.0701 = $\\$1,070.10$"
   ]
  },
  {
   "cell_type": "markdown",
   "metadata": {
    "slideshow": {
     "slide_type": "slide"
    }
   },
   "source": [
    "## Theories of the Term Structure\n",
    "\n",
    "- There are two theories than can explain the shape of the yield curve (whether it slopes up or down):\n",
    "    - Expectation Hypothesis\n",
    "    - Liquidity Preference\n",
    "<br><br>    \n",
    "- <b>Expectation Hypothesis</b>: The forward rate equals the expected future short rate (i.e. $f_2 = E(r_2)$). Therefore, an upward sloping curve is a signal that investors expect rate increases.\n",
    "    - Implies that liquidity premiums are zero.\n",
    "\n"
   ]
  },
  {
   "cell_type": "markdown",
   "metadata": {
    "slideshow": {
     "slide_type": "subslide"
    }
   },
   "source": [
    "#### Liquidity Preference\n",
    "- Assumes that liquidity premium is not equal to zero.\n",
    "- If short-term investors dominate the market, then forward rates will generally exceed the expected short rates. ( most likely scenario)\n",
    "- If long-term investors dominate the market, then forward rates will be lower than the expected short rates.\n",
    "<br><br>\n",
    "<center>$f_n = E(r_n)$ + Liquidity Premium</center>"
   ]
  },
  {
   "cell_type": "markdown",
   "metadata": {
    "slideshow": {
     "slide_type": "slide"
    }
   },
   "source": [
    "## Interpreting the Term Structure\n",
    "\n",
    "- Yield curve can be used to gauge expectation of other investors in the economy regarding the future interest rates.\n",
    "    - Might not give clear picture due to the presence of liquidity premiums.\n",
    "<br><br>\n",
    "- A yield curve will arch upwards if the latest forward rates higher than \"average\" of the previous rates.\n",
    "    - Signaling market expects an expansion in the economy\n",
    "<br><br>\n",
    "- If the yield curve is sloping downwards, it is likely that interest rates are expected to decline.\n"
   ]
  },
  {
   "cell_type": "markdown",
   "metadata": {
    "slideshow": {
     "slide_type": "subslide"
    }
   },
   "source": [
    "- Rough approach to derive expected future spot rates is to assume liquidity premiums are constant. However, there are two issues with this assumption:\n",
    "    - It is very difficult to accurately estimate the liquidity premium\n",
    "    - There is no reason to believe that the liquidity premium is constant"
   ]
  }
 ],
 "metadata": {
  "celltoolbar": "Slideshow",
  "kernelspec": {
   "display_name": "Python 3",
   "language": "python",
   "name": "python3"
  },
  "language_info": {
   "codemirror_mode": {
    "name": "ipython",
    "version": 3
   },
   "file_extension": ".py",
   "mimetype": "text/x-python",
   "name": "python",
   "nbconvert_exporter": "python",
   "pygments_lexer": "ipython3",
   "version": "3.6.3"
  }
 },
 "nbformat": 4,
 "nbformat_minor": 2
}
