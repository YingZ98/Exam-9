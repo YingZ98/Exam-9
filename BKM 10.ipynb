{
 "cells": [
  {
   "cell_type": "markdown",
   "metadata": {
    "slideshow": {
     "slide_type": "slide"
    }
   },
   "source": [
    "## Single Factor Model\n",
    "<br>\n",
    "<center>F = deviation of a factor from its expected value = actual - expected</center>\n",
    "\n",
    "<font color=blue>$$r_i = E(r_i) + \\beta_i*F + e_i$$ </font>\n",
    "$$ \\Updownarrow$$\n",
    "<font color=blue>$$R_i = E(R_i) + \\beta_i*F + e_i$$</font>\n",
    "\n",
    "- In this model, if the factor, F, has a value equal to its expectation then F=0.\n",
    "- Otherwise, this model is basically the same as the one in chapter 8."
   ]
  },
  {
   "cell_type": "markdown",
   "metadata": {
    "slideshow": {
     "slide_type": "slide"
    }
   },
   "source": [
    "## Multifactor Model\n",
    "\n",
    "- We can think of Market factor being composed of several different factors. If we only use a market beta then we assume that the sensitivity of a stock's returns are the same for all the factors that compose the market factor. \n",
    "\n",
    "- With this model we can consider each factor and it's beta, separately.\n",
    "\n",
    "<font color=blue>$$r_i = E(r_i) + \\beta_{i1}*F_1 + + \\beta_{i2}*F_2 + \\ldots + e_i$$ </font>\n",
    "$$ \\Updownarrow$$\n",
    "<font color=blue>$$R_i = E(R_i) + \\beta_{i1}*F_1 + \\beta_{i2}*F_2 + \\ldots + e_i$$</font>\n",
    "\n",
    "- Betas in this model are sometimes referred to as <b>factor betas</b> or <b>factor loading</b>."
   ]
  },
  {
   "cell_type": "markdown",
   "metadata": {
    "slideshow": {
     "slide_type": "slide"
    }
   },
   "source": [
    "## Multifactor SML\n",
    "\n",
    "- We can create tracking portfolios/factor portfolios with beta = 1 for one of the factors only.\n",
    "    - These serve as benchmark portfolios for a multifactor SML.\n",
    "\n",
    "Multifactor SML:\n",
    "$$E(r) = r_f + \\beta_1*(E(r_1)-r_f) + \\beta_2*(E(r_2)-r_f) + \\ldots + \\beta_n*(E(r_n)-r_f)$$\n",
    "$$\\Updownarrow$$\n",
    "$$E(R) = \\beta_1*E(R_1) + \\beta_2*E(R_2) + \\ldots + \\beta_n*E(R_n)$$\n",
    "\n",
    "where, $E(r_1)$ is the expected return on factor portfolio for risk 1.\n",
    "\n",
    "- Individual securties need to approximately satisfy this equation for the well-diversed portfolios to satisfy it as well ."
   ]
  },
  {
   "cell_type": "markdown",
   "metadata": {
    "slideshow": {
     "slide_type": "slide"
    }
   },
   "source": [
    "## Fama French Three Factor Model\n",
    "\n",
    "- This model uses firm characteristics that seem to proxy the exposure to systematic risk.\n",
    "\n",
    "$$R_i = \\alpha_i + \\beta_{iM}*R_{Mt} + \\beta_{iSMB}*SMB_t + \\beta_{iHML}*HML_t + e_{it}$$\n",
    "\n",
    "where,<br>\n",
    "\n",
    "SMB = Small Minus Big; the return of a portfolio of small stocks in excess of the return of a portfolio of large stocks.<br>\n",
    "\n",
    "HML = High Minus Low; the return of a portfolio of high book to market ratio stocks in excess of the return of a portfolio of low book to market ratio stocks.\n",
    "\n",
    "M = Market exposure"
   ]
  },
  {
   "cell_type": "markdown",
   "metadata": {
    "slideshow": {
     "slide_type": "slide"
    }
   },
   "source": [
    "## Arbitrage Pricing Theory\n",
    "\n",
    "- Similar to CAPM, APT predicts a SML linking expected returns to risk.\n",
    "- An <b>arbitrage</b> opportunity exists when an investor can earn <b>riskless profits</b> without making a net investment.\n",
    "- Alternative to arbitrage, the <b>risk-return dominance</b> might also explain the movement of security prices to equilibrium levels\n",
    "\n",
    "<b>Risk-Return Dominance</b> argument: When equilibrium price relationship is violated, many investors will make limited portfolio changes, depending on their degree of risk aversion. The aggregation of these limited portfolio changes create enough volume to restore equilibrium prices.\n",
    "\n",
    "<b>Arbitrage</b> argument: If an investor discovers an arbitrage opportunity they will take as large of a position as possible to maximize profits. This quickly restores price equilibrium. A lower number of investors are therefore needed to move prices back to equilibrium."
   ]
  },
  {
   "cell_type": "markdown",
   "metadata": {
    "slideshow": {
     "slide_type": "subslide"
    }
   },
   "source": [
    "- CAPM is an example of risk-return dominance argument."
   ]
  },
  {
   "cell_type": "markdown",
   "metadata": {
    "slideshow": {
     "slide_type": "slide"
    }
   },
   "source": [
    "## Well-Diversified Portfolios\n",
    "\n",
    "- Using the single factor model, we get the following equation for portfolio retrn:\n",
    "\n",
    "$$r_p = E(r_p) + \\beta_p*F + e_p$$\n",
    "\n",
    "Since this is a well-diversified portfolio, the nonsystematic/firm-specific risk becomes negligible because we know $E(e_p)$ = 0 and the variance goes to 0 using the following logic:\n",
    "\n",
    "$$\\sigma^2(e_p) = \\sum\\left(\\frac{1}{n}\\right)^2\\sigma^2(e_i) = \\frac{1}{n}\\sum\\frac{\\sigma^2(e_i)}{n} = \\frac{1}{n}\\bar{\\sigma}^2(e_i)$$\n",
    "\n",
    "Hence, the single factor model becomes:\n",
    "<font color =blue>$$r_p = E(r_p) + \\beta_p*F \\Longleftrightarrow  R_p = E(R_p) + \\beta_p*F$$</font>"
   ]
  },
  {
   "cell_type": "markdown",
   "metadata": {
    "slideshow": {
     "slide_type": "subslide"
    }
   },
   "source": [
    "<center><img src=\"images/Fig 10.1.JPG\"></center>\n",
    "\n",
    "- We can can see that for a well-diversified portfolio, the return is determined completely by the systematic factor.\n",
    "- For the single stock, it determined by systematic and nonsystematic risk."
   ]
  },
  {
   "cell_type": "markdown",
   "metadata": {
    "slideshow": {
     "slide_type": "slide"
    }
   },
   "source": [
    "## Executing Arbitrage\n",
    "\n",
    "- Assume that a single factor market exists, where the well diversified portfolio, M, represents the market factor F.\n",
    "- Assume we have identified a well-diversified portfolio P with positive alpha.\n",
    "- Neither P nor M have residual risk.\n",
    "\n",
    "<b>Goal:</b> We want to eliminate all risk from P.\n",
    "\n",
    "We will now create portfolio Z which is a combination of P and M.\n",
    "\n",
    "we want, $\\beta_Z = 0$"
   ]
  },
  {
   "cell_type": "markdown",
   "metadata": {
    "slideshow": {
     "slide_type": "subslide"
    }
   },
   "source": [
    "$$\\beta_Z = w_p*\\beta_p + (1 - w_p)\\beta_M = 0$$\n",
    "$$\\Downarrow$$\n",
    "$$w_p*\\beta_p + (1 - w_p) = 0 \\tag{$\\because \\beta_M$ = 1}$$\n",
    "$$\\Downarrow$$\n",
    "$$w_p = \\frac{1}{1 - \\beta_p} \\text{ and } w_M = \\frac{-\\beta_p}{1 - \\beta_p}$$\n",
    "\n",
    "Therefore, portfolio Z is riskless and has the following risk premium:\n",
    "\n",
    "$$E(R_Z) = w_p*\\alpha_p = \\frac{\\alpha_p}{1 - \\beta_p}$$\n",
    "\n"
   ]
  },
  {
   "cell_type": "markdown",
   "metadata": {
    "slideshow": {
     "slide_type": "subslide"
    }
   },
   "source": [
    "- The risk premium on Z must be zero since it is riskless. Else we could make arbitrage profit in the following manner:\n",
    "    - If $\\beta_p$ < 1 then $E(R_z)$ > 0, so we borrow money and invest in portfolio Z, this would make us risk-free profit with zero net investment.\n",
    "    - Similarly, if $\\beta_p$ > 1 then $E(R_z)$ < 0, sell Z short, and invest the proceeds at the risk-free rate.\n"
   ]
  },
  {
   "cell_type": "markdown",
   "metadata": {
    "slideshow": {
     "slide_type": "slide"
    }
   },
   "source": [
    "## No-Arbitrage Equation of APT\n",
    "\n",
    "- The arbitrage activity should quickly drive the alpha of well-diversified portfolio to 0. Therefore, the return of a well-diversified portfolio should be:\n",
    "$$E(R_p) = \\beta_p*E(R_M)$$\n",
    "\n",
    "This is known as <b>APT SML</b>. It can be seen that the APT SML is same as CAPM SML, due to the no-arbitrage requirement of the APT.\n",
    "\n",
    "- As a result, to preclude arbitrage opportunity, expected return of all well-diversified portfolios should lie on SML."
   ]
  },
  {
   "cell_type": "markdown",
   "metadata": {
    "slideshow": {
     "slide_type": "slide"
    }
   },
   "source": [
    "## The APT and CAPM\n",
    "\n",
    "- APT is based on well-diversified portfolios (i.e. no residual risk).\n",
    "- If the portfolio has residual risk (which will happen in real life due to limited securities) then we can't have full confidence in APT.\n",
    "\n",
    "### Advantages of APT over CAPM\n",
    "1. It only requires a small number of sophisticated investors to take advantage of arbitrage opportunities. CAPM assumes that almost all investors are mean-variance optimizers.\n",
    "2. APT only requires market index, where as CAPM requires on an unobserved, all-inclusive portfolio.\n",
    "    - This makes it impossibled to test CAPM.\n",
    "        - We can try substituting broad index portfolio, but then we can't be sure that the risk premiums from CAPM are appropriate."
   ]
  },
  {
   "cell_type": "markdown",
   "metadata": {
    "slideshow": {
     "slide_type": "subslide"
    }
   },
   "source": [
    "- However, at the individual asset level, APT is not sufficient since it doesn't yield proper expected returns in the presence of high residual risk. In this case, we have to use CAPM equation."
   ]
  },
  {
   "cell_type": "markdown",
   "metadata": {
    "slideshow": {
     "slide_type": "slide"
    }
   },
   "source": [
    "## APT Portfolio Optimization in a Single-Index Market\n",
    "\n",
    "- The Treynor-Black procedure, as described in Ch 8, offers more flexibility than the APT.\n",
    "    - If the portfolio with positive alpha has zero residual risk, then similar to APT, T-B model suggests taking infinite position.\n",
    "    - If there is residual risk, then T-B model produces an optimal risky portfolio with specific investment in the portfolio, which reflects the risk."
   ]
  }
 ],
 "metadata": {
  "celltoolbar": "Slideshow",
  "kernelspec": {
   "display_name": "Python 3",
   "language": "python",
   "name": "python3"
  },
  "language_info": {
   "codemirror_mode": {
    "name": "ipython",
    "version": 3
   },
   "file_extension": ".py",
   "mimetype": "text/x-python",
   "name": "python",
   "nbconvert_exporter": "python",
   "pygments_lexer": "ipython3",
   "version": "3.7.1"
  }
 },
 "nbformat": 4,
 "nbformat_minor": 2
}
