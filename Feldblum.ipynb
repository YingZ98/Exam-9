{
 "cells": [
  {
   "cell_type": "markdown",
   "metadata": {
    "slideshow": {
     "slide_type": "slide"
    }
   },
   "source": [
    "- Feldblum uses <b>Internal Rate of Return</b> and <b>Net Present Value</b> calculation to determine whether a project should be pursued.\n",
    "    - There are some issues with IRR hence he recommends using NPV instead."
   ]
  },
  {
   "cell_type": "markdown",
   "metadata": {
    "slideshow": {
     "slide_type": "slide"
    }
   },
   "source": [
    "## IRR Model\n",
    "\n",
    "- The IRR analysis compares the IRR to the Opportunity Cost of Capital. \n",
    "    - Projects are accepted as long as IRR > Opportunity cost of capital.\n",
    "<br><br>\n",
    "- <b>IRR</b>: The rate which sets the NPV of cashflows to 0.\n",
    "- <b>Opportunity Cost of Capital</b>: The investment return that the providers of capital could earn from an alternative investment.\n",
    "<br><br>\n",
    "\n",
    "- Note: The IRR model take the viewpoint of the investors."
   ]
  },
  {
   "cell_type": "markdown",
   "metadata": {
    "slideshow": {
     "slide_type": "slide"
    }
   },
   "source": [
    "## Cash Flow Pattern of Eqity Contributors\n",
    "\n",
    "- The cash flow pattern of equity contributors is opposite to that of the insurers:\n",
    "    - At the start, there is an outflow in the form of surplus provided.\n",
    "    - At the end, there is an inflow of remaining surplus and net UW gain.\n",
    "    "
   ]
  },
  {
   "cell_type": "markdown",
   "metadata": {
    "slideshow": {
     "slide_type": "slide"
    }
   },
   "source": [
    "## Surplus\n",
    "\n",
    "- <b>Surplus Allocation:</b> Surplus needs to be allocated to line. Reserves are often used to allocate surplus (as opposed to premiums) to allocate more surplus to longer-tail lines.<br><br> \n",
    "- If all else is equal, the IRR reduces as the amount of surplus contributed increases.\n",
    "    - Longer-tailed lines have higher allocation of surplus.<br><br>\n",
    "    \n",
    "- Additional surplus is needed if there is a deterioration in reserves.\n",
    "    - The additional surplus generates more investment income which increases IRR and offsets some UW loss."
   ]
  },
  {
   "cell_type": "markdown",
   "metadata": {
    "slideshow": {
     "slide_type": "subslide"
    }
   },
   "source": [
    "#### Surplus Allocation\n",
    "- Surplus is commited when the policy is written and released when policy expires $\\rightarrow$ use <b>written premium</b> to allocate surplus.\n",
    "    - Note, there would be 0 allocated surplus for years when there is no written premium. In case of long tailed-lines, capital would only be allocated for the first year.<br><br>\n",
    "- Surplus is commited when the losses occur and released when losses are paid $\\rightarrow$ use <b>reserves</b> to allocate surplus."
   ]
  },
  {
   "cell_type": "markdown",
   "metadata": {
    "slideshow": {
     "slide_type": "slide"
    }
   },
   "source": [
    "<table><tr><td><img src='images/IRR_1.JPG'></td><td><img src='images/IRR_2.JPG'></td></tr></table>"
   ]
  },
  {
   "cell_type": "markdown",
   "metadata": {
    "slideshow": {
     "slide_type": "slide"
    }
   },
   "source": [
    "## NPV and Issues With IRR\n",
    "\n",
    "- <b>NPV:</b> Discounts all future cash flows to the present date at the opportunity cost of capital.\n",
    "    - Projects with positive NPVs may be accepted.\n",
    "    \n",
    "#### Situations where NPV and IRR might give different recommendations\n",
    "1. Projects with unusual cash flows.\n",
    "2. Projects with budget constraints/Mutually exclusive projects."
   ]
  },
  {
   "cell_type": "markdown",
   "metadata": {
    "slideshow": {
     "slide_type": "subslide"
    }
   },
   "source": [
    "#### Cash Flow Patterns\n",
    "\n",
    "- If the cash flow pattern isn't similar to an outflow followed by inflows or vice versa, then you might end up with <b>two or more positive roots to the IRR</b>.\n",
    "    - Generally caused by simplification of payments.\n",
    "    \n",
    "#### Mutually Exclusive Projects\n",
    "- The IRR analysis assumes that the revenues are reinvested at the IRR.\n",
    "    - This is very unlikely to happen.\n",
    "    - NPV does not make this assumption."
   ]
  },
  {
   "cell_type": "markdown",
   "metadata": {
    "slideshow": {
     "slide_type": "subslide"
    }
   },
   "source": [
    "#### Reasons why the mutually exclusive projects problem is rarely an issue for IRR\n",
    "1. If pricing model produces IRR which is greater than the cost of capital, then insurers can use the extra revenue to write more policies (which will grow at IRR). As long as insurer maintains its current UW standards, the \"reinvestment rate\" of revenue is equal to the IRR.<br><br>\n",
    "2. Policies are usually priced using an UW profit provision which sets the IRR = Cost of capital. Again this would mean that the assumptions hold, since IRR = cost of capital = reinvestment rate."
   ]
  },
  {
   "cell_type": "markdown",
   "metadata": {
    "slideshow": {
     "slide_type": "subslide"
    }
   },
   "source": [
    "#### Practical Criticisms of IRR\n",
    "\n",
    "- Regulators may think an insurer is generating enough profits if the following conditions apply:\n",
    "    - 0 < IRR < Cost of Capital; or\n",
    "    - Investment Yield < IRR < Cost of Capital\n",
    "\n",
    "- Since the insurer is earning less than the cost of capital, it is losing money, but the regulator may think this is completely acceptable.<br><br>\n",
    "\n",
    "- NPV is more appropriate in this case since it uses cost of capital to discount cash flows and clearly shows if a project is profitable or not."
   ]
  }
 ],
 "metadata": {
  "celltoolbar": "Slideshow",
  "kernelspec": {
   "display_name": "Python 3",
   "language": "python",
   "name": "python3"
  },
  "language_info": {
   "codemirror_mode": {
    "name": "ipython",
    "version": 3
   },
   "file_extension": ".py",
   "mimetype": "text/x-python",
   "name": "python",
   "nbconvert_exporter": "python",
   "pygments_lexer": "ipython3",
   "version": "3.7.1"
  }
 },
 "nbformat": 4,
 "nbformat_minor": 2
}
