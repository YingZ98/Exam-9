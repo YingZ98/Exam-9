{
 "cells": [
  {
   "cell_type": "markdown",
   "metadata": {
    "slideshow": {
     "slide_type": "slide"
    }
   },
   "source": [
    "<b>Behavioral finance</b> assumes that investors are not rational. \n",
    "\n",
    "- The anomalies in the market can be seen as irrationalities of the individuals.\n",
    "- Arbitrageurs are limited in their ability to force prices to their instrinsic value.\n",
    "\n",
    "\n",
    "\n",
    "#### Categories of irrationalities\n",
    "1. Investors do not always process information correctly and therefore infer incorrect probability distributions about future rates of return.\n",
    "2. Even when investors are given the correct probability distribution of returns, they still often make inconsistent or suboptimal decisions."
   ]
  },
  {
   "cell_type": "markdown",
   "metadata": {
    "slideshow": {
     "slide_type": "slide"
    }
   },
   "source": [
    "## Information Processing - Biases\n",
    "\n",
    "#### Forecasting Errors\n",
    "\n",
    "- Investors give too much weight to recent experience compared to prior beliefs.\n",
    "- Forecasts tend to be too extreme given the level of uncertainty.\n",
    "\n",
    "#### Overconfidence\n",
    "\n",
    "- Investors tend to overestimate the precision of their forecasts.\n",
    "\n",
    "#### Conservatism\n",
    "\n",
    "- Investors are too slow in updating their beliefs in response to new information."
   ]
  },
  {
   "cell_type": "markdown",
   "metadata": {
    "slideshow": {
     "slide_type": "subslide"
    }
   },
   "source": [
    "#### Sample Size Neglect and Representativeness\n",
    "\n",
    "- Investors do not account for sample size, and therefore may infer a pattern based on small sample and extrapolate trends too far into the future."
   ]
  },
  {
   "cell_type": "markdown",
   "metadata": {
    "slideshow": {
     "slide_type": "slide"
    }
   },
   "source": [
    "## Behavioral Biases\n",
    "\n",
    "#### Framing\n",
    "\n",
    "- Decisions are often materially impacted by how the question is framed.\n",
    "\n",
    "#### Mental Accounting\n",
    "\n",
    "- Investors undertake different investment strategies for different accounts.\n",
    "    - Rationally, it would be better to optimize the risk-return profile of the entire portfolio in aggregate.\n",
    "    \n",
    "#### Regret Avoidance\n",
    "\n",
    "- Investors who make unconventional decisions generally have greater regret."
   ]
  },
  {
   "cell_type": "markdown",
   "metadata": {
    "slideshow": {
     "slide_type": "subslide"
    }
   },
   "source": [
    "#### Affect\n",
    "\n",
    "- The good or bad feeling that investors might associate with investing in a stock.\n",
    "\n",
    "#### Prospect Theory\n",
    "\n",
    "- Utility depends on the changes in wealth rather than level of wealth (standard theory)\n",
    "- It shows that investors become risk seeking as they begin to lose money.\n",
    "\n",
    "<center><img src=\"images/Prospect Theory.JPG\"></center>"
   ]
  },
  {
   "cell_type": "markdown",
   "metadata": {
    "slideshow": {
     "slide_type": "slide"
    }
   },
   "source": [
    "## Limits of Arbitrage\n",
    "\n",
    "- We are trying to answer why arbitrageurs don't just take advantage of these biases and try to make profit and correct the stock price.\n",
    "\n",
    "#### Fundamental Risk\n",
    "\n",
    "- The market could act irrationally and mispricing could persist for much longer than expected/desired.\n",
    "\n",
    "#### Implementation Cost\n",
    "\n",
    "- There are various restrictions around short selling stocks, which limit the arbitrage activity.\n",
    "\n",
    "#### Model Risk\n",
    "\n",
    "- It could be that the stock is priced correctly and, instead, the arbitrageur's model is incorrect."
   ]
  },
  {
   "cell_type": "markdown",
   "metadata": {
    "slideshow": {
     "slide_type": "slide"
    }
   },
   "source": [
    "## Violations of the Law of One Price\n",
    "\n",
    "#### Siamese Twin Companies\n",
    "\n",
    "- Royal Dutch sold for more than 150% price of Shell for an extended period of time.\n",
    "    - They were splitting profits 60/40\n",
    "    \n",
    "#### Equity Carve-outs\n",
    "\n",
    "- Each 3Com shareholder received 1.5 shares of Palm\n",
    "- 3Com shares should have been atleast 1.5 times the value of Palm shares, but instead, Palm shares sold for more than 3Com.\n",
    "- Arbitrageurs could not exploit mispricing because all Palm shares had been short sold.\n"
   ]
  },
  {
   "cell_type": "markdown",
   "metadata": {
    "slideshow": {
     "slide_type": "subslide"
    }
   },
   "source": [
    "#### Closed-End Funds\n",
    "\n",
    "- They trade for a discount or premium to their net asset value (NAV). This is not a true violation because incurred expenses reduce the share price.\n",
    "- Premium over the NAV can be derived as follows:\n",
    "\n",
    "$$\\text{Premium = }\\frac{Price - NAV}{NAV} = \\frac{\\alpha - \\epsilon}{\\delta + \\epsilon - \\alpha} = \\frac{\\alpha - \\epsilon}{\\delta -(\\alpha - \\epsilon)}$$\n",
    "\n",
    "where, $\\delta$ = dividend yield, $\\alpha$ = alpha, $\\epsilon$ = expense ratio\n",
    "\n",
    "- If $\\alpha$ > $\\epsilon$ then the fund will sell at a premium, else at a discount."
   ]
  },
  {
   "cell_type": "markdown",
   "metadata": {
    "slideshow": {
     "slide_type": "slide"
    }
   },
   "source": [
    "## Behavioral Critiques\n",
    "\n",
    "- Many economists think behavioral approach is too <b>unstructured</b>: it allows virtually any anomally to be explained by a combination of irrationalities. These economists would much rather have behavioral theory that can explain a range of behavioral anomalies.\n",
    "<br><br>\n",
    "- Some anomalies are <b>inconsistent</b> in their support for one irrationality vs another.\n",
    "    - Long-term correction explained as overreaction.\n",
    "    - Long-term continuations of abnormal returns described as underreaction.\n",
    "<br><br>\n",
    "- Selecting the <b>wrong benchmark</b> can produce an apparent abnormality."
   ]
  },
  {
   "cell_type": "markdown",
   "metadata": {
    "slideshow": {
     "slide_type": "slide"
    }
   },
   "source": [
    "## Technical Analysis and Behavioral Finance\n",
    "\n",
    "- The <b>disposition effect</b>, where investors hold on to their losing investments, leading to sluggish price movements.\n",
    "    - Technical analysts (TA) can identify and explot this.\n",
    "<br><br>    \n",
    "- The use of <b>volume data</b> may be linked to behavioral characteristic of <b>overconfidence</b>. Overconfident investors trade more, producing a relationship between trading volume and market returns.\n",
    "<br><br>\n",
    "- Market fundamentals can be disturbed by <b>irrational or behavioral factors</b>. TAs can exploit this correction."
   ]
  },
  {
   "cell_type": "markdown",
   "metadata": {
    "slideshow": {
     "slide_type": "slide"
    }
   },
   "source": [
    "## Trends & Corrections\n",
    "\n",
    "#### Moving Averages\n",
    "\n",
    "- Try to find momentum in stock prices\n",
    "- Could use simple <b>50 day moving average</b>\n",
    "- Another method is <b>Elliot wave theory</b>, which decomposes the actual movements into long-term and short-term wave cycles.\n",
    "- Another method is <b>Kondratieff waves</b>, which asserts that macroeconomy moves in broad waves lasting between 48-60 years.\n",
    "\n",
    "#### Relative Strength\n",
    "\n",
    "- Measures how stock has performed relative to a benchmark."
   ]
  },
  {
   "cell_type": "markdown",
   "metadata": {
    "slideshow": {
     "slide_type": "subslide"
    }
   },
   "source": [
    "#### Breadth\n",
    "\n",
    "- The measurement of the extent to which market movements are reflected widely in price movement of all stocks.\n",
    "    - Calculated as #Advancing stocks - #Declining stocks\n",
    "\n",
    "<center><img src=\"images/Breadth.JPG\"></center>"
   ]
  },
  {
   "cell_type": "markdown",
   "metadata": {
    "slideshow": {
     "slide_type": "slide"
    }
   },
   "source": [
    "## Sentiment Indicators\n",
    "\n",
    "#### Trin Statistic\n",
    "\n",
    "- Used to measure the strength of a market rise or fall. \n",
    "- Technicians want to see price changes with higher trading volume.\n",
    "<br><br>\n",
    "<center>$\\text{Trin = } \\frac{\\text{Volume declining }/\\text{ Number declining}}{\\text{Volume advancing }/\\text{ Number advancing}}$</center>\n",
    "<br>\n",
    "- Ratios over 1 are bearish - Could also be that there is buying activity in declining issues."
   ]
  },
  {
   "cell_type": "markdown",
   "metadata": {
    "slideshow": {
     "slide_type": "subslide"
    }
   },
   "source": [
    "#### Confidence Index\n",
    "\n",
    "- Assumes bond traders reveal trends that will soon emergence in stock market.\n",
    "<br><br>\n",
    "<center> Confidence Index = $\\frac{\\text{Avg. yield on 10 top-rated corporate bonds}}{\\text{Avg. yield on 10 intermediate-grade corporate bonds}}$</center>\n",
    "\n",
    "- This ratio will generally be less than 1\n",
    "- When bond traders are optimistic, they will lower default premium on bonds, which will cause the ratio to start approaching 1.\n",
    "\n",
    "#### Put/Call Ratio\n",
    "\n",
    "<center> Ratio = $\\frac{\\text{No. of outstanding Put options}}{\\text{No. of outstanding Call options}}$</center>\n",
    "\n",
    "- Typically the ratio hovers around 65%."
   ]
  }
 ],
 "metadata": {
  "celltoolbar": "Slideshow",
  "kernelspec": {
   "display_name": "Python 3",
   "language": "python",
   "name": "python3"
  },
  "language_info": {
   "codemirror_mode": {
    "name": "ipython",
    "version": 3
   },
   "file_extension": ".py",
   "mimetype": "text/x-python",
   "name": "python",
   "nbconvert_exporter": "python",
   "pygments_lexer": "ipython3",
   "version": "3.7.1"
  }
 },
 "nbformat": 4,
 "nbformat_minor": 2
}
