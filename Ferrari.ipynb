{
 "cells": [
  {
   "cell_type": "markdown",
   "metadata": {
    "slideshow": {
     "slide_type": "slide"
    }
   },
   "source": [
    "## ROE - Basic Equation\n",
    "\n",
    "- The following equation demonstrates the relationship between ROE and ROA.\n",
    "\n",
    "$$\\frac{T}{S} = \\frac{I}{A} \\cdot \\left(1 + \\frac{R}{S} \\right) + \\frac{U}{P} \\cdot \\frac{P}{S}$$\n",
    "$$\\Updownarrow$$\n",
    "<center>ROE = ROA $\\cdot$ Insurance Leverage factor + ROS $\\cdot$ Insurance Exposure</center>\n",
    "\n",
    "T = Total after-tax return to the insurer<br>\n",
    "I = Investment gain or loss after tax<br>\n",
    "A = Total Assets<br>\n",
    "R = Reserves & other liabilities<br>\n",
    "U = UW profit after tax<br>\n",
    "P = Premium<br>\n",
    "S = Equity<br>"
   ]
  },
  {
   "cell_type": "markdown",
   "metadata": {
    "slideshow": {
     "slide_type": "subslide"
    }
   },
   "source": [
    "- For the purposes of this paper, assets are defined as following:<br><br>\n",
    "\n",
    "<center>Assets = Reserves + Surplus</center>\n",
    "<br><br>\n",
    "\n",
    "- Surplus is defined as:<br><br>\n",
    "\n",
    "<center>Surplus = Owners Equity + Equity in Unearned Premium Reserves</center>"
   ]
  },
  {
   "cell_type": "markdown",
   "metadata": {
    "slideshow": {
     "slide_type": "subslide"
    }
   },
   "source": [
    "- Different Parties are interested in each of the three components of the equation:\n",
    "    - <b>Investors</b> are interested in <b>ROE</b>.\n",
    "    - <b>Society</b> is interested in <b>ROA</b>.\n",
    "    - <b>Regulators/Actuaries</b> are interested in <b>ROS</b>."
   ]
  },
  {
   "cell_type": "markdown",
   "metadata": {
    "slideshow": {
     "slide_type": "subslide"
    }
   },
   "source": [
    "- For most companies, leverage results from taking out loans. However, for insurance companies, leverage arises from its reserves since these are essentially loans from the policyholders."
   ]
  },
  {
   "cell_type": "markdown",
   "metadata": {
    "slideshow": {
     "slide_type": "slide"
    }
   },
   "source": [
    "## Re-arrangement of the Basic Equation\n",
    "\n",
    "$$\\frac{T}{S} = \\frac{I}{A} + \\frac{R}{S} \\cdot \\left( \\frac{I}{A} + \\frac{U}{R} \\right)$$\n",
    "\n",
    "- $\\frac{U}{R}$ - \"Interest cost\" incurred by the firm to use the reserves. \n",
    "\n"
   ]
  },
  {
   "cell_type": "markdown",
   "metadata": {
    "slideshow": {
     "slide_type": "subslide"
    }
   },
   "source": [
    "- This formulation can be used to determine whether or not to keep writing business. The investment income $\\left(\\frac{I}{A}\\right)$ is modified by the amount of leverage $\\left(\\frac{R}{S}\\right)$.<br><br>\n",
    "    - If $\\frac{U}{R} + \\frac{I}{A}$ is positive, then keep writing business.<br><br>\n",
    "    - If $\\frac{U}{R}$ is negative and causes the term in paranthesis to be negative, then the insurer can stop writing business, since it will reduce the ROE.\n",
    "    \n",
    "    \n",
    "<br><br>    \n",
    "<b>Note:</b> In all industries, increased leverage results in increased volatility in ROE."
   ]
  },
  {
   "cell_type": "markdown",
   "metadata": {
    "slideshow": {
     "slide_type": "slide"
    }
   },
   "source": [
    "## Optimum Capital Structure\n",
    "\n",
    "- The optimal capital structure is the mix of <b>owners' equity</b> and <b>liabilities</b> which maximize the value of the firm.\n",
    "\n",
    "- Two factors that affect the value of the firm:\n",
    "    - Expected earning stream\n",
    "    - Rate at which the stream is discounted by the market (discount rate)"
   ]
  },
  {
   "cell_type": "markdown",
   "metadata": {
    "slideshow": {
     "slide_type": "subslide"
    }
   },
   "source": [
    "<center><img src='images/Ferrari_1.JPG'></center>"
   ]
  },
  {
   "cell_type": "markdown",
   "metadata": {
    "slideshow": {
     "slide_type": "slide"
    }
   },
   "source": [
    "- There is an additional complication in determining the optimal capital structure for insurers.\n",
    "    - Higher leverage isn't necessarily a negative (increasing volatility of ROE) since it implies a higher amount of premium written. Additional premium increases the diversification of the insurer's risk."
   ]
  },
  {
   "cell_type": "markdown",
   "metadata": {
    "slideshow": {
     "slide_type": "slide"
    }
   },
   "source": [
    "## Balcarek's Warning\n",
    "\n",
    "$$\\uparrow \\frac{P}{S} \\longrightarrow  \\frac{I}{A} \\downarrow$$\n",
    "\n",
    "- A higher portion of the surplus is from current business, and is therefore in the form of either cash or agent's balance. This cannot be invested.\n",
    "- A higher ratio of $\\frac{P}{S}$ results in more risk to owners equity. To compensate, insurers will need to follow more conservative investment policies.\n",
    "\n"
   ]
  },
  {
   "cell_type": "markdown",
   "metadata": {
    "slideshow": {
     "slide_type": "subslide"
    }
   },
   "source": [
    "$$\\uparrow \\frac{U}{P} \\longrightarrow  \\frac{P}{S} \\uparrow$$\n",
    "- Higher UW profit means that the insurer can write more business.\n",
    "\n",
    "$$\\uparrow \\frac{U}{P} \\longrightarrow  \\frac{I}{A} \\uparrow$$\n",
    "- Higher UW profit means that the insurer can engage in more aggressive investments."
   ]
  }
 ],
 "metadata": {
  "celltoolbar": "Slideshow",
  "kernelspec": {
   "display_name": "Python 3",
   "language": "python",
   "name": "python3"
  },
  "language_info": {
   "codemirror_mode": {
    "name": "ipython",
    "version": 3
   },
   "file_extension": ".py",
   "mimetype": "text/x-python",
   "name": "python",
   "nbconvert_exporter": "python",
   "pygments_lexer": "ipython3",
   "version": "3.7.1"
  }
 },
 "nbformat": 4,
 "nbformat_minor": 2
}
