{
 "cells": [
  {
   "cell_type": "markdown",
   "metadata": {
    "slideshow": {
     "slide_type": "slide"
    }
   },
   "source": [
    "## CAPM\n",
    "\n",
    "<b>Purpose</b>: It gives us a prediction of the future relationship between risk of an asset and its expected return.\n",
    "\n",
    "- It assumes that all investors use the same analysis and end up with same risky portfolio (<b>P</b>). Since the market portfolio would be an aggregation of these <b>P</b> portfolios, the market portfolio would also have the same weights for risky assets.\n",
    "    - Hence, CAL would also be CML\n",
    "    - It also implies that investors can skip security analysis and just hold market portfolio as optimal risky asset.\n",
    "<br><br>    \n",
    "- Two Implications of CAPM\n",
    "    1. Market Portfolio is efficient.\n",
    "    2. Premium on a risky asset is proportional to its beta. $E(R_i) = \\beta_i * E(R_M)$"
   ]
  },
  {
   "cell_type": "markdown",
   "metadata": {
    "slideshow": {
     "slide_type": "slide"
    }
   },
   "source": [
    "## Market Price of Risk\n",
    "\n",
    "<br>\n",
    "\n",
    "Market Price of Risk = $\\frac{\\text{Market risk premium}}{\\text{Market variance}} = \\frac{E(r_M)-r_f}{\\sigma_M^2} = \\frac{E(R_M)}{\\sigma_M^2}$"
   ]
  },
  {
   "cell_type": "markdown",
   "metadata": {
    "slideshow": {
     "slide_type": "slide"
    }
   },
   "source": [
    "## Derivation of CAPM\n",
    "\n",
    "- The contribution of an individual stock to the portfolio risk premium is $w_i * [E(r_i) - r_f]$\n",
    "- The contribution of an individual stock to the portfolio variance is $w_i * Cov(r_i, r_M)$\n",
    "- Hence, the reward-to-risk ratio for the stock is: <font color=blue>$\\frac{E(r_i)-r_f}{Cov(r_i,r_M)} = \\frac{E(R_i)}{Cov(R_i,R_M)}$</font>\n",
    "<br><br>\n",
    "- In equilibrium (all securities' prices are where they should be), CAPM states that all securities should offer the same reward-to-risk ratio. This implies the following:\n",
    "\n",
    "$$\\frac{E(r_i)-r_f}{Cov(r_i,r_M)} = \\frac{E(r_M)-r_f}{\\sigma_M^2} \\Rightarrow E(r_i) = r_f + \\frac{Cov(r_i,r_M)}{\\sigma_M^2}*(E(r_M)-r_f)$$"
   ]
  },
  {
   "cell_type": "markdown",
   "metadata": {
    "slideshow": {
     "slide_type": "subslide"
    }
   },
   "source": [
    "<font color=blue>$$\\Rightarrow E(r_i) = r_f + \\beta_i*(E(r_M)-r_f)$$</font>\n",
    "<br><br>\n",
    "- $\\beta$ measures the contribution of a stock to the variance of the market portfolio.\n",
    "- CAPM states that security's risk premium is: $E(R_i) = \\beta_i * E(R_M)$"
   ]
  },
  {
   "cell_type": "markdown",
   "metadata": {
    "slideshow": {
     "slide_type": "slide"
    }
   },
   "source": [
    "## Assumptions of CAPM\n",
    "\n",
    "### Individual Behavior\n",
    "1. Investors are rational, mean-variance optimizers.\n",
    "    - Investors are not concerned with the correlation of the asset returns with inflation.\n",
    "2. Their planning horizon is a single period.\n",
    "    - Longer periods would result in extra-market risk factors (i.e. inflation, war, etc.)\n",
    "3. Investors use identical input lists.\n",
    "\n"
   ]
  },
  {
   "cell_type": "markdown",
   "metadata": {
    "slideshow": {
     "slide_type": "subslide"
    }
   },
   "source": [
    "### Market Structure\n",
    "1. All assets are publibly traded, short positions are allowed, and investors can borrow or lend at a common risk-free rate.\n",
    "2. All information is publicly available.\n",
    "3. No taxes.\n",
    "4. No transaction costs."
   ]
  },
  {
   "cell_type": "markdown",
   "metadata": {
    "slideshow": {
     "slide_type": "slide"
    }
   },
   "source": [
    "## Security Market Line\n",
    "\n",
    "<b>Purpose</b>: Graphs the relationship between $\\beta$ and $E(r_i)$.<br>\n",
    "\n",
    "<center><img src=\"images/SML.JPG\"></center>\n",
    "\n",
    "So, if beta is 1 then you get the expected return of the market. Therefore,\n",
    "\n",
    "Slope of SML = $\\frac{E(r_M) - r_f}{1}$ = $E(R_M)$ = risk premium of the market portfolio"
   ]
  },
  {
   "cell_type": "markdown",
   "metadata": {
    "slideshow": {
     "slide_type": "subslide"
    }
   },
   "source": [
    "- If an asset is fairly priced, then it will lie on the SML.\n",
    "    - In equilibrium, all assets lie on SML\n",
    "- The underpriced assets with positive $\\alpha$ will lie above the SML and vice versa."
   ]
  },
  {
   "cell_type": "markdown",
   "metadata": {
    "slideshow": {
     "slide_type": "slide"
    }
   },
   "source": [
    "## Capital Market Line\n",
    "\n",
    "<b>Purpose</b>: Graphs risk premium of <I>efficient portfolios</I> (composed of market and the risk-free asset) as a function of standard deviation.\n",
    "\n",
    "### SML vs CML\n",
    "SML - Graphs risk premiums of <b>individual assets</b> as a function of $\\beta^1$<br>\n",
    "CML - Graphs risk premiums of <b>efficient portfolios</b> as a function of $\\text{standard deviaton}^2$.\n",
    "\n",
    "<br>\n",
    "\n",
    "$\\text{}^1$Beta measures a stock's contribution to the variance of the market portfolio, hence risk-premium of a stock is dependent on it.<br>\n",
    "$\\text{}^2$Standard deviation is an appropriate measure of risk for efficiently diversified portfolios."
   ]
  },
  {
   "cell_type": "markdown",
   "metadata": {
    "slideshow": {
     "slide_type": "slide"
    }
   },
   "source": [
    "Three reasons why short positions are not as easy to take:\n",
    "1. There can be unlimited liability under the short posiiton, since the price may rise without limit. A large short position requires significant collateral.\n",
    "2. There is a limited supply of stocks that can be borrowed by short sellers.\n",
    "3. Many investment companies and regulation prohibit short sales. "
   ]
  },
  {
   "cell_type": "markdown",
   "metadata": {
    "slideshow": {
     "slide_type": "slide"
    }
   },
   "source": [
    "# Extensions of CAPM\n",
    "\n",
    "<b>Purpose</b>: Meant to fix some of the issues with the CAPM model.\n",
    "\n",
    "1. The Zero-Beta Model\n",
    "2. CAPM with Non-Traded Assets & Labor Income\n",
    "3. Multiperiod CAPM\n",
    "4. Consumption Based CAPM\n",
    "5. CAPM with Liquidity Adjustments"
   ]
  },
  {
   "cell_type": "markdown",
   "metadata": {
    "slideshow": {
     "slide_type": "slide"
    }
   },
   "source": [
    "## Zero-Beta CAPM (CAPM with borrowing restrictions)\n",
    "\n",
    "- All portfolios on the efficient frontier have a companion portfolio (the <b>Zero-beta portfolio</b>) on the inefficient side of the minimum variance frontier with which it is uncorrelated.\n",
    "    - Global minimum variance portfolio does not have such companion portfolio.\n",
    "    \n",
    "- To get around borrowing restrictions, investors can use zero-beta portfolio (Z) and market portfolio (M) (could also be any other portfolio P):\n",
    "    - Remember that $E(r_Z)$ lies on the y-axis of the minimum variance diagram. Hence, $r_f$ is replaced by $E(r_Z)$.\n",
    "\n",
    "$$E(r_i) - E(r_Z) = \\frac{Cov(r_i,r_M)}{\\sigma_M^2} * [E(R_M) - E(R_Z)] = \\beta_i * [E(R_M) - E(R_Z)]$$\n",
    "<br>\n",
    "$$E(r_i) - E(r_Z) = \\beta_i * [E(r_M) - E(r_Z)]$$\n"
   ]
  },
  {
   "cell_type": "markdown",
   "metadata": {
    "slideshow": {
     "slide_type": "subslide"
    }
   },
   "source": [
    "- Investors will invest in high beta stocks (they provide higher risk premium). This will increase their price and cause SML to be less steep.\n",
    "- Since the return of the zero-beta portfolio is higher than risk-free asset, the risk premium for the market portfolio will be smaller. So, there is smaller reward for bearing risk."
   ]
  },
  {
   "cell_type": "markdown",
   "metadata": {
    "slideshow": {
     "slide_type": "slide"
    }
   },
   "source": [
    "## Labor Income and Non-Traded Assets\n",
    "\n",
    "1. This model might help correct/explain why high-beta securities have negative alpha on average and low-beta securities have positive alpha.\n",
    "2. This model makes this correction by taking human capital and privately held businesses into account. Since they are of significant value, they can have a material impact on the equilibium returns of traded securities.\n",
    "\n",
    "### Privately held businesses\n",
    "- If they have similar characteristics to traded assets, then the owners can just hold market portfolio to diversify their risk.\n",
    "- If they do not have same characteristics as traded assets, owners will bid-up hedge assets (these assets would have high correlation with market hence higher beta) and cause them to appear to have negative alpha, and vice versa."
   ]
  },
  {
   "cell_type": "markdown",
   "metadata": {
    "slideshow": {
     "slide_type": "subslide"
    }
   },
   "source": [
    "### Labor Income (human capital)\n",
    "\n",
    "- Hard to hedge, employees can perhaps just avoid purchasing assets that are highly correlated with their industry. Hence, labor intensive firms will have a lower demand, which would cause them to have positive alphas.\n",
    "\n",
    "\n",
    "Adjustment to CAPM to account for labor income:\n",
    "$$E(R_i)= \\beta_i*E(R_M) = \\frac{Cov(R_i,R_M) + \\frac{P_H}{P_M} * Cov(R_i,R_H)}{\\sigma_M^2 + \\frac{P_H}{P_M} * Cov(R_M,R_H)} * E(R_M)$$ \n",
    "\n",
    "where:\n",
    "<center>$P_H$ = value of aggregate human capital</center>\n",
    "<center>$P_M$ = market value of traded assets</center>"
   ]
  },
  {
   "cell_type": "markdown",
   "metadata": {
    "slideshow": {
     "slide_type": "subslide"
    }
   },
   "source": [
    "If $Cov(R_i,R_H)$ is positive, then the adjusted beta will be greater when the regular beta is less than 1, and vice versa.\n",
    "\n",
    "- The SML produced by this model is less steep than the standard CAPM."
   ]
  },
  {
   "cell_type": "markdown",
   "metadata": {
    "slideshow": {
     "slide_type": "slide"
    }
   },
   "source": [
    "## Multiperiod CAPM\n",
    "\n",
    "Here we assume that investors will optimize their consumption/investments over their lifetime. This gives us <b>Intertemporal CAPM</b> (ICAPM).\n",
    "\n",
    "- Authors talk about couple of extra risks (there are likely more) that might impact the ICAPM.\n",
    "    - Investors will bid-up the price of assets that have higher returns when economic parameters change adversely (ie. interest rates, expected returns, or the risk of market portfolio).\n",
    "    - Investors will also bid up prices of assets that hedge the increase in prices of consumption goods.\n",
    "    \n",
    "Assuming <b>K</b> source of extramarket risk and <b>K</b> associated hedge portfolios, ICAPM becomes:\n",
    "$E(R_i) = \\beta_{iM} * E(R_M) + \\sum \\beta_{ik}*E(R_k)$"
   ]
  },
  {
   "cell_type": "markdown",
   "metadata": {
    "slideshow": {
     "slide_type": "slide"
    }
   },
   "source": [
    "## Consumption Based CAPM\n",
    "\n",
    "- Need to allocate income to today's consumption and save for future consumption.\n",
    "- An asset is deemed riskier if the asset is positively correlated with consumption growth because in this case, asset would have lower payoff when the consumption is low, and vice versa.\n",
    "\n",
    "CCAPM equation: $E(R_i) = \\beta_{iC}*E(R_C)$ where C is a <I>consumption tracking portfolio</I>.\n",
    "\n",
    "- The beta of market portfolio under CCAPM can be substantially greater than 1.\n",
    "\n",
    "### Disadvantages\n",
    "1. Consumption growth figures are published infrequently.\n",
    "2. They are also measured with significant error."
   ]
  },
  {
   "cell_type": "markdown",
   "metadata": {
    "slideshow": {
     "slide_type": "slide"
    }
   },
   "source": [
    "## CAPM with Liquidity Adjustments\n",
    "\n",
    "CAPM does not consider illiquidity of an asset.\n",
    "\n",
    "- Investors demand for additional return if there is a possibility that the stock will lose liquidity when it is needed.\n",
    "- CAPM can be adjusted to include liquidity beta, which reflects the sensitivity of the return of the security to changes in market liquidity."
   ]
  }
 ],
 "metadata": {
  "celltoolbar": "Slideshow",
  "kernelspec": {
   "display_name": "Python 3",
   "language": "python",
   "name": "python3"
  },
  "language_info": {
   "codemirror_mode": {
    "name": "ipython",
    "version": 3
   },
   "file_extension": ".py",
   "mimetype": "text/x-python",
   "name": "python",
   "nbconvert_exporter": "python",
   "pygments_lexer": "ipython3",
   "version": "3.7.1"
  }
 },
 "nbformat": 4,
 "nbformat_minor": 2
}
