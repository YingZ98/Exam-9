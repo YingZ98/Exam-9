{
 "cells": [
  {
   "cell_type": "markdown",
   "metadata": {
    "slideshow": {
     "slide_type": "slide"
    }
   },
   "source": [
    "## CAPM\n",
    "\n",
    "<b>Purpose</b>: It gives us a prediction of the future relationship between risk of an asset and its expected return.\n",
    "\n",
    "- It assumes that all investors use the same analysis and end up with same risky portfolio (<b>P</b>). Since the market portfolio would an aggregation of these <b>P</b> portfolios, the market portfolio would also have the same weights for risky assets.\n",
    "    - Hence, CAL would also be CML\n",
    "    - It also implies that investors can skip security analysis and just hold market portfolio as optimal risky asset.\n",
    "<br><br>    \n",
    "- Two Implications of CAPM\n",
    "    1. Market Portfolio is efficient.\n",
    "    2. Premium on a risky asset is proportional to its beta. $E(R_i) = \\beta_i * E(R_M)$"
   ]
  },
  {
   "cell_type": "markdown",
   "metadata": {
    "slideshow": {
     "slide_type": "slide"
    }
   },
   "source": [
    "## Market Price of Risk\n",
    "\n",
    "<br>\n",
    "\n",
    "Market Price of Risk = $\\frac{\\text{Market risk premium}}{\\text{Market variance}} = \\frac{E(r_M)-r_f}{\\sigma_M^2} = \\frac{E(R_M)}{\\sigma_M^2}$"
   ]
  },
  {
   "cell_type": "markdown",
   "metadata": {
    "slideshow": {
     "slide_type": "slide"
    }
   },
   "source": [
    "## Derivation of CAPM\n",
    "\n",
    "- The contribution of an individual stock to the portfolio risk premium is $w_i * [E(r_i) - r_f]$\n",
    "- The contribution of an individual stock to the portfolio variance is $w_i * Cov(r_i, r_M)$\n",
    "- Hence, the reward-to-risk ratio for the stock is: <font color=blue>$\\frac{E(r_i)-r_f}{Cov(r_i,r_M)} = \\frac{E(R_i)}{Cov(R_i,R_M)}$</font>\n",
    "<br><br>\n",
    "- In equilibrium (all securities' prices are where they should be), CAPM states that all securities should offer the same reward-to-risk ratio. This implies the following:\n",
    "\n",
    "$$\\frac{E(r_i)-r_f}{Cov(r_i,r_M)} = \\frac{E(r_M)-r_f}{\\sigma_M^2} \\Rightarrow E(r_i) = r_f + \\frac{Cov(r_i,r_M)}{\\sigma_M^2}*(E(r_M)-r_f)$$<br>\n",
    "<font color=blue>$$\\Rightarrow E(r_i) = r_f + \\beta_i*(E(r_M)-r_f)$$</font>"
   ]
  },
  {
   "cell_type": "markdown",
   "metadata": {
    "slideshow": {
     "slide_type": "slide"
    }
   },
   "source": [
    "## Assumptions of CAPM\n",
    "\n",
    "### Individual Behavior\n",
    "1. Investors are rational, mean-variance optimizers.\n",
    "    - Investors are not concerned with the correlation of the asset returns with inflation.\n",
    "2. Their planning horizon is a single period.\n",
    "    - Longer periods would result in extra-market risk factors (i.e. inflation, war, etc.)\n",
    "3. Investors use identical input lists.\n",
    "\n"
   ]
  },
  {
   "cell_type": "markdown",
   "metadata": {
    "slideshow": {
     "slide_type": "subslide"
    }
   },
   "source": [
    "### Market Structure\n",
    "1. All assets are publibly traded, short positions are allowed, and investors can borrow or lend at a common risk-free rate.\n",
    "2. All information is publicly available.\n",
    "3. No taxes.\n",
    "4. No transaction costs."
   ]
  },
  {
   "cell_type": "markdown",
   "metadata": {
    "slideshow": {
     "slide_type": "slide"
    }
   },
   "source": []
  }
 ],
 "metadata": {
  "celltoolbar": "Slideshow",
  "kernelspec": {
   "display_name": "Python 3",
   "language": "python",
   "name": "python3"
  },
  "language_info": {
   "codemirror_mode": {
    "name": "ipython",
    "version": 3
   },
   "file_extension": ".py",
   "mimetype": "text/x-python",
   "name": "python",
   "nbconvert_exporter": "python",
   "pygments_lexer": "ipython3",
   "version": "3.7.1"
  }
 },
 "nbformat": 4,
 "nbformat_minor": 2
}
