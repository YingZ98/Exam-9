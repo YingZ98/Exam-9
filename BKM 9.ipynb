{
 "cells": [
  {
   "cell_type": "markdown",
   "metadata": {
    "slideshow": {
     "slide_type": "slide"
    }
   },
   "source": [
    "## CAPM\n",
    "\n",
    "<b>Purpose</b>: It gives us a prediction of the future relationship between risk of an asset and its expected return.\n",
    "\n",
    "- It assumes that all investors use the same analysis and end up with same risky portfolio (<b>P</b>). Since the market portfolio would an aggregation of these <b>P</b> portfolios, the market portfolio would also have the same weights for risky assets.\n",
    "    - Hence, CAL would also be CML\n",
    "    - It also implies that investors can skip security analysis and just hold market portfolio as optimal risky asset.\n",
    "<br><br>    \n",
    "- Two Implications of CAPM\n",
    "    1. Market Portfolio is efficient.\n",
    "    2. Premium on a risky asset is proportional to its beta. $E(R_i) = \\beta_i * E(R_M)$"
   ]
  },
  {
   "cell_type": "markdown",
   "metadata": {
    "slideshow": {
     "slide_type": "slide"
    }
   },
   "source": [
    "## Market Price of Risk\n",
    "\n",
    "<br>\n",
    "\n",
    "Market Price of Risk = $\\frac{\\text{Market risk premium}}{\\text{Market variance}} = \\frac{E(r_M)-r_f}{\\sigma_M^2} = \\frac{E(R_M)}{\\sigma_M^2}$"
   ]
  },
  {
   "cell_type": "markdown",
   "metadata": {
    "slideshow": {
     "slide_type": "slide"
    }
   },
   "source": [
    "## Derivation of CAPM\n",
    "\n",
    "- The contribution of an individual stock to the portfolio risk premium is $w_i * [E(r_i) - r_f]$\n",
    "- The contribution of an individual stock to the portfolio variance is $w_i * Cov(r_i, r_M)$\n",
    "- Hence, the reward-to-risk ratio for the stock is: <font color=blue>$\\frac{E(r_i)-r_f}{Cov(r_i,r_M)} = \\frac{E(R_i)}{Cov(R_i,R_M)}$</font>\n",
    "<br><br>\n",
    "- In equilibrium (all securities' prices are where they should be), CAPM states that all securities should offer the same reward-to-risk ratio. This implies the following:\n",
    "\n",
    "$$\\frac{E(r_i)-r_f}{Cov(r_i,r_M)} = \\frac{E(r_M)-r_f}{\\sigma_M^2} \\Rightarrow E(r_i) = r_f + \\frac{Cov(r_i,r_M)}{\\sigma_M^2}*(E(r_M)-r_f)$$<br>\n",
    "<font color=blue>$$\\Rightarrow E(r_i) = r_f + \\beta_i*(E(r_M)-r_f)$$</font>"
   ]
  },
  {
   "cell_type": "markdown",
   "metadata": {
    "slideshow": {
     "slide_type": "subslide"
    }
   },
   "source": [
    "- $\\beta$ measures the contribution of a stock to the variance of the market portfolio.\n",
    "- CAPM states that security's risk presmium is: $E(R_i) = \\beta_i * E(R_M)$"
   ]
  },
  {
   "cell_type": "markdown",
   "metadata": {
    "slideshow": {
     "slide_type": "slide"
    }
   },
   "source": [
    "## Assumptions of CAPM\n",
    "\n",
    "### Individual Behavior\n",
    "1. Investors are rational, mean-variance optimizers.\n",
    "    - Investors are not concerned with the correlation of the asset returns with inflation.\n",
    "2. Their planning horizon is a single period.\n",
    "    - Longer periods would result in extra-market risk factors (i.e. inflation, war, etc.)\n",
    "3. Investors use identical input lists.\n",
    "\n"
   ]
  },
  {
   "cell_type": "markdown",
   "metadata": {
    "slideshow": {
     "slide_type": "subslide"
    }
   },
   "source": [
    "### Market Structure\n",
    "1. All assets are publibly traded, short positions are allowed, and investors can borrow or lend at a common risk-free rate.\n",
    "2. All information is publicly available.\n",
    "3. No taxes.\n",
    "4. No transaction costs."
   ]
  },
  {
   "cell_type": "markdown",
   "metadata": {
    "slideshow": {
     "slide_type": "slide"
    }
   },
   "source": [
    "## Security Market Line\n",
    "\n",
    "<b>Purpose</b>: Graphs the relationship between $\\beta$ and $E(r_i)$.<br>\n",
    "\n",
    "<center><img src=\"images/SML.JPG\"></center>\n",
    "\n",
    "So, if beta is 1 then you get the expected return of the market. Therefore,\n",
    "\n",
    "Slope of SML = $\\frac{E(r_M) - r_f}{1}$ = $E(R_M)$ = risk premium of the market poortfolio"
   ]
  },
  {
   "cell_type": "markdown",
   "metadata": {
    "slideshow": {
     "slide_type": "subslide"
    }
   },
   "source": [
    "- If an asset is fairly priced, then it will lie on the SML.\n",
    "    - In equilibrium, all assets lie on SML\n",
    "- The underpriced assets with positive $\\alpha$ will lie above the SML and vice versa."
   ]
  },
  {
   "cell_type": "markdown",
   "metadata": {
    "slideshow": {
     "slide_type": "slide"
    }
   },
   "source": [
    "## Capital Market Line\n",
    "\n",
    "<b>Purpose</b>: Graphs risk premium of <I>efficient portfolios</I> (composed of market and the risk-free asset) as a function of standard deviation.\n",
    "\n",
    "### SML vs CML\n",
    "SML - Graphs risk premiums of <b>individual assets</b> as a function of $\\beta^1$<br>\n",
    "CML - Graphs risk premiums of <b>efficient portfolios</b> as a function of $\\text{standard deviaton}^2$.\n",
    "\n",
    "<br>\n",
    "\n",
    "$\\text{}^1$Beta measures a stock's contribution to the variance of the market portfolio, hence risk-premium of a stock is dependent on it.<br>\n",
    "$\\text{}^2$Standard deviation is an appropriate measure of risk for efficiently diversified portfolios."
   ]
  },
  {
   "cell_type": "markdown",
   "metadata": {
    "slideshow": {
     "slide_type": "slide"
    }
   },
   "source": [
    "Three reasons why short positions are not as easy to take:\n",
    "1. There can be unlimited liability under the short posiiton, since the price may rise without limit. A large short posiiton requires significant collateral.\n",
    "2. There is a limited supply of stocks that can be borrowed by short sellers.\n",
    "3. Many investment companies and regulation prohibit short sales. "
   ]
  },
  {
   "cell_type": "markdown",
   "metadata": {
    "slideshow": {
     "slide_type": "slide"
    }
   },
   "source": [
    "# Extensions of CAPM\n",
    "\n",
    "<b>Purpose</b>: Meant to fix some of the issues with the CAPM model.\n",
    "\n",
    "1. The Zero-Beta Model\n",
    "2. CAPM with Non-Traded Assets & Labor Income\n",
    "3. Multiperiod CAPM\n",
    "4. Consumption Based CAPM\n",
    "5. CAPM with Liquidity Adjustments"
   ]
  },
  {
   "cell_type": "markdown",
   "metadata": {
    "slideshow": {
     "slide_type": "subslide"
    }
   },
   "source": [
    "## Zero-Beta CAPM (CAPM with borrowing restrictions)\n",
    "\n",
    "- All portfolios on the efficient frontier have a companion portfolio (the <b>Zero-beta portfolio</b>) on the inefficient side of the minimum variance frontier with which it is uncorrelated.\n",
    "    - Global minimum variance portfolio does not have such companion portfolio.\n",
    "    \n",
    "- To get around borrowing restrictions, investors can use zero-beta portfolio (Z) and market portfolio (M) (could also be any other portfolio P):\n",
    "\n",
    "$$E(r_i) - E(r_Z) = \\frac{Cov(r_i,r_M)}{\\sigma_M^2} * [E(R_M) - E(R_Z)] = \\beta_i * [E(R_M) - E(R_Z)]$$\n",
    "<br>\n",
    "$$E(r_i) - E(r_Z) = \\beta_i * [E(r_M) - E(r_Z)]$$\n"
   ]
  },
  {
   "cell_type": "markdown",
   "metadata": {
    "slideshow": {
     "slide_type": "subslide"
    }
   },
   "source": [
    "- Since the return of the zero-beta portfolio is higher than risk-free asset, the risk premium for the market portfolio will be smaller. So, there is smaller reward for bearing risk.\n",
    "- To somewhat negate this issue, investors will invest in high beta stocks (they provide higher risk premium). This will increase their price and cause SML to be less steep."
   ]
  },
  {
   "cell_type": "markdown",
   "metadata": {
    "slideshow": {
     "slide_type": "subslide"
    }
   },
   "source": [
    "## Labor Income and Non-Traded Assets\n",
    "\n"
   ]
  }
 ],
 "metadata": {
  "celltoolbar": "Slideshow",
  "kernelspec": {
   "display_name": "Python 3",
   "language": "python",
   "name": "python3"
  },
  "language_info": {
   "codemirror_mode": {
    "name": "ipython",
    "version": 3
   },
   "file_extension": ".py",
   "mimetype": "text/x-python",
   "name": "python",
   "nbconvert_exporter": "python",
   "pygments_lexer": "ipython3",
   "version": "3.7.1"
  }
 },
 "nbformat": 4,
 "nbformat_minor": 2
}
