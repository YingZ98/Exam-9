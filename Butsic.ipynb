{
 "cells": [
  {
   "cell_type": "markdown",
   "metadata": {
    "slideshow": {
     "slide_type": "slide"
    }
   },
   "source": [
    "- Butsic suggest using Expected Policyholder Deficit (EPD) to determine the amount of required capital.\n",
    "- EPD is calculated as expected value of deficit (L-A).\n",
    "    - You can have either losses be risky, assets be risky or both be risky.\n"
   ]
  },
  {
   "cell_type": "markdown",
   "metadata": {
    "slideshow": {
     "slide_type": "slide"
    }
   },
   "source": [
    "- To compare EPD of different insuers we calculate:<br><br>\n",
    "$$\\text{EPD Ratio} = \\frac{EPD}{E[Losses]}$$"
   ]
  },
  {
   "cell_type": "markdown",
   "metadata": {
    "slideshow": {
     "slide_type": "slide"
    }
   },
   "source": [
    "## Lognormal vs Normal\n",
    "\n",
    "- Lognormal distribution has thicker tail than normal.\n",
    "- If assets follow lognormal distribution, less capital is required than under normal because under lognormal assets cannot be negative."
   ]
  },
  {
   "cell_type": "markdown",
   "metadata": {
    "slideshow": {
     "slide_type": "slide"
    }
   },
   "source": [
    "## Correlation\n",
    "\n",
    "- When aggregating capital for various risks to insurer, we need to take correlation into account. (can't simply add capitals)\n",
    "    - For insurer with independent lines, less capital per line is needed to achieve the same EPD ratio than an insuer with one line of risk."
   ]
  },
  {
   "cell_type": "markdown",
   "metadata": {
    "slideshow": {
     "slide_type": "subslide"
    }
   },
   "source": [
    "<center><img src='images/Butsic_Cap_Need.JPG'></center>"
   ]
  },
  {
   "cell_type": "markdown",
   "metadata": {
    "slideshow": {
     "slide_type": "slide"
    }
   },
   "source": [
    "## Misc Topics\n",
    "\n",
    "#### RBC Issue\n",
    "- Use of <b>accounting book value</b> is not appropriate due to the accounting bias.\n",
    "    - Better to use <b>market value accounting</b>.\n",
    "    \n",
    "#### Time Horizon\n",
    "- Longer time between valuation dates lead to bigger range of possible value (higher variance).\n",
    "- EPD ratios increase over time if we hold assets and expected losses constant.\n",
    "    - Need to constantly adjust capital to keep EPD ratio constant."
   ]
  },
  {
   "cell_type": "markdown",
   "metadata": {
    "slideshow": {
     "slide_type": "subslide"
    }
   },
   "source": [
    "#### Insolvency - Call/Put Options\n",
    "\n",
    "- If the liability is risky (variable) and assets riskless (constant) $\\rightarrow$ EPD value = Call Option.\n",
    "    - When liabilities > assets, insurer has the option to abandon full payment (purchase) of claims.<br><br>\n",
    "- If the liability is riskless (constant) and assets risky (variable) $\\rightarrow$ EPD value = Put Option.\n",
    "    - When assets < liabilities, the difference is put to the policyholders."
   ]
  }
 ],
 "metadata": {
  "celltoolbar": "Slideshow",
  "kernelspec": {
   "display_name": "Python 3",
   "language": "python",
   "name": "python3"
  },
  "language_info": {
   "codemirror_mode": {
    "name": "ipython",
    "version": 3
   },
   "file_extension": ".py",
   "mimetype": "text/x-python",
   "name": "python",
   "nbconvert_exporter": "python",
   "pygments_lexer": "ipython3",
   "version": "3.7.1"
  }
 },
 "nbformat": 4,
 "nbformat_minor": 2
}
