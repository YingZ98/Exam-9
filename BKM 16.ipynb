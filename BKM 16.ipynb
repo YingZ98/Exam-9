{
 "cells": [
  {
   "cell_type": "markdown",
   "metadata": {
    "slideshow": {
     "slide_type": "slide"
    }
   },
   "source": [
    "1. Bond Prices and yields are inversely related.\n",
    "2. An increase in a bond's YTM results in a smaller $\\Delta$P than a decrease in YTM of equal magnitude.\n",
    "<br><br>\n",
    "<center><img src=\"images/Fig 16.1.JPG\"></center>\n",
    "\n",
    "Note, the price curve for bonds is convex."
   ]
  },
  {
   "cell_type": "markdown",
   "metadata": {
    "slideshow": {
     "slide_type": "subslide"
    }
   },
   "source": [
    "3. Longer term bonds are more sensitive to yield changes.\n",
    "4. The sensitivity of bond prices to yield increases at a decreasing rate as maturity increase.\n",
    "5. Lower coupon bonds are more sensitive to changes in yields. - bigger coupons lower the duration of a bond\n",
    "6. Price sensitivity falls with YTM. - later payments have lower PV and hence less impact on price"
   ]
  },
  {
   "cell_type": "markdown",
   "metadata": {
    "slideshow": {
     "slide_type": "slide"
    }
   },
   "source": [
    "## Duration\n",
    "\n",
    "- <b>Macaulay's Duration</b>: Weighted average of the length of time of future cash flows.\n",
    "\n",
    "<center><img src=\"images/Macaulay_Duration.JPG\"></center>"
   ]
  },
  {
   "cell_type": "markdown",
   "metadata": {
    "slideshow": {
     "slide_type": "subslide"
    }
   },
   "source": [
    "- <b>Modified Duration</b>: Measure of duration used in practice.\n",
    "\n",
    "$$D^* = \\frac{D}{1+y} \\tag{D is the Macaulay's duration}$$\n",
    "\n",
    "This can be used in the equation showing the impact of changing yields on bond prices:<br><br>\n",
    "$$\\frac{\\Delta P}{P} = -D^* \\cdot \\Delta y$$\n",
    "\n",
    "Note, this equation is valid for only small changes in yield since it assumes prices change linearly. For larger changes in yield, we need to include convexity adjustment."
   ]
  },
  {
   "cell_type": "markdown",
   "metadata": {
    "slideshow": {
     "slide_type": "subslide"
    }
   },
   "source": [
    "- Duration of a perpetuity: $\\frac{1+y}{y}$"
   ]
  },
  {
   "cell_type": "markdown",
   "metadata": {
    "slideshow": {
     "slide_type": "slide"
    }
   },
   "source": [
    "## Convexity\n",
    "\n",
    "- Investors prefer bonds with higher convexity, because as convexity increases, a bond appreciates more when yields fall and depreciates less when yields rise.\n",
    "\n",
    "- Revised price change equation,\n",
    "\n",
    "<font color = blue>$$\\frac{\\Delta P}{P} = -D^* \\cdot \\Delta y + \\frac{1}{2} \\cdot Convexity \\cdot (\\Delta y)^2$$\n",
    "<br>\n",
    "$$Convexity = \\frac{1}{PVCF \\cdot \\left(1+\\frac{y}{k}\\right)^2 \\cdot k^2} \\sum PVCF \\cdot n \\cdot (n+1)$$</font>\n",
    "<br>\n",
    "where, y = annual rate, n = period at which cash flow is made (n=1,2..), $CF_t$ = cash flow at time t, k = # of cash flow intervals in a year"
   ]
  },
  {
   "cell_type": "markdown",
   "metadata": {
    "slideshow": {
     "slide_type": "slide"
    }
   },
   "source": [
    "## Convexity of Callable Bond\n",
    "\n",
    "\n",
    "<center><img src=\"images/Convexity_Callable.JPG\"></center>\n",
    "\n",
    "- The negative convexity means that the second term of the price equation is negative, so the price performance would be worse than would be predicted by the duration approximation."
   ]
  },
  {
   "cell_type": "markdown",
   "metadata": {
    "slideshow": {
     "slide_type": "slide"
    }
   },
   "source": [
    "## Effective Duration\n",
    "\n",
    "- <b>Purpose</b>: To find the duration of bonds with embedded options.\n",
    "<br><br>\n",
    "<center>Effective duration = $- \\frac{\\Delta P / P}{\\Delta r}$</center>\n",
    "\n",
    "Where, $\\Delta r$ = change in yields"
   ]
  },
  {
   "cell_type": "markdown",
   "metadata": {
    "slideshow": {
     "slide_type": "slide"
    }
   },
   "source": [
    "## Mortgage Backed Securities\n",
    "\n",
    "- MBS can be viewed as being callable because the borrowers can prepay their mortgage. \n",
    "\n",
    "<center><img src=\"images/Fig 16.6.JPG\"></center>\n",
    "\n",
    "- MBS can sell for more than principal since borrowers don't always refinance as interest rates decrease."
   ]
  },
  {
   "cell_type": "markdown",
   "metadata": {
    "slideshow": {
     "slide_type": "subslide"
    }
   },
   "source": [
    "- <b>Collateralized mortgage obligation (CMO)</b>: A mortgage-backed derivative that segments the cash flow stream from MBS into different tranches. These tranches have different interest rate risk and effective durations due to timing of payments.\n",
    "    - These can then be sold to investors based on their risk profiles."
   ]
  },
  {
   "cell_type": "markdown",
   "metadata": {
    "slideshow": {
     "slide_type": "slide"
    }
   },
   "source": [
    "## Passive Bond Management\n",
    "\n",
    "- Three passive bond portfolio management strategies:\n",
    "    - Indexing\n",
    "    - Immunization\n",
    "    - Cash Flow Matching\n",
    "    \n",
    "- Indexing vs Immunization \n",
    "    - Indexing has the same risk-return as the bond market index.\n",
    "    - Immunization strategy seeks to remove risk completely."
   ]
  },
  {
   "cell_type": "markdown",
   "metadata": {
    "slideshow": {
     "slide_type": "slide"
    }
   },
   "source": [
    "## Indexing\n",
    "\n",
    "- Issues with forming a bond index portfolio:\n",
    "    - Hard to purchase bonds in proportion to their (bond) market value.\n",
    "    - Bonds are thinly traded.\n",
    "    - Index composition changes constantly. \n",
    "        - Bonds with maturity of less than 1 yr get dropped and new bonds get added."
   ]
  },
  {
   "cell_type": "markdown",
   "metadata": {
    "slideshow": {
     "slide_type": "slide"
    }
   },
   "source": [
    "## Immunization\n",
    "\n",
    "- <b>Purpose</b>: Used to insulate the portfolio from interest rate risk.\n",
    "- Banks have mismatch between assets and liabilities.\n",
    "    - Liabilities are customer deposits with short-term duration.\n",
    "    - Assets are primarily loans with much longer duration.\n",
    "- Example of interest rate risks:\n",
    "    - <b>Banks:</b> When interest rates increase a bank's assets fall in value (since loans have longer duration) by more than their liabilities.\n",
    "    - <b>Pension funds:</b> Liabilities tend to be more sensitive to interest changes than assets due to longer duration of liabilities, a drop in interest rate causes liabilities to grow faster than the assets. "
   ]
  },
  {
   "cell_type": "markdown",
   "metadata": {
    "slideshow": {
     "slide_type": "subslide"
    }
   },
   "source": [
    "- <b>Mechanics of immunizing a portfolio:</b> Make sure the asset and liabilities have same duration and their PV is equal to one another.\n",
    "    - This will ensure that the interest rate risk and reinvestment risk will offset one another.\n",
    "    \n",
    "<center><img src=\"images/Immunization.JPG\"></center>\n",
    "\n",
    "Note, due to higher convexity of the coupon bond, we get a small surplus when interest rates change."
   ]
  },
  {
   "cell_type": "markdown",
   "metadata": {
    "slideshow": {
     "slide_type": "subslide"
    }
   },
   "source": [
    "- An important thing to note is that duration is not constant:\n",
    "    - Duration changes when interest rates change.\n",
    "    - Durations falls as time passes\n",
    "    \n",
    "- In order to maintain immunization of the portfolio, we need to <b>rebalance</b> the portfolio."
   ]
  },
  {
   "cell_type": "markdown",
   "metadata": {
    "slideshow": {
     "slide_type": "subslide"
    }
   },
   "source": [
    "<center><img src=\"images/Immunization_Ex_1.JPG\"></center>"
   ]
  },
  {
   "cell_type": "markdown",
   "metadata": {
    "slideshow": {
     "slide_type": "subslide"
    }
   },
   "source": [
    "<center><img src=\"images/Immunization_Ex_2.JPG\"></center>"
   ]
  },
  {
   "cell_type": "markdown",
   "metadata": {
    "slideshow": {
     "slide_type": "subslide"
    }
   },
   "source": [
    "## Problems with Immunization\n",
    "\n",
    "- Assumes the yield curve is flat (0 slope). Cash flows need to be discounted at respective spot rates.\n",
    "- Immunizing the portfolio is only effective for parallel shifts in the yield curve.\n",
    "- Immunization is inappropriate in an inflationary environment.\n",
    "    - When you use bonds to lock in final future value, it may be insufficient if the liabilities grew much more than bonds. For example, if college or medical expenses outpaced monetary inflation."
   ]
  },
  {
   "cell_type": "markdown",
   "metadata": {
    "slideshow": {
     "slide_type": "slide"
    }
   },
   "source": [
    "## Cash Flowing Matching and Dedication\n",
    "\n",
    "- <b>Cash Flow Matching:</b> Buy a zero which will make a payment that exactly matches the future cash obligation.\n",
    "- <b>Dedication Strategy:</b> Cash flow matching over a multiple period. Purchase bonds to match a series of obligations.\n",
    "\n",
    "#### Advantages\n",
    "- Automatically immunizes the portfolio from changing interest rates.\n",
    "- Rebalancing will not be necessary.\n",
    "\n",
    "#### Disadvantages\n",
    "- Strategy imposes strong constraints on the bonds that can be selected."
   ]
  },
  {
   "cell_type": "markdown",
   "metadata": {
    "slideshow": {
     "slide_type": "slide"
    }
   },
   "source": [
    "## Active Management\n",
    "\n",
    "- Two sources of potential value in active management:\n",
    "    - Interest rate forecasting: Increase portfolio duration if rate declines are expected, and vice versa.\n",
    "    - Identify underpriced bonds (default premium could be too high).\n",
    "<br><br>\n",
    "- Four types of bond swaps:\n",
    "    - <b>Substitution swap</b> - Exploit bond mispricing\n",
    "    - <b>Intermarket spread swap</b> - Exploit corporate vs treasury yield spreads\n",
    "    - <b>Rate anticipation swap</b> - Change duration due to anticipated interest rate changes\n",
    "    - <b>Pure yield pickup swap</b> - Move to higher yield bonds\n",
    "    - <b>Taw swap</b> - Exploit tax advantage"
   ]
  }
 ],
 "metadata": {
  "celltoolbar": "Slideshow",
  "kernelspec": {
   "display_name": "Python 3",
   "language": "python",
   "name": "python3"
  },
  "language_info": {
   "codemirror_mode": {
    "name": "ipython",
    "version": 3
   },
   "file_extension": ".py",
   "mimetype": "text/x-python",
   "name": "python",
   "nbconvert_exporter": "python",
   "pygments_lexer": "ipython3",
   "version": "3.7.1"
  }
 },
 "nbformat": 4,
 "nbformat_minor": 2
}
