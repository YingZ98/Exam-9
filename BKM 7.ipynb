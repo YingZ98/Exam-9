{
 "cells": [
  {
   "cell_type": "markdown",
   "metadata": {
    "slideshow": {
     "slide_type": "slide"
    }
   },
   "source": [
    "The portfolio risk can be segmented into two classes:\n",
    "1. <b>Unique / Firm-Specific / Nonsystematic / Diversifiable</b>: The portion of the risk than can be eliminated via diversification.\n",
    "2. <b>Market / Systematic / Nondiversifiable Risk</b>: The risk that cannot be diversified away.\n",
    "\n",
    "<center><img src=\"images/Market vs Firm risk.JPG\"></center>"
   ]
  },
  {
   "cell_type": "markdown",
   "metadata": {
    "slideshow": {
     "slide_type": "slide"
    }
   },
   "source": [
    "## Variance of equally weighted assets\n",
    "\n",
    "<font color = blue>$$\\sigma_p^2 = \\frac{1}{n} * \\overline{\\sigma}^2 + \\frac{n - 1}{n} * \\overline{Cov}\\tag{1}$$</font>\n",
    "\n",
    "<br> \n",
    "If all the securities have a common correlation coefficient, $\\rho$, then:\n",
    "$$\\sigma_p^2 = \\frac{1}{n} * \\overline{\\sigma}^2 + \\frac{n - 1}{n} * \\rho*\\sigma^2$$\n",
    "<br>\n",
    "- In (1), this is what happens as n $\\rightarrow \\infty$ :<br>\n",
    "    -  $\\frac{1}{n} * \\overline{\\sigma}^2 \\rightarrow$ 0\n",
    "    -  $\\frac{n - 1}{n} * \\overline{Cov} \\rightarrow \\overline{Cov}$\n",
    "        - Here, $\\overline{Cov}$ represents the systematic risk, which remains even as n approaches infiniti\n",
    "      "
   ]
  },
  {
   "cell_type": "markdown",
   "metadata": {
    "slideshow": {
     "slide_type": "slide"
    }
   },
   "source": [
    "## Portfolio of 2 Risky Assets\n",
    "\n",
    "<center>$w_D$ = Weight of bond mutual fund</center>\n",
    "<center>$w_E$ = Weight of stock mutual fund</center>\n",
    "\n",
    "$$E(r_p) = w_D * E(r_D) + w_E * E(r_E)$$\n",
    "<br>\n",
    "<font color=blue>$$\\sigma_p^2 = w_D^2 * \\sigma_D^2 + w_E^2 * \\sigma_E^2 + 2 * w_D * w_E * Cov(r_D,r_E)\\tag{1}$$</font>\n",
    "<br>\n",
    "$$\\sigma_p^2 = w_D^2 * \\sigma_D^2 + w_E^2 * \\sigma_E^2 + 2 * w_D * w_E * \\sigma_D * \\sigma_E * \\rho_{DE}$$\n",
    "\n",
    "- The consequence of (1) is that std. is reduced if the covariance term is negative or positive. The only time variance is not reduced, is when the covariance is 1 (i.e. perfect postive correlation). \n",
    "    - Hedge assets with negative correlation are the best."
   ]
  },
  {
   "cell_type": "markdown",
   "metadata": {
    "slideshow": {
     "slide_type": "subslide"
    }
   },
   "source": [
    "- If the correlation coeffecient ($\\rho_{DE}$) is equals to 1 then:\n",
    "\n",
    "$$\\sigma_p^2 = w_D^2 * \\sigma_D^2 + w_E^2 * \\sigma_E^2 + 2 * w_D * w_E * \\sigma_D * \\sigma_E * \\rho_{DE}$$\n",
    "<center> $\\downarrow$ </center>\n",
    "$$\\sigma_p^2 = w_D^2 * \\sigma_D^2 + w_E^2 * \\sigma_E^2 + 2 * w_D * w_E * \\sigma_D * \\sigma_E$$\n",
    "<center> $\\downarrow$ </center>\n",
    "$$\\sigma_p^2 = (w_D * \\sigma_D + w_E * \\sigma_E)^2$$\n",
    "<center> $\\downarrow$ </center>\n",
    "$$\\sigma_p = w_D * \\sigma_D + w_E * \\sigma_E$$\n",
    "\n",
    "Therefore, the overall std. is just weighted std. of the two components of the risky portfolio."
   ]
  },
  {
   "cell_type": "markdown",
   "metadata": {
    "slideshow": {
     "slide_type": "subslide"
    }
   },
   "source": [
    "- If the correlation coeffecient ($\\rho_{DE}$) is equals to -1 then:\n",
    "\n",
    "$$\\sigma_p^2 = w_D^2 * \\sigma_D^2 + w_E^2 * \\sigma_E^2 - 2 * w_D * w_E * \\sigma_D * \\sigma_E * \\rho_{DE}$$\n",
    "<center> $\\downarrow$ </center>\n",
    "$$\\sigma_p^2 = w_D^2 * \\sigma_D^2 + w_E^2 * \\sigma_E^2 - 2 * w_D * w_E * \\sigma_D * \\sigma_E$$\n",
    "<center> $\\downarrow$ </center>\n",
    "$$\\sigma_p^2 = (w_D * \\sigma_D - w_E * \\sigma_E)^2$$\n",
    "<center> $\\downarrow$ </center>\n",
    "$$\\sigma_p = w_D * \\sigma_D - w_E * \\sigma_E$$\n",
    "\n",
    "Now we can get proportions for the portofolio with perfect hendge (i.e. $\\sigma_p$ = 0)\n",
    "\n",
    "$$w_D = \\frac{\\sigma_E}{\\sigma_D + \\sigma_E}$$\n",
    "$$w_E = \\frac{\\sigma_D}{\\sigma_D + \\sigma_E} = 1 - w_D$$"
   ]
  },
  {
   "cell_type": "markdown",
   "metadata": {
    "slideshow": {
     "slide_type": "slide"
    }
   },
   "source": [
    "<b>Minimum variance portfolio </b> - has lower std. than either of the individual component assests.\n",
    "\n",
    "- The appropriate weights are:\n",
    "\n",
    "$$w_{MIN}(D) = \\frac{\\sigma_E^2 - Cov(r_D, r_E)}{\\sigma_E^2 + \\sigma_D^2 - 2*Cov(r_D, r_E)}$$\n",
    "\n",
    "- If the <b>stocks</b> Mutual Fund (<b>E</b>) had 20% std. and <b>Bonds</b> Mutual Fund (<b>D</b>) had 12% std. then combining the two would lower the std. for all correlation coefficient values, except for $\\rho$ = 1.\n",
    "\n",
    "<center><img src=\"images/Diversification benefit.JPG\"></center>\n"
   ]
  },
  {
   "cell_type": "markdown",
   "metadata": {
    "slideshow": {
     "slide_type": "subslide"
    }
   },
   "source": [
    "- if $\\rho \\lt \\frac{\\sigma_D}{\\sigma_E}$, the minimum variance portfolio will consist of both bonds and stocks.\n",
    "    - else, it will consist of bonds only (the lower variance asset)."
   ]
  },
  {
   "cell_type": "markdown",
   "metadata": {
    "slideshow": {
     "slide_type": "slide"
    }
   },
   "source": [
    "<b>Portfolio opportunity set</b> - shows the combination of portfolio expected return and std. that can be constructed from two available assets.\n",
    "<br><br>\n",
    "\n",
    "<center><img src=\"images/Portfolio Opportunity Set.JPG\"></center>\n",
    "\n",
    "- All the lines except for $\\rho$ = 1 show that there is a diversification benefit."
   ]
  },
  {
   "cell_type": "markdown",
   "metadata": {
    "slideshow": {
     "slide_type": "slide"
    }
   },
   "source": [
    "### Portfolios of 2 Risky and a Risk-Free Asset\n",
    "\n",
    "- We prefer a CAL line with higher slope/Sharpe ratio since it means higher return-to-risk ratio.\n",
    "\n",
    "<center><img src=\"images/Fig 7.6.JPG\"></center>\n",
    "\n",
    "- We are given that the risk-free asset has expected return of 5%.\n",
    "- In this case, the minimum variance portfolio (A) is not the optimal choice since we can get higher Sharpe ratio by choosing portfolio B.\n",
    "\n"
   ]
  },
  {
   "cell_type": "markdown",
   "metadata": {
    "slideshow": {
     "slide_type": "subslide"
    }
   },
   "source": [
    "- The optimal risky portfolio in this case is P, since it gives us the highest Sharpe ratio.\n",
    "<br><br>\n",
    "<center><img src=\"images/Fig 7.7.JPG\"></center>"
   ]
  },
  {
   "cell_type": "markdown",
   "metadata": {
    "slideshow": {
     "slide_type": "subslide"
    }
   },
   "source": [
    "- The weights for the two risky assets under optimal risky portfolio can be calculated as:\n",
    "<br><br>\n",
    "<center> $E(R_x)$ = Expected excess return over the risk-free rate</center>\n",
    "<br><br>\n",
    "$$w_D = \\frac{E(R_D)*\\sigma_E^2 - E(R_E) * Cov(R_D,R_E)}{E(R_D) * \\sigma_E^2 + E(R_E) * \\sigma_D^2 - [E(R_D) + E(R_E)] * Cov(R_D,R_E)}$$"
   ]
  },
  {
   "cell_type": "markdown",
   "metadata": {
    "slideshow": {
     "slide_type": "slide"
    }
   },
   "source": [
    "##### Steps in building a complete potfolio\n",
    "1. Create Portfolio Opportunity Set for two risky assets. For multiple risky assets, calculate risk-return combinations $\\rightarrow$ give us the <b>minimum-variance frontier</b>.\n",
    "2. Draw the CAL\n",
    "3. Pick a port. of risky assets that lies at the point where CAL is tangent to the Portfolio Opportunity Set.\n",
    "3. Draw the indifference curves with varying ultilities.\n",
    "4. Complete port. (C) lies where CAL is tangent to the highest utility-indifference curve.<br>\n",
    "<b>or</b> \n",
    "Use $y^* = \\frac{E(r_p)-r_f}{A*\\sigma_p^2}$ to get the optimal proportion of risky assets (P)\n",
    "<br>\n",
    "\n",
    "<center><img src=\"images/Fig 7.8.JPG\"></center>"
   ]
  },
  {
   "cell_type": "markdown",
   "metadata": {
    "slideshow": {
     "slide_type": "slide"
    }
   },
   "source": [
    "- The efficient frontier lies above the Global Minimum-Variance portfolio.\n",
    "- The arc below the Global Minimum-Variance portfolio is considered as inefficient since you can always find a portfolio with same risk and better return on the efficient portion.\n",
    "<br><br>\n",
    "<center><img src=\"images/Fig 7.12.JPG\"></center>\n",
    "<br><br>\n",
    "- We can construct the whole frontier by combining two portfolios that lie on the frontier\n",
    "- <b>Important consequence</b>: we can offer same risky portfolio (P) to all the clients with varying weights."
   ]
  },
  {
   "cell_type": "markdown",
   "metadata": {
    "slideshow": {
     "slide_type": "slide"
    }
   },
   "source": [
    "Portfolio selection can be separated into two broad categories (<b>separation property</b>):\n",
    "1. Selection of the optimal risky portfolio (P).\n",
    "2. Allocation of funds between the optimal risky portfolio and the risk-free asset. This will depend on the investor's risk preference.\n",
    "\n",
    "Note: In practice, optimal risky portfolio may vary based on client's constraints (divident yield - high or low for tax purposes, socially responsible investing - ethical or political reasons, or no short sales allowed)"
   ]
  },
  {
   "cell_type": "markdown",
   "metadata": {
    "slideshow": {
     "slide_type": "slide"
    }
   },
   "source": [
    "## Risk Pooling vs Risk Sharing\n",
    "\n",
    "- <b>Risk pooling</b> - Involves merging several uncorrelated projects togther.\n",
    "    - The act of risk pooling is known as <b>insurance principle</b>.\n",
    "    \n",
    "- Insurance principle is generally misapplied by assuming that it makes the total return more predictable, in fact, it only makes <I><b>average</b></I> returns more predictable.\n",
    "<br>\n",
    "<center>$R_x$ = Risk premium of portfolio x</center>\n",
    "<center>y = proportion invested in risky asset</center>\n",
    "<br>\n",
    "- Under risk pooling, we add more policies/risk exposures. This increases the overall size of the risky asset to n * y and the size of risk-free investment shrinks to 1 - n * y."
   ]
  },
  {
   "cell_type": "markdown",
   "metadata": {
    "slideshow": {
     "slide_type": "subslide"
    }
   },
   "source": [
    "## Risk Pooling\n",
    "- Impact of adding n uncorrelated/independent risks to the pool:\n",
    "<br>\n",
    "<center>$R_x = n*y*R$</center><br>\n",
    "<center>$\\sigma_x = \\sqrt{n}*y*\\sigma$</center><br>\n",
    "<center>$S_x = \\frac{\\sqrt{n} * R}{\\sigma}$</center><br>\n",
    "\n",
    "- Hence, risk and sharp ratio increase with addition of new risks."
   ]
  },
  {
   "cell_type": "markdown",
   "metadata": {
    "slideshow": {
     "slide_type": "subslide"
    }
   },
   "source": [
    "## Risk Sharing\n",
    "\n",
    "- Under risk sharing, we keep the amount of risk fixed at all times (y) and share it among several investors.\n",
    "\n",
    "<br>\n",
    "<center>$R_x = y*R$</center>\n",
    "<center>$\\sigma_x = \\frac{y*\\sigma}{\\sqrt{n}}$</center><br>\n",
    "<center>$S_x = \\frac{\\sqrt{n} * R}{\\sigma}$</center>\n",
    "\n",
    "- Hence the risk sharing strategy has the same sharpe ratio as the risk pooling strategy, but lower risk.\n",
    "\n",
    "- In reality, there are two issues that make this impractical strategy in real life.\n",
    "    1. Problems related with management of large firms start to erode profit margins.\n",
    "    2. Impact of any error when estimating the risk of the insured will be compounded over many policies."
   ]
  },
  {
   "cell_type": "markdown",
   "metadata": {
    "slideshow": {
     "slide_type": "slide"
    }
   },
   "source": [
    "## Investment for the Long Run\n",
    "\n",
    "- Holding the portfolio for addition periods is similar to risk pooling. Therefore, time diversification is not true diversification.\n",
    "- In order to compare 2-year strategies, calculate R, sigma, and Sharpe ratio over the 2 year time-period.\n",
    "<br><br>\n",
    "<center><img src=\"images/2yr Investment.JPG\"></center>"
   ]
  }
 ],
 "metadata": {
  "celltoolbar": "Slideshow",
  "kernelspec": {
   "display_name": "Python 3",
   "language": "python",
   "name": "python3"
  },
  "language_info": {
   "codemirror_mode": {
    "name": "ipython",
    "version": 3
   },
   "file_extension": ".py",
   "mimetype": "text/x-python",
   "name": "python",
   "nbconvert_exporter": "python",
   "pygments_lexer": "ipython3",
   "version": "3.7.1"
  }
 },
 "nbformat": 4,
 "nbformat_minor": 2
}
