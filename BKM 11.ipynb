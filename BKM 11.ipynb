{
 "cells": [
  {
   "cell_type": "markdown",
   "metadata": {
    "slideshow": {
     "slide_type": "slide"
    }
   },
   "source": [
    "- The <b>Efficient Market Hypothesis</b> dictates that stock prices should reflect all available information. \n",
    "    - This means that the technical and fundamental analysis are useless.\n",
    "<br><br>\n",
    "\n",
    "- The process of unpredicatable stock movements is called the <b>random walk</b> process."
   ]
  },
  {
   "cell_type": "markdown",
   "metadata": {
    "slideshow": {
     "slide_type": "slide"
    }
   },
   "source": [
    "## Versions of EMH\n",
    "\n",
    "- <b>Weak-form hypothesis</b>: stock prices reflect all the information that can be derived from the market trading data (i.e. past prices, trading volume, or short interest, etc.)\n",
    "    - It essentially states that technical analysis is useless.\n",
    "<br><br>\n",
    "- <b>Semistrong-form hypothesis</b>: stock prices reflect all publicly available information about the firm's prospects (i.e. market trading data + quality of management, earnings forecast, accounting practices, etc.)\n",
    "    - Hence both fundamental and technical analysis are useless.\n",
    "<br><br>\n",
    "- <b>Strong-form hypothesis</b>: stock prices reflect all relevant information, including the insider information.\n",
    "    - Again, technical and fundamanetal analysis are useless."
   ]
  },
  {
   "cell_type": "markdown",
   "metadata": {
    "slideshow": {
     "slide_type": "slide"
    }
   },
   "source": [
    "## Technical Analysis\n",
    "\n",
    "<b>Purpose:</b> Search for predicatable patterns in stock prices, which can be used to make profitable transactions.\n",
    "<br>  \n",
    "- Technical analysts try to exploit the sluggish reponse of stock prices to changes in fundamental factors.\n",
    "- They also use <b>relative strength</b> approach where they compare stock performance relative to the market or other stocks.\n",
    "    - Could just look at change in ratios.\n",
    "    \n",
    "<br><br>\n",
    "Note: Technical analysis is useless if markets follow any form of Efficient Market Hypothesis."
   ]
  },
  {
   "cell_type": "markdown",
   "metadata": {
    "slideshow": {
     "slide_type": "slide"
    }
   },
   "source": [
    "## Fundamental Analysis\n",
    "\n",
    "<b>Purpose</b>: Uses firm's earnings and dividend prospects, expectation of future interest rates, and risk of the firm to determine it's stock price. Done through discounting future payments to stockholders.\n",
    "\n",
    "<br>\n",
    "Note: Fundamental analysis is useless if markets follow semi-strong or strong form of Efficient Market Hypothesis."
   ]
  },
  {
   "cell_type": "markdown",
   "metadata": {
    "slideshow": {
     "slide_type": "slide"
    }
   },
   "source": [
    "According to EMH, only unique insight will produce profits. Since the cost to benefit ratio of finding these insights is quite large for individual investors, they are better off just purchasing passive portfolios."
   ]
  },
  {
   "cell_type": "markdown",
   "metadata": {
    "slideshow": {
     "slide_type": "slide"
    }
   },
   "source": [
    "## Abnormal Returns\n",
    "\n",
    "- If EMH hypothesis holds, then the price of the stock would change based on new information only. \n",
    "    - We can find the impact of new information by calculating <b>abnormal return</b>.\n",
    "    \n",
    "- Abnormal return = Actual return - Benchmark return\n",
    "- Abnormal return equation:\n",
    "$$r_t = a + b*r_{Mt} + e_t$$\n",
    "$$\\Downarrow$$\n",
    "<font color=blue>$$e_t = r_t - (a + b*r_{Mt})$$</font>\n",
    "\n",
    "- Note: here a and b are based on the regression analysis and we are using market index.\n",
    "- We are just isolating firm-specific returns here to get the impact of the event."
   ]
  },
  {
   "cell_type": "markdown",
   "metadata": {
    "slideshow": {
     "slide_type": "subslide"
    }
   },
   "source": [
    "- If the prices start to move before the event, then it might be more appropriate to calculate <b>cumulative abnormal return</b> to measure the impact of an event."
   ]
  },
  {
   "cell_type": "markdown",
   "metadata": {
    "slideshow": {
     "slide_type": "slide"
    }
   },
   "source": [
    "## Three Reasons EMH Might Never Be Confirmed\n",
    "\n",
    "1. <b>Magnitude Issue:</b> On a \\$100B portfolio, even a 1\\% improvement is big. However, this could be just luck, considering the volatility of the market.\n",
    "2. <b>Selection Bias Issue:</b> Investors with good investment schemes will keep it a secret. Hence there is a selection bias.\n",
    "3. <b>Lucky Event Issue:</b> Due to the shear number of bets being made, someone is bound to hit it big."
   ]
  },
  {
   "cell_type": "markdown",
   "metadata": {
    "slideshow": {
     "slide_type": "slide"
    }
   },
   "source": [
    "# Weak-Form Tests\n",
    "\n",
    "### Returns over short horizons\n",
    "\n",
    "- Empirical results show - for individual stocks - small correlations over short periods (with the exception that the sectors with the best and worst exhibit stronger correlations, which is known as the <b>momentum effect</b>) \n",
    "\n"
   ]
  },
  {
   "cell_type": "markdown",
   "metadata": {
    "slideshow": {
     "slide_type": "subslide"
    }
   },
   "source": [
    "### Returns over long horizons\n",
    "\n",
    "- Empirical results have shown a <b>negative correlation</b> over the long term: this may be explained by market overreaction to news.\n",
    "    - Could also be that market risk premium varies over time \n",
    "        - Markets want higher risk premium $\\rightarrow$ stock prices fall\n",
    "        - Then market prices rise to give appropriate risk premium\n",
    "    \n",
    "- There seems to be evidence of reversal in performance of stocks - best performing stocks during one period tend to perform the worst in the subsequent period.\n",
    "\n",
    "\n",
    "<b>Overall:</b> There seems to be evidence of short-run momentum but long-run reversal pattern in market and across sectors of the market."
   ]
  },
  {
   "cell_type": "markdown",
   "metadata": {
    "slideshow": {
     "slide_type": "slide"
    }
   },
   "source": [
    "# Semistrong-Form Tests\n",
    "\n",
    "These tests investigate whether we can generate abnormal returns by using data beyond the trading history. Below are some of the efficient market anomalies.\n",
    "\n",
    "### P/E Effect\n",
    "\n",
    "- Portfolios with low price-earnings ratio stocks have provided higher returns than high P/E portfolios.\n",
    "    - Could be because riskier will sell at lower P/E ratio.\n",
    "    \n",
    "### Small-Firm-in-January Effect\n",
    "\n",
    "- Small firms have historically generated superior returns, particulary in January.\n",
    "- The lack of liquidity for small firms might lead to higher risk premium $\\rightarrow$ lower stock prices $\\rightarrow$ higher returns."
   ]
  },
  {
   "cell_type": "markdown",
   "metadata": {
    "slideshow": {
     "slide_type": "subslide"
    }
   },
   "source": [
    "### Neglected Firm Effect\n",
    "\n",
    "- Smaller firms tend to be ignored by large investors, hence less information is available.\n",
    "- This makes them riskier and command higher risk premium, which lowers the cost of the stock.\n",
    "- Liquidity issue with neglected-firms might also explain the higher risk premium $\\rightarrow$ lower stock prices $\\rightarrow$ higher returns.\n",
    "\n",
    "### Book-to-Market Ratios\n",
    "\n",
    "- High Book-to-Market ratio firms have historically outperformed the rest of the market.\n"
   ]
  },
  {
   "cell_type": "markdown",
   "metadata": {
    "slideshow": {
     "slide_type": "subslide"
    }
   },
   "source": [
    "### Post-Earnings-Announcement Price Drift\n",
    "\n",
    "- The cumulative abnormal return of stocks have been shown to drift even after the event becomes public."
   ]
  },
  {
   "cell_type": "markdown",
   "metadata": {
    "slideshow": {
     "slide_type": "slide"
    }
   },
   "source": [
    "# Strong-Form Tests\n",
    "\n",
    "- Makets are not expected to be strong-form efficient: anyone with insider information should be able to make superior profits."
   ]
  },
  {
   "cell_type": "markdown",
   "metadata": {
    "slideshow": {
     "slide_type": "slide"
    }
   },
   "source": [
    "## Explanations for Efficient Market Anomalies\n",
    "\n",
    "1. The identified properties are acting as proxies for some fundamental determinants of risks. This leads to higher risk premiums and hence better performance.\n",
    "2. Data Mining can lead to variable(s) that appear predictive of stock performance - Many of the anomalies disappear after being discovered."
   ]
  }
 ],
 "metadata": {
  "celltoolbar": "Slideshow",
  "kernelspec": {
   "display_name": "Python 3",
   "language": "python",
   "name": "python3"
  },
  "language_info": {
   "codemirror_mode": {
    "name": "ipython",
    "version": 3
   },
   "file_extension": ".py",
   "mimetype": "text/x-python",
   "name": "python",
   "nbconvert_exporter": "python",
   "pygments_lexer": "ipython3",
   "version": "3.7.1"
  }
 },
 "nbformat": 4,
 "nbformat_minor": 2
}
