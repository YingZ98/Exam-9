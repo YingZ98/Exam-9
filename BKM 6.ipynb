{
 "cells": [
  {
   "cell_type": "markdown",
   "metadata": {
    "slideshow": {
     "slide_type": "slide"
    }
   },
   "source": [
    "<b>Gambling</b> - Assuming risk for the enjoyment of the risk <br>\n",
    "<b>Speculation</b> - Assuming risk because one perceives a favorable risk-return trade-off.\n",
    "\n",
    "- Clarification of the difference - If the expected profit of a bet is 0 or less, then it's a gamble. Else, it's a speculation."
   ]
  },
  {
   "cell_type": "markdown",
   "metadata": {
    "slideshow": {
     "slide_type": "slide"
    }
   },
   "source": [
    "- <b>Risk averse</b> - Investors that only take on investments with positive risk premium or risk-free return. They penalize the return of an investment based on the risk involved.\n",
    "- <b>Rish neutral</b> - Investors ignore risk and base decisions only on expected return.(i.e. A = 0)\n",
    "- <b>Risk lovers</b> - These investors take on riskier investments and are willing to accept a lower return to gain a higher level of risk. (i.e. A < 0)"
   ]
  },
  {
   "cell_type": "markdown",
   "metadata": {
    "slideshow": {
     "slide_type": "slide"
    }
   },
   "source": [
    "## Utility\n",
    "\n",
    "<b>Purpose</b> - If riskier investments have higher return, then it gets hard to tell which investment is optimal. The utility function helps make this decision more objective.\n",
    "- Higher return-to-risk portfolios have higher utility and hence are desired\n",
    "\n",
    "Utility function equation (to be used with values in <b>decimal</b> format):\n",
    "$$A \\text{ = Degree of risk aversion}$$\n",
    "$$E(r) \\text{ = Expected return}$$\n",
    "$$\\sigma \\text{ = Expected risk}$$\n",
    "\n",
    "\n",
    "<font color=blue>$$U = E(r) - \\frac{1}{2}*A*\\sigma^2$$</font>\n",
    "<b>Note</b> - we are assuming portfolio's returns are normally distributed, so std. is an appropriate measure of risk.\n",
    "- For risk-free investments, $U = E(r_f)$"
   ]
  },
  {
   "cell_type": "markdown",
   "metadata": {
    "slideshow": {
     "slide_type": "slide"
    }
   },
   "source": [
    "<b>Certainty equivalent rate</b> - The risk-free rate that would provide you with same utility as a risky investment. This is basically guarenteed return without risk.\n",
    "- Apparently, this is used to compare the utility value of competing portfolios.\n",
    "    - why can't we just directly compare the utility scores rather than converting them into risk-free returns and then comparing those?"
   ]
  },
  {
   "cell_type": "markdown",
   "metadata": {
    "slideshow": {
     "slide_type": "slide"
    }
   },
   "source": [
    "<b>mean-variance (M-V) criterion</b> - portfolio A dominates portfolio B if two conditions are met:\n",
    "1. $E(r_A) \\geq  E(r_B)$\n",
    "2. $\\sigma_A \\leq \\sigma_B$\n",
    "\n",
    "i.e. return is greater or equal and lower or equal risk (one of these inequalities would have to be strict to ensure <b>dominance</b>)"
   ]
  },
  {
   "cell_type": "markdown",
   "metadata": {
    "slideshow": {
     "slide_type": "slide"
    }
   },
   "source": [
    "- Portfolios to the northwest (of P) in the risk-return plane always dominate.\n",
    "- However, portfolios in the southwest and northeast can be equivalent or offer better risk-return\n",
    "    - Portfolios on the indifference curve offer the same risk-return(aka utility) as portfolio P\n",
    "<br>\n",
    "<center><img src=\"images/indifference_curve.JPG\"></center>\n",
    "\n",
    "- Note: indifference curve with Utility of .09 is always going to have 4% higher expected return than an indifference curve with Utility of .05 \n",
    "    - If you take difference of Utility functions, the E(r) of $U_9$ would be 4% higher"
   ]
  },
  {
   "cell_type": "markdown",
   "metadata": {
    "slideshow": {
     "slide_type": "slide"
    }
   },
   "source": [
    "- The initial decision of <b>capital allocation</b> is to determine how much to invest in risky (P) vs risk-free (F) assets.\n",
    "    - P: Composed of stocks and long-term bonds\n",
    "    - F: Money Market funds (Treasury bills, bank certificates of deposit and commercial paper)\n",
    "    "
   ]
  },
  {
   "cell_type": "markdown",
   "metadata": {
    "slideshow": {
     "slide_type": "subslide"
    }
   },
   "source": [
    "$$ E(r_p) \\text{ = Expected rate of return of risky portfolio}$$\n",
    "$$ \\sigma_p \\text{ = std. of risky portfolio}$$\n",
    "$$ r_f \\text{ = rate of return of risk-free asset}$$\n",
    "$$ y \\text{ = proportion of investment in risky portfolio}$$\n",
    "<br>\n",
    "We can write the <b>expected rate of return of complete portfolio</b> as:\n",
    "$$E(r_C) = y*E(r_p) +(1 - y)*r_f$$\n",
    "<font color = blue>$$E(r_C) = r_f + y*(E(r_p) - r_f) \\tag{1}$$</font>\n",
    "- Equation (1) interpretation - base return is risk-free rate and we assume investors are risk averse, so the risk premium ($E(r_p) - r_f$) is positive.\n",
    "$$ \\text{since, } \\sigma_c = y * \\sigma_p$$<br>\n",
    "<font color = blue>$$ E(r_C) = r_f + \\frac{\\sigma_c}{\\sigma_p}*(E(r_p) - r_f)\\tag{2}$$</font>\n",
    "- The equation (2) shows the relationship between expected return and std.\n"
   ]
  },
  {
   "cell_type": "markdown",
   "metadata": {
    "slideshow": {
     "slide_type": "subslide"
    }
   },
   "source": [
    "- We can use equation (2) to graph the capital allocation line (CAL) on the risk-return plane (for complete portfolio).\n",
    "    - The slope of the CAL is: $S = \\frac{E(r_p) - r_f}{\\sigma_p}$ (since $ E(r_C) = r_f + \\frac{\\sigma_c}{\\sigma_p}*(E(r_p) - r_f) \\Leftrightarrow  E(r_C) = r_f + \\sigma_c*S$)\n",
    "<br><br>\n",
    "- Graph of CAL:\n",
    "<center><img src=\"images/CAL_1.JPG\"></center>\n",
    "- Note: The axis of the CAL graph are expected return and std. of the <b>complete portfolio</b>"
   ]
  },
  {
   "cell_type": "markdown",
   "metadata": {
    "slideshow": {
     "slide_type": "subslide"
    }
   },
   "source": [
    "- $S = \\frac{E(r_p) - r_f}{\\sigma_p}$ can be interpreted as extra return per extra risk.\n",
    "    - This slope is also referred to as <b>reward-to-volatility ratio</b> or <b>Sharpe ratio</b>.\n",
    "\n",
    "<b>Important</b>: If the complete protfolio is not 100% made out of P, then the Sharpe ratio calculation would be based on expected return and std. of the complete potfolios, which in theory should still equal the Sharpe ratio of portfolio made out of P only (if the complete portfolio is a mixture of risky asset (P) and risk-free asset (F))."
   ]
  },
  {
   "cell_type": "markdown",
   "metadata": {
    "slideshow": {
     "slide_type": "slide"
    }
   },
   "source": [
    "Since the borrowing rate is generally not equal to the risk-free rate, hence the shape ratio is modified as follows (when y > 1).\n",
    "\n",
    "$$S = \\frac{E(r_p)-r_f^B}{\\sigma_P}$$\n",
    "\n",
    "- This has the effect of lowering the extra return to extra risk, hence it lowers the slope."
   ]
  },
  {
   "cell_type": "markdown",
   "metadata": {
    "slideshow": {
     "slide_type": "slide"
    }
   },
   "source": [
    "The table shows that as allocation to risky asset increases (as y increases) the expected return and std. also increases, but the ultility increases to a point and then starts decreasing, which signals that increase in risk is starting to overpower the returns of the complete portfolio.\n",
    "<br>\n",
    "<center><img src=\"images/Table_6.4.JPG\"></center>\n",
    "\n",
    "Hence, Utility function is a $\\cap$-shaped function"
   ]
  },
  {
   "cell_type": "markdown",
   "metadata": {
    "slideshow": {
     "slide_type": "slide"
    }
   },
   "source": [
    "When we take the derivative of the utility function to calculate the optimal y, we get the following equation:\n",
    "\n",
    "$$y^* = \\frac{E(r_p)-r_f}{A*\\sigma_p^2}$$"
   ]
  },
  {
   "cell_type": "markdown",
   "metadata": {
    "slideshow": {
     "slide_type": "slide"
    }
   },
   "source": [
    "## Steps in building a complete potfolio\n",
    "1. Pick a portfolio of risky assets (P). <font color = blue>Discussed in Ch 7 - created using CAL and Portfolio Opportunity Set</font>\n",
    "2. Draw the CAL\n",
    "3. Draw the indifference curves with varying ultilities.\n",
    "4. Complete port. (C) lies where CAL is tangent to the highest utility-indifference curve.<br>\n",
    "<b>or</b> \n",
    "Use $y^* = \\frac{E(r_p)-r_f}{A*\\sigma_p^2}$ to get the optimal proportion of risky assets (P)\n",
    "<br>\n",
    "<center><img src=\"images/Optimal_Portfolio.JPG\"></center>"
   ]
  },
  {
   "cell_type": "markdown",
   "metadata": {
    "slideshow": {
     "slide_type": "slide"
    }
   },
   "source": [
    "- When we use passive portfolio (Index fund) as the risky asset, then we get Capital Market Line (CML).\n",
    "\n",
    "<b>Advantages of passive portfolios:</b>\n",
    "1. Lower expense ratios\n",
    "2. <b>free rider benefit</b> because investors are implementing active strategy, mispricings should disappear. Therefore, most assets should be fairly priced at any time."
   ]
  }
 ],
 "metadata": {
  "celltoolbar": "Slideshow",
  "kernelspec": {
   "display_name": "Python 3",
   "language": "python",
   "name": "python3"
  },
  "language_info": {
   "codemirror_mode": {
    "name": "ipython",
    "version": 3
   },
   "file_extension": ".py",
   "mimetype": "text/x-python",
   "name": "python",
   "nbconvert_exporter": "python",
   "pygments_lexer": "ipython3",
   "version": "3.7.1"
  }
 },
 "nbformat": 4,
 "nbformat_minor": 2
}
