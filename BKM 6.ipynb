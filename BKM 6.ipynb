{
 "cells": [
  {
   "cell_type": "markdown",
   "metadata": {
    "slideshow": {
     "slide_type": "slide"
    }
   },
   "source": [
    "<b>Gambling</b> - Assuming risk for the enjoyment of the risk <br>\n",
    "<b>Speculation</b> - Assuming risk because one perceives a favorable risk-return trade-off.\n",
    "\n",
    "    clarification of the difference - If the expected profit of a bet is 0 or less, then it's a gamble. Else, it's a speculation."
   ]
  },
  {
   "cell_type": "markdown",
   "metadata": {
    "slideshow": {
     "slide_type": "slide"
    }
   },
   "source": [
    "- <b>Risk averse</b> - Investors that only take on investments with positive risk premium or risk-free return. The penalize the return of an investment based on the risk involved.\n",
    "- <b>Rish neutral</b> - Investors ignore risk and base decisions only on expected return.(i.e. A = 0)\n",
    "- <b>Risk lovers</b> - These investors take on riskier investments and are willing to accept a lower return to gain a higher level of risk. (i.e. A < 0)"
   ]
  },
  {
   "cell_type": "markdown",
   "metadata": {
    "slideshow": {
     "slide_type": "slide"
    }
   },
   "source": [
    "## Utility\n",
    "\n",
    "<b>Purpose</b> - If riskier investments have higher return, then it gets hard to tell which investment is optimal. The utility function helps make this decision more objective.\n",
    "- Higher return to risk portfolios have higher utility and hence are desired\n",
    "\n",
    "Utility function equation (to be used with values in <b>decimal</b> format):\n",
    "$$A \\text{ = Degree of risk aversion}$$\n",
    "$$E(r) \\text{ = Expected return}$$\n",
    "$$\\sigma \\text{ = Expected risk}$$\n",
    "\n",
    "\n",
    "<font color=blue>$$U = E(r) - \\frac{1}{2}*A*\\sigma^2$$</font>\n",
    "<b>Note</b> - we are assuming portfolio's returns are normally distributed, so std. is an appropriate measure of risk.\n",
    "- For risk-free investments, $U = E(r_f)$"
   ]
  },
  {
   "cell_type": "markdown",
   "metadata": {
    "slideshow": {
     "slide_type": "slide"
    }
   },
   "source": [
    "<b>Certainty equivalent rate</b> - The risk-free rate that would provide you with same utility as a risk investment. This is basically guarenteed return without risk.\n",
    "- Apparently, this is used to compare the utility value of competing portfolios.\n",
    "    - why can't we just directly compare the utility scores rather than converting them into risk-free returns and then comparing those?"
   ]
  },
  {
   "cell_type": "markdown",
   "metadata": {
    "slideshow": {
     "slide_type": "slide"
    }
   },
   "source": [
    "<b>mean-variance (M-V) criterion</b> - portfolio A dominates portfolio B if two conditions are met:\n",
    "1. $E(r_A) \\geq  E(r_B)$\n",
    "2. $\\sigma_A \\leq \\sigma_B$\n",
    "\n",
    "i.e. return is greater or equal and lower or equal risk (one of these inequalities would have to be strict to ensure <b>dominance</b>)"
   ]
  },
  {
   "cell_type": "markdown",
   "metadata": {
    "slideshow": {
     "slide_type": "slide"
    }
   },
   "source": [
    "- portfolios to the northwest (of P) in the risk-return plane always dominate.\n",
    "- However, portfolios in the southwest and northeast can be equivalent or offer better risk-return\n",
    "    - portfolios on the indifference curve offer the same risk-return(aka utility) as portfolio P<br>\n",
    "<img src=\"images/indifference curve.jpg\">"
   ]
  },
  {
   "cell_type": "markdown",
   "metadata": {
    "slideshow": {
     "slide_type": "slide"
    }
   },
   "source": [
    "- The initial decision of <b>capital allocation</b> is to determine how much to invest in risky (P) vs risk-free (F) assets.\n",
    "    - P: Composed of stocks and long-term bonds\n",
    "    - F: Money Market funds (Treasury bills, bank certificates of deposit and commercial paper)\n",
    "    "
   ]
  },
  {
   "cell_type": "markdown",
   "metadata": {
    "slideshow": {
     "slide_type": "subslide"
    }
   },
   "source": [
    "$$ E(r_p) \\text{ = Expected rate of return of risky portfolio}$$\n",
    "$$ \\sigma_p \\text{ = std. of risky portfolio}$$\n",
    "$$ r_f \\text{ = rate of return of risk-free asset}$$\n",
    "$$ y \\text{ = proportion of investment in risky portfolio}$$\n",
    "<br>\n",
    "We can write the <b>expected rate of return of complete portfolio</b> as:\n",
    "$$E(r_C) = y*E(r_p) +(1 - y)*r_f$$\n",
    "<font color = blue>$$E(r_C) = r_f + y*(E(r_p) - r_f)$$</font>\n",
    "$$ \\text{since, } \\sigma_c = y * \\sigma_p$$<br>\n",
    "<font color = blue>$$ E(r_C) = r_f + \\frac{\\sigma_c}{\\sigma_p}*(E(r_p) - r_f)\\tag{1}$$</font>\n",
    "\n",
    "- The equation (1) shows the relationship between expected return and std."
   ]
  },
  {
   "cell_type": "markdown",
   "metadata": {
    "slideshow": {
     "slide_type": "subslide"
    }
   },
   "source": [
    "- We can use equation (1) to graph the capital allocation line (CAL) on the risk-return plane (for complete portfolio).\n",
    "    - The slope of the CAL is: $S = \\frac{E(r_p) - r_f}{\\sigma_p}$ (since $ E(r_C) = r_f + \\frac{\\sigma_c}{\\sigma_p}*(E(r_p) - r_f) \\Leftrightarrow  E(r_C) = r_f + \\sigma_c*S$)"
   ]
  }
 ],
 "metadata": {
  "celltoolbar": "Slideshow",
  "kernelspec": {
   "display_name": "Python 3",
   "language": "python",
   "name": "python3"
  },
  "language_info": {
   "codemirror_mode": {
    "name": "ipython",
    "version": 3
   },
   "file_extension": ".py",
   "mimetype": "text/x-python",
   "name": "python",
   "nbconvert_exporter": "python",
   "pygments_lexer": "ipython3",
   "version": "3.6.3"
  }
 },
 "nbformat": 4,
 "nbformat_minor": 2
}
