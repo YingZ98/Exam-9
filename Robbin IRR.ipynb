{
 "cells": [
  {
   "cell_type": "markdown",
   "metadata": {
    "slideshow": {
     "slide_type": "slide"
    }
   },
   "source": [
    "## Overview\n",
    "- The Paper examines the return from two perspectives:\n",
    "    - Return provided to the equity investor who provides capital to the insurer.\n",
    "    - Return earned by the insurer.\n",
    "<br><br>    \n",
    "- Two hypothetical companies used in paper:\n",
    "    - Single policy company - writes an individual policy.\n",
    "    - Book of business - writes an annual policy that is a scaled version of the single policy.\n",
    "<br><br>\n",
    "- Each insurer is liquidated when teh last loss and expense payment on the final policy is made."
   ]
  },
  {
   "cell_type": "markdown",
   "metadata": {
    "slideshow": {
     "slide_type": "slide"
    }
   },
   "source": [
    "## Discussed Models\n",
    "\n",
    "1. <b>Internal Rate of Return on Equity Flows (IRR):</b> Return earned by an equity investor in the single policy company.\n",
    "2. <b>Growth Model CY ROE (ROE):</b> ROE that will be earned by BoB insurer if it grows at a constant rate.\n",
    "3. <b>Present Value of Income over PV of Equity (PVI/PVE):</b> Based on PV of the projected income and equity of the single policy company model."
   ]
  },
  {
   "cell_type": "markdown",
   "metadata": {
    "slideshow": {
     "slide_type": "slide"
    }
   },
   "source": [
    "## Author's Goals For Prices\n",
    "\n",
    "1. Should be <u>consistent and sensitive to risk</u>. The discussed models will satisfy this, as the rate of returns are sensitive to the impact of leverage.\n",
    "2. Should <u>reflect management's risk return preference</u>. To achieve this, the model is based on the theoretical amount of surplus as opposed to the actual level."
   ]
  },
  {
   "cell_type": "markdown",
   "metadata": {
    "slideshow": {
     "slide_type": "slide"
    }
   },
   "source": [
    "## Single Policy Company Model\n",
    "\n",
    "- Model considers both SAP and GAAP accounting.\n",
    "    - GAAP incurs expenses as the premium is earned.\n",
    "    - SAP incurs expenses according to a fixed pattern.\n",
    "    - The difference between the two is referred to as DAC.\n",
    "<br><br>    \n",
    "- UW gain/loss = Earned Premium - Incurred Losses - Incurred Expenses\n",
    "<br><br>\n",
    "- Assets = Unearned Premium + Expense Reserve + Loss Reserve + Surplus\n",
    "<br><br>\n",
    "- Investable Assets = Assets - Receivables and Recoverables\n",
    "<br><br>\n",
    "- Pre-tax income = U/W income and Investment income"
   ]
  },
  {
   "cell_type": "markdown",
   "metadata": {
    "slideshow": {
     "slide_type": "subslide"
    }
   },
   "source": [
    "## IRR on Quity Flows\n",
    "\n",
    "- <b>Equity flows</b> arise due to:\n",
    "    - stock purchase/repurchase\n",
    "    - Dividend payment\n",
    "<br><br>    \n",
    "- Equity flow = Income - Change in equity flow\n",
    "<br><br>\n",
    "- GAAP equity = SAP Surplus + DAC"
   ]
  },
  {
   "cell_type": "markdown",
   "metadata": {
    "slideshow": {
     "slide_type": "subslide"
    }
   },
   "source": [
    "## PVI/PVE Measure\n",
    "\n",
    "- The author uses cost of capital to discount both income and equity.\n",
    "    - Since insurer can borrow at the cost of capital rate.\n",
    "- Discount income to the end of first year. - produces return that is consistent with the usual definition of ROE.\n",
    "- Equity is discounted to time 0. Equity is commited starting at time 0.\n",
    "- $\\frac{PVI}{PVE}$ = IRR (if IRR is used as the rate for discounting)."
   ]
  },
  {
   "cell_type": "markdown",
   "metadata": {
    "slideshow": {
     "slide_type": "slide"
    }
   },
   "source": [
    "## Book of Business Growth Model\n",
    "\n",
    "- <b>GBBOP:</b> Growth Balance Beginning of the period.\n",
    "- <b>GBEOP:</b> Growth Balance End of the Period.\n",
    "<br><br>\n",
    "- <b>GQBOP:</b> Growth Equity Beginning of the period.\n",
    "- <b>GQEOP:</b> Growth Equity End of the Period.\n",
    "<br><br>\n",
    "- The equity at the beginning of the period aligns with the policy being written. (Could be independent of the pervious period's ending equity)"
   ]
  },
  {
   "cell_type": "markdown",
   "metadata": {
    "slideshow": {
     "slide_type": "subslide"
    }
   },
   "source": [
    "#### Growth Model Calendar Year Return Method (ROE)\n",
    "- Provides another way to interpret IRR.\n",
    "- We assume we are in <b>Equilibrium Growth Phase</b>.\n",
    "    - Happens when the income statement and balance sheet accounts will be increasing at the growth rate.\n",
    "<br><br>\n",
    "- ROE = $\\frac{\\text{Income discounted to the end of first period}}{\\text{Equity discounted to the beginning of first period}}$ (Similar to PVI/PVE)   \n",
    "<br><br>\n",
    "- CY ROE = IRR (If book is growing at rate equal to IRR)."
   ]
  },
  {
   "cell_type": "markdown",
   "metadata": {
    "slideshow": {
     "slide_type": "subslide"
    }
   },
   "source": [
    "- When the insurer is still growing, the growth actually reduces the ROE.\n",
    "    - Could be increase ROE by discounting the reserves."
   ]
  },
  {
   "cell_type": "markdown",
   "metadata": {
    "slideshow": {
     "slide_type": "slide"
    }
   },
   "source": [
    "## Impacts on Profit Provision\n",
    "\n",
    "- Things that increase the profit:\n",
    "    - Reducing the amount of surplus (obviously increases ROE).\n",
    "    - Higher interest rates (Investment income increases).\n",
    "    - Increase the duration of loss payout (More time for invesetments to accrue)."
   ]
  }
 ],
 "metadata": {
  "celltoolbar": "Slideshow",
  "kernelspec": {
   "display_name": "Python 3",
   "language": "python",
   "name": "python3"
  },
  "language_info": {
   "codemirror_mode": {
    "name": "ipython",
    "version": 3
   },
   "file_extension": ".py",
   "mimetype": "text/x-python",
   "name": "python",
   "nbconvert_exporter": "python",
   "pygments_lexer": "ipython3",
   "version": "3.7.1"
  }
 },
 "nbformat": 4,
 "nbformat_minor": 2
}
