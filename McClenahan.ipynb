{
 "cells": [
  {
   "cell_type": "markdown",
   "metadata": {
    "slideshow": {
     "slide_type": "slide"
    }
   },
   "source": [
    "<b>Overview:</b> Paper presents various ways in which we can measure the profitability of an insurance company.\n",
    "\n",
    "- Two ways to measure insurer's results:\n",
    "    - Profit\n",
    "    - Rate of return\n",
    "<br><br>    \n",
    "- McClenahan focuses on rate of return methods and applies them on a prospective basis."
   ]
  },
  {
   "cell_type": "markdown",
   "metadata": {
    "slideshow": {
     "slide_type": "slide"
    }
   },
   "source": [
    "## Profit vs Rate of Return\n",
    "\n",
    "- Since <b>profit</b> doesn't have any base associated with, it doesn't convey anything other than a single figure.\n",
    "    - Different size companies with same profits look the same.\n",
    "<br><br>    \n",
    "- <b>Rate of Return</b> on the other hand has an associated base and can be used to measure efficiency and compare companies.\n",
    "    - Regulators focus on rate of return."
   ]
  },
  {
   "cell_type": "markdown",
   "metadata": {
    "slideshow": {
     "slide_type": "slide"
    }
   },
   "source": [
    "## Opportunity Cost\n",
    "\n",
    "- <b>Definition:</b> Since policyholders pay premium before the policy starts, they are losing potential investment income on the premium. Therefore, they should receive some credit for the lost investment income.\n",
    "\n",
    "- Two things impact opportunity cost:\n",
    "    1. Line of business - longer tail lines have higher opportunity cost.\n",
    "    2. Cash needed to support the infrastructure (buildings/furniture, etc.) - lowers opportunity cost.\n",
    "<br><br>    \n",
    "- Note, we need to use risk-free rate to calculate opportunity cost."
   ]
  },
  {
   "cell_type": "markdown",
   "metadata": {
    "slideshow": {
     "slide_type": "subslide"
    }
   },
   "source": [
    "- Investment income is earned on total surplus made of:\n",
    "    - Policyholder funds - policyholders should only receive benefit from investment income on this.\n",
    "    - Shareholder funds."
   ]
  },
  {
   "cell_type": "markdown",
   "metadata": {
    "slideshow": {
     "slide_type": "subslide"
    }
   },
   "source": [
    "<center><img src = 'images/Opportunity_Cost_1.JPG'></center>"
   ]
  },
  {
   "cell_type": "markdown",
   "metadata": {
    "slideshow": {
     "slide_type": "subslide"
    }
   },
   "source": [
    "<center><img src = 'images/Opportunity_Cost_2.JPG'></center>\n",
    "<center><img src = 'images/Opportunity_Cost_3.JPG'></center>"
   ]
  },
  {
   "cell_type": "markdown",
   "metadata": {
    "slideshow": {
     "slide_type": "slide"
    }
   },
   "source": [
    "## ROE \n",
    "\n",
    "- <b>Definition:</b> Compares the profit of the insurer to the owner's investment.<br><br>\n",
    "- There are three problems with the use of ROE:\n",
    "    - Return on Equity vs Rate Equity\n",
    "    - Surplus Allocation\n",
    "    - Regulating ROE is often a complicated method of regulating ROS\n",
    "    \n",
    "  \n",
    "\n"
   ]
  },
  {
   "cell_type": "markdown",
   "metadata": {
    "slideshow": {
     "slide_type": "subslide"
    }
   },
   "source": [
    "#### Problem 1: Return on Equity vs Rate Equity\n",
    "\n",
    "- Forces the regulators to focus on return on equity rather than rate equity.\n",
    "    - ROE can be distorted by <b>leverage ratio</b> of the insurer.\n",
    "\n",
    "<center><img src='images/McClenahan_ROE_1.JPG'></center>    \n",
    "- <b>Leverage Ratio =</b> $\\frac{Premium}{Surplus}$ and Surplus $\\leftrightarrow$ Equity"
   ]
  },
  {
   "cell_type": "markdown",
   "metadata": {
    "slideshow": {
     "slide_type": "subslide"
    }
   },
   "source": [
    "#### Problem 2: Surplus Allocation\n",
    "\n",
    "- ROE regulation forces the insurer to allocate surplus to line and geographical area.\n",
    "    - This is artificial allocation since 100% of insurer's surplus is available to support each risk.\n",
    "    \n",
    "- This method completely ignores the surplus that has not been allocated to the segment.\n",
    "\n"
   ]
  },
  {
   "cell_type": "markdown",
   "metadata": {
    "slideshow": {
     "slide_type": "subslide"
    }
   },
   "source": [
    "#### Problem 3: ROE is a complicated method of regulating ROS\n",
    "\n",
    "- Regulators try to use <b>target ratios of premium to surplus</b> to assign surplus.\n",
    "- Example:\n",
    "<center>Target ROE = 15%</center>\n",
    "<center>Target risk ratio/leverage ratio$\\left(\\frac{Premium}{Surplus}\\right)$ = 3</center><br>\n",
    "<center>Target ROE = 15% = $\\frac{Profit}{Surplus \\cdot \\frac{Premium}{Surplus}} = \\frac{15\\%}{3} =5\\%$ = ROS</center>"
   ]
  },
  {
   "cell_type": "markdown",
   "metadata": {
    "slideshow": {
     "slide_type": "slide"
    }
   },
   "source": [
    "## Return on Sales(ROS)\n",
    "\n",
    "- <b>Definition:</b> Specifies an adequate profit margin as a percentage of premium.\n",
    "\n",
    "#### Benefits of using ROS\n",
    "- Easily understood since it's similar to the markup concept.\n",
    "- True rate regulation since it does not depend on the relationship between premium and equity."
   ]
  },
  {
   "cell_type": "markdown",
   "metadata": {
    "slideshow": {
     "slide_type": "slide"
    }
   },
   "source": [
    "## Profitability Standards\n",
    "\n",
    "- If rates are inadequate, insureres will:\n",
    "    - Tighthen UW standards\n",
    "    - Reduce volume\n",
    "<br><br>    \n",
    "- Regulators can look at the following to see if insurers are pulling back:\n",
    "    - Increasing size of residual market.\n",
    "    - Reducing degree of product diversity.\n",
    "    - Reduced innovation."
   ]
  }
 ],
 "metadata": {
  "celltoolbar": "Slideshow",
  "kernelspec": {
   "display_name": "Python 3",
   "language": "python",
   "name": "python3"
  },
  "language_info": {
   "codemirror_mode": {
    "name": "ipython",
    "version": 3
   },
   "file_extension": ".py",
   "mimetype": "text/x-python",
   "name": "python",
   "nbconvert_exporter": "python",
   "pygments_lexer": "ipython3",
   "version": "3.7.1"
  }
 },
 "nbformat": 4,
 "nbformat_minor": 2
}
