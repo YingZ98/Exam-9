{
 "cells": [
  {
   "cell_type": "markdown",
   "metadata": {
    "slideshow": {
     "slide_type": "slide"
    }
   },
   "source": [
    "## Capital Allocation\n",
    "\n",
    "- It is useful to allocate capital to make better pricing and UW decisions.\n",
    "- Assists with value maximization - management can determine whether a line is producing sufficient return to cover its cost of capital."
   ]
  },
  {
   "cell_type": "markdown",
   "metadata": {
    "slideshow": {
     "slide_type": "slide"
    }
   },
   "source": [
    "## Metrics to Evaluate Performance (Based on Allocated Capital)\n",
    "\n",
    "- <b>RAROC =</b> $\\frac{(\\text{Original Premium} + \\text{Risk Margin} - Expenses) \\cdot (1+ \\text{Expected Investment Income return}) - PV(\\text{Expected Claims})}{\\text{Allocated Capital}}$ \n",
    "    - We want this to be greater than the cost of capital.<br><br>\n",
    "- <b>Economic Value Added (EVA) =</b> Net Income$_i$ - $r_i \\cdot C_i$\n",
    "    - If both sides divided by capital, then we get Economic Value Added on Capital (EVAOC)"
   ]
  },
  {
   "cell_type": "markdown",
   "metadata": {
    "slideshow": {
     "slide_type": "slide"
    }
   },
   "source": [
    "## Methods For Deriving the Cost of Capital\n",
    "\n",
    "- Base it on cost of capital for similar monoline firm.\n",
    "    - Issue: Hard to find monoline firm with similar UW standards.\n",
    "- Use regression on the data of multiline insurers to derive cost of capital by line."
   ]
  },
  {
   "cell_type": "markdown",
   "metadata": {
    "slideshow": {
     "slide_type": "slide"
    }
   },
   "source": [
    "## Friction Costs\n",
    "\n",
    "- Friction costs reduce the return on capital.\n",
    "\n",
    "#### Sources of friction costs\n",
    "1. <b>Agency and Information costs:</b> management may behave opportunistically, and therefore fail to achieve the owner's objective of value maximization.\n",
    "2. <b>Double taxation:</b> investing in securities via insurance companies produces lower after tax returns than purchasing the securities directly due to double taxation.\n",
    "3. <b>Regulations:</b> various regulations force the insurer to hold inefficient investment portfolios. (too much capital)"
   ]
  },
  {
   "cell_type": "markdown",
   "metadata": {
    "slideshow": {
     "slide_type": "slide"
    }
   },
   "source": [
    "## Methods for Allocating Capital\n",
    "<br>\n",
    "1. RBC<br>\n",
    "2. CAPM<br>\n",
    "3. VaR<br>\n",
    "4. Insolvency Put Option/EPD Ratio<br>\n",
    "5. Merton-Perold Method<br>\n",
    "6. Myers-Read Method"
   ]
  },
  {
   "cell_type": "markdown",
   "metadata": {
    "slideshow": {
     "slide_type": "slide"
    }
   },
   "source": [
    "## RBC\n",
    "\n",
    "- Not a good method according to Cummins:\n",
    "    - It ignores several important sources of risk.\n",
    "    - Factors used have questionable accuracy.\n",
    "    - Often based on book value instead of market value / ignores franchise value."
   ]
  },
  {
   "cell_type": "markdown",
   "metadata": {
    "slideshow": {
     "slide_type": "slide"
    }
   },
   "source": [
    "## CAPM\n",
    "\n",
    "$$r_E = r_F + \\beta_E \\cdot (r_M - r_F)$$<br>\n",
    "$$\\beta_E = \\beta_A \\cdot (1+k_1+k_2) + \\beta_1s_1 + \\beta_2s_2$$<br>\n",
    "$r_E$ = cost of equity capital<br>\n",
    "$\\beta_E$ = beta of the firm<br>\n",
    "$\\beta_A$ = beta of assets<br> \n",
    "$\\beta_i$ = beta of insurance risk of line i<br>\n",
    "$k_i$ = liability leverage ratio (L/E)<br>\n",
    "$s_i$ = premium leverage ratio (P/E)\n"
   ]
  },
  {
   "cell_type": "markdown",
   "metadata": {
    "slideshow": {
     "slide_type": "subslide"
    }
   },
   "source": [
    "- Then, we can calculate <b>required rate of return</b> for a line using:\n",
    "\n",
    "$$r_i = -k_i\\cdot r_F + \\beta_i \\cdot (r_M - r_F)$$\n",
    "\n",
    "This means that we are paying interest to use policyholder funds and receiving a return which is based on systematic risk."
   ]
  },
  {
   "cell_type": "markdown",
   "metadata": {
    "slideshow": {
     "slide_type": "subslide"
    }
   },
   "source": [
    "#### Issues with CAPM\n",
    "1. CAPM only reflects the systematic UW risk (the UW risk correlated with market portfolio). It does not reflect other risks (e.g. tail risk)\n",
    "2. $\\beta_i$ is hard to estimate\n",
    "3. The rates of return are impacted by other factors in addition to $\\beta$."
   ]
  },
  {
   "cell_type": "markdown",
   "metadata": {
    "slideshow": {
     "slide_type": "slide"
    }
   },
   "source": [
    "## VaR\n",
    "\n",
    "$$P[Loss_i > E[Loss_i] + C_i] = \\epsilon_i$$\n",
    "\n",
    "- Using the equation below, we can allocate capital such that all lines have similar exceedence probabilities.\n",
    "\n",
    "$$P\\left[\\frac{Loss_i}{E[Loss_i]} > 1 + \\frac{C_i}{E[Loss_i]}\\right] = \\epsilon_i$$"
   ]
  },
  {
   "cell_type": "markdown",
   "metadata": {
    "slideshow": {
     "slide_type": "subslide"
    }
   },
   "source": [
    "#### Issues\n",
    "1. Firm may not have enough capital to achieve a certain exceedence probability.\n",
    "2. This approach does not consider the impact of diversification.\n",
    "3. Does not reflect the amount by which losses will exceed the resources in the event that the exceedence level is breached."
   ]
  },
  {
   "cell_type": "markdown",
   "metadata": {
    "slideshow": {
     "slide_type": "slide"
    }
   },
   "source": [
    "## Insolvency Put Option / EPD Ratio\n",
    "\n",
    "- The EPD should be equivalent to the value of the put option.\n",
    "- Capital can be allocated to achieve equivalent ratios of $\\frac{EPD}{Liabilities}$ among lines.<br><br>\n",
    "\n",
    "<center><img src='images/Capital_EPD.JPG'></center>"
   ]
  },
  {
   "cell_type": "markdown",
   "metadata": {
    "slideshow": {
     "slide_type": "subslide"
    }
   },
   "source": [
    "#### Advantage over EPD ratio\n",
    "- Reflects the severity of the losses.\n",
    "\n",
    "#### Disadvantage\n",
    "- Does not account for diversification."
   ]
  },
  {
   "cell_type": "markdown",
   "metadata": {
    "slideshow": {
     "slide_type": "slide"
    }
   },
   "source": [
    "## Merton-Perold Method\n",
    "\n",
    "- Under this method, we look at the marginal impact on capital when each line is added.\n",
    "\n",
    "\n",
    "#### Advantage\n",
    "- Recognizes the impact of diversification.\n",
    "\n",
    "#### Disadvantage\n",
    "- Method allocates less than 100% of the risk capital.\n",
    "    - Reason: allocating all the capital would cause the firm to reject projects that would add market value.\n",
    "    - The excess capital can then be allocated to the \"corporate\" level."
   ]
  },
  {
   "cell_type": "markdown",
   "metadata": {
    "slideshow": {
     "slide_type": "slide"
    }
   },
   "source": [
    "## Myers-Read Method\n",
    "\n",
    "- Allocates 100% of the capital.\n",
    "- Aims to equalize marginal default values across the lines of business."
   ]
  },
  {
   "cell_type": "markdown",
   "metadata": {
    "slideshow": {
     "slide_type": "subslide"
    }
   },
   "source": [
    "## Myers-Read Method\n",
    "\n",
    "- Allocates capital to equalize the marginal impact of each business unit on the value of the option to default on obligations (put option).<br><br>\n",
    "\n",
    "<center>$s_i = \\frac{\\text{Capital}_i}{\\text{Liability}_i}$</center>\n",
    "<center>$\\frac{\\partial p}{\\partial s}$ = partial derivative of the put option w.r. to s</center>\n",
    "<center>$\\sigma_{iL}$ = covariance of line's losses with aggregate losses from all lines</center>\n",
    "<center>$\\sigma_{iV}$ = covariance of line's losses with the assets</center>\n",
    "<center>$\\sigma$ = overall std. = $\\sqrt{\\sigma_v^2 + \\sigma_L^2}$</center>\n",
    "<br>\n",
    "\n",
    "$$s_i = s - \\left(\\frac{\\partial p}{\\partial s}\\right)^{-1} \\cdot \\frac{\\partial p}{\\partial \\sigma} \\cdot \\frac{(\\sigma_{iL}-\\sigma_L^2) - (\\sigma_{iV} - \\sigma_{LV})}{\\sigma}$$"
   ]
  }
 ],
 "metadata": {
  "celltoolbar": "Slideshow",
  "kernelspec": {
   "display_name": "Python 3",
   "language": "python",
   "name": "python3"
  },
  "language_info": {
   "codemirror_mode": {
    "name": "ipython",
    "version": 3
   },
   "file_extension": ".py",
   "mimetype": "text/x-python",
   "name": "python",
   "nbconvert_exporter": "python",
   "pygments_lexer": "ipython3",
   "version": "3.7.1"
  }
 },
 "nbformat": 4,
 "nbformat_minor": 2
}
