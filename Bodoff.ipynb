{
 "cells": [
  {
   "cell_type": "markdown",
   "metadata": {
    "slideshow": {
     "slide_type": "slide"
    }
   },
   "source": [
    "## Overview\n",
    "\n",
    "- We want to allocate cost of capital to business units/products/perils and policies that contribute to the loss scenarios that use capital."
   ]
  },
  {
   "cell_type": "markdown",
   "metadata": {
    "slideshow": {
     "slide_type": "slide"
    }
   },
   "source": [
    "## coVaR, alternative coVaR and coTVaR\n",
    "\n",
    "#### coVaR\n",
    "- Allocates capital to events that generate losses at the select threshold.\n",
    "- <b>Issue:</b> Does not allocate anything to losses just below the threshold.\n",
    "\n",
    "#### Alternative coVaR\n",
    "-  Allocates capital to events that generate losses greater than the selected threshold\n",
    "    - Use proportion of losses for each peril/business unit/products that exceed the threshold to allocate capital.\n",
    "- <b>Issue:</b> Again, ignores losses below the selected threshold.\n"
   ]
  },
  {
   "cell_type": "markdown",
   "metadata": {
    "slideshow": {
     "slide_type": "subslide"
    }
   },
   "source": [
    "#### coTVaR\n",
    "- Allocates based on the <b>expected losses</b> for each business unit/peril/product that exceed the specified threshold\n",
    "- <b>Issue:</b> Again, it ignores the losses below the threshold. (Same issue with other tail-based measures)"
   ]
  },
  {
   "cell_type": "markdown",
   "metadata": {
    "slideshow": {
     "slide_type": "slide"
    }
   },
   "source": [
    "## Bodoff's Capital Allocation Method\n",
    "\n",
    "- Bodoff assume that capital required at a loss percentile equals that loss level ( Capital($\\alpha$) = VaR($\\alpha$) )\n",
    "- Since some events are more likely to penetrate a loss layer, the allocated needs to be based on conditional exceedance probability.\n",
    "- This method goes layer-by-layer making sure that losses fully penetrate each layer being analyzed.\n",
    "    - Don't consider a layer where losses only penetrate half-way through the layer.\n",
    "- CAT losses receive more allocation since there would be fewer events that pierce the layer."
   ]
  },
  {
   "cell_type": "markdown",
   "metadata": {
    "slideshow": {
     "slide_type": "subslide"
    }
   },
   "source": [
    "<center><img src='images/Bodoff_1.JPG'></center>"
   ]
  },
  {
   "cell_type": "markdown",
   "metadata": {
    "slideshow": {
     "slide_type": "slide"
    }
   },
   "source": [
    "<center><img src='images/Bodoff_2.JPG'></center>"
   ]
  },
  {
   "cell_type": "markdown",
   "metadata": {
    "slideshow": {
     "slide_type": "subslide"
    }
   },
   "source": [
    "<center><img src='images/Bodoff_3.JPG'></center>\n",
    "<center><img src='images/Bodoff_4.JPG'></center>"
   ]
  },
  {
   "cell_type": "markdown",
   "metadata": {
    "slideshow": {
     "slide_type": "slide"
    }
   },
   "source": [
    "## Total Cost of  An Event\n",
    "\n",
    "- Total cost of an event = loss amount + cost of capital for the event, given that it occurs."
   ]
  },
  {
   "cell_type": "markdown",
   "metadata": {
    "slideshow": {
     "slide_type": "slide"
    }
   },
   "source": [
    "## Capital Allocation Using TVaR\n",
    "\n",
    "- Capital allocation up to Var is the same as that of VaR.\n",
    "- Then, we allocate capital from VaR to TVaR.\n",
    "    - Capital would need to be allocated in proportion to each event's average loss in excess of TVaR."
   ]
  },
  {
   "cell_type": "markdown",
   "metadata": {
    "slideshow": {
     "slide_type": "slide"
    }
   },
   "source": [
    "## Implications For Risk Load\n",
    "<br>\n",
    "<center>P = premium net of expenses</center>\n",
    "<center>E[L] = expected loss</center>\n",
    "<center>r = required % rate of return on capital</center>\n",
    "<center>Contributed capital = premium net of expenses</center>\n",
    "<br><br>\n",
    "$$P = E[L] + r \\cdot (\\text{allocated capital} - \\text{contributed capital})$$\n",
    "$$\\downarrow$$\n",
    "$$P = E[L] + \\frac{r}{1+r} \\cdot (\\text{allocated capital} - E[L])$$"
   ]
  }
 ],
 "metadata": {
  "celltoolbar": "Slideshow",
  "kernelspec": {
   "display_name": "Python 3",
   "language": "python",
   "name": "python3"
  },
  "language_info": {
   "codemirror_mode": {
    "name": "ipython",
    "version": 3
   },
   "file_extension": ".py",
   "mimetype": "text/x-python",
   "name": "python",
   "nbconvert_exporter": "python",
   "pygments_lexer": "ipython3",
   "version": "3.7.1"
  }
 },
 "nbformat": 4,
 "nbformat_minor": 2
}
