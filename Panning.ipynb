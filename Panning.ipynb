{
 "cells": [
  {
   "cell_type": "markdown",
   "metadata": {
    "slideshow": {
     "slide_type": "slide"
    }
   },
   "source": [
    "## Overview \n",
    "Paper is trying to demonstrate that franchise value can be a significant portion of the total economic value.\n",
    "<br><br>\n",
    "\n",
    "- <b>Franchise value:</b> The economic value of the profits that will be earned in the future years from the future renewals of the current policies.\n",
    "    - Reflected in the firm's stock price.\n",
    "    - Based on PV(future cash flows), and is therefore exposed to interest rate risk.\n",
    "    - Usually invisible to senior executives, and is therefore unmanaged."
   ]
  },
  {
   "cell_type": "markdown",
   "metadata": {
    "slideshow": {
     "slide_type": "slide"
    }
   },
   "source": [
    "## Key Formulas\n",
    "<br>\n",
    "<center>L = Loss and LAE</center>\n",
    "<center>y = risk-free rate</center>\n",
    "<center>k = target return on surplus</center>\n",
    "<center>cr = client retention</center>\n",
    "<center>C = current economic value: PV(surplus + business already written)</center>\n",
    "<br><br>\n",
    "\n",
    "Net Income = P - L - E + (S + P - E) $\\cdot$ y\n",
    "<br><br>\n",
    "P = $\\frac{S(k-y) + L}{1+y}$ + E $\\Longleftrightarrow \\color{blue}{(1+y) \\cdot P - E \\cdot (1+y) - L = (k-y) \\cdot S}$"
   ]
  },
  {
   "cell_type": "markdown",
   "metadata": {
    "slideshow": {
     "slide_type": "subslide"
    }
   },
   "source": [
    "C = S + P - E - $\\frac{L}{1+y}$<br><br>\n",
    "F = $\\left[P - E - \\frac{L}{1+y} \\right] \\cdot \\frac{d}{1-d}$ , where $d = \\frac{cr}{1+y}$<br><br>\n",
    "\n",
    "<b>Total economic value / Market value =</b> current economic value + franchise value"
   ]
  },
  {
   "cell_type": "markdown",
   "metadata": {
    "slideshow": {
     "slide_type": "slide"
    }
   },
   "source": [
    "## Interest Rate Sensitivity of Franchise Value\n",
    "\n",
    "- k = a + b $\\cdot$ y , where y = spot rate corresponding to the firm's liabilities\n",
    "    - Most companies use a fixed target return to determine premium (i.e. they set b = 0 and a = x%)\n",
    "<br><br>\n",
    "- We can adjust the Franchise value equation to incorporate interest rate sensitivity:<br><br>\n",
    "$$F = \\frac{cr \\cdot S \\cdot (a+(b-1)\\cdot y)}{(1+y) \\cdot (1+y -cr)}$$"
   ]
  },
  {
   "cell_type": "markdown",
   "metadata": {
    "slideshow": {
     "slide_type": "subslide"
    }
   },
   "source": [
    "Duration of the Franchise value:<br><br>\n",
    "$$D = \\frac{a-b+1}{(1+y)(a+by-y)} + \\frac{1}{1+y-cr}$$\n",
    "<br><br>\n",
    "<center><img src = 'images/Panning_Dur.JPG'></center>\n",
    "- Note, premium has higher duration than expenses since premium is sensitive to interest rates."
   ]
  },
  {
   "cell_type": "markdown",
   "metadata": {
    "slideshow": {
     "slide_type": "slide"
    }
   },
   "source": [
    "## Managing Interest Rate Risk of Franchise Value\n",
    "\n",
    "- Duration of the total economic value is based on duration of <b>current economic value</b> and <b>franchise value.</b>\n",
    "\n",
    "- Traditional methods of managing duration is to change the duration of invested assets.\n",
    "    - This is not sufficient since Franchise value can have much higher duration."
   ]
  },
  {
   "cell_type": "markdown",
   "metadata": {
    "slideshow": {
     "slide_type": "subslide"
    }
   },
   "source": [
    "#### Issue with managing franchise value\n",
    "1. The greater the franchise value of the firm, the more difficult it is to manage the interest rate risk.\n",
    "2. The firm could reduce the duration of invested assets to try offset the positive contribution of franchise value to the duration. This strategy may puzzle regulatory authorities/rating agencies, as they only see the accounting numbers, and therefore do not account for the franchise value when analyzing the actions of the firm."
   ]
  },
  {
   "cell_type": "markdown",
   "metadata": {
    "slideshow": {
     "slide_type": "subslide"
    }
   },
   "source": [
    "#### Alternative Pricing Strategy to manage interest rate risk/duration\n",
    "- We can chose b $\\neq$ 0 in k = a + by equation.\n",
    "- Under this strategy, return on surplus varies with the interest rate. (S $\\cdot k$ = Sa + Sby)\n",
    "<br><br>\n",
    "- <b>Advantage</b>\n",
    "    - Avoids rating agency and regulatory risk that are associated with managing the duration of the invested assets.\n",
    "\n",
    "- <b>Disadvantage</b>\n",
    "    - The desired combination of target return on surplus and target duration can be maintained only for small interest rate changes."
   ]
  }
 ],
 "metadata": {
  "celltoolbar": "Slideshow",
  "kernelspec": {
   "display_name": "Python 3",
   "language": "python",
   "name": "python3"
  },
  "language_info": {
   "codemirror_mode": {
    "name": "ipython",
    "version": 3
   },
   "file_extension": ".py",
   "mimetype": "text/x-python",
   "name": "python",
   "nbconvert_exporter": "python",
   "pygments_lexer": "ipython3",
   "version": "3.7.1"
  }
 },
 "nbformat": 4,
 "nbformat_minor": 2
}
