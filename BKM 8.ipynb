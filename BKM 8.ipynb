{
 "cells": [
  {
   "cell_type": "markdown",
   "metadata": {
    "slideshow": {
     "slide_type": "slide"
    }
   },
   "source": [
    "The rate of return on any security, i, can be decomposed into expected ($E(r_i)$) and unanticipated ($e_i$) portions:\n",
    "\n",
    "$$r_i = E(r_i) + e_i$$\n",
    "where,\n",
    "$$E(e_i) = 0$$ \n",
    "$$\\sigma_i = \\sigma(e_i)$$"
   ]
  },
  {
   "cell_type": "markdown",
   "metadata": {
    "slideshow": {
     "slide_type": "slide"
    }
   },
   "source": [
    "## Single Factor Model\n",
    "\n",
    "- We assume that the security returns are <b>joint normally distributed</b> (being driven by one factor, \"m\") aka \"m\" is a normally distributed variable that impacts security returns.\n",
    "    - We still assume that security returns are normally distributed\n",
    "<br><br>    \n",
    "<center>m = uncertainty about the economy</center>\n",
    "<center>$e_i$ = uncertainty about the firm itself</center>\n",
    "<center>corr(m,$e_i$) = 0</center>\n",
    "<center>$\\beta_i$ = sensitivity to economic factors</center>\n",
    "\n",
    "This produces the <b>single-factor model</b>:\n",
    "<font color=blue>$$r_i = E(r_i) + \\beta_i*m + e_i$$</font>\n",
    "where,\n",
    "$$E(m) = 0$$ \n",
    "$$\\sigma(m) = \\sigma_m$$"
   ]
  },
  {
   "cell_type": "markdown",
   "metadata": {
    "slideshow": {
     "slide_type": "subslide"
    }
   },
   "source": [
    "$$\\sigma_i^2 = \\beta_i^2 * \\sigma_m^2 + \\sigma^2(e_i)$$\n",
    "<br>\n",
    "$$Cov(r_i,r_j) = Cov(\\beta_i*m + e_i, \\beta_j * m + e_j) = \\beta_i * \\beta_j * \\sigma_m^2$$"
   ]
  },
  {
   "cell_type": "markdown",
   "metadata": {
    "slideshow": {
     "slide_type": "slide"
    }
   },
   "source": [
    "## Single Index Model\n",
    "\n",
    "Single-index model is a version of the single-factor model where we assume S&P 500 is a valid proxy for the common macroeconomic factors (m).\n",
    "\n",
    "We can now use regression to calculate excess returns of a stock. \n",
    "\n",
    "The regression equation is:\n",
    "<br><br>\n",
    "<center>$\\alpha_i$ = Expected excess return of the security when the market excess return is 0 = intercept term</center>\n",
    "$$R_i = r_i - r_f$$\n",
    "$$e_i \\text{= firm-specific surpirise = residual}$$\n",
    "\n",
    "$$R_i(t) = \\alpha_i + \\beta_i*R_M(t) + e_i(t)$$<br>\n",
    "$$E(R_i) = \\alpha_i + \\beta_i*E(R_M) \\tag{$\\because E(e_i)$ = 0}$$"
   ]
  },
  {
   "cell_type": "markdown",
   "metadata": {
    "slideshow": {
     "slide_type": "subslide"
    }
   },
   "source": [
    "Here,\n",
    "<center>$\\beta_i*E(R_M)$ = Systematic risk premium</center>\n",
    "<center>$\\alpha_i$ = nonmarket premium</center>\n",
    "\n",
    "- In general, the portfolio created using single-index model is going to be inferior to the Markowitz or multi-index models.\n",
    "    - Since it simplifies sources of risk.\n",
    "    - Can be checked by looking at the correlation between the residual of stocks.\n",
    "    \n",
    "If we have a portfolio stocks, then the equation becomes:\n",
    "$$R_p = \\alpha_p + \\beta_p * R_M + e_p$$\n",
    "With the following portfolio variance/risk:\n",
    "$$\\sigma_p^2 = \\beta_p^2 * \\sigma_M^2 + \\sigma^2(e_p)$$\n",
    "The firm-specific risk is diversifiable because:\n",
    "$$\\sigma^2(e_p) = \\frac{1}{n}*\\overline{\\sigma}^2(e)$$"
   ]
  },
  {
   "cell_type": "markdown",
   "metadata": {
    "slideshow": {
     "slide_type": "subslide"
    }
   },
   "source": [
    "- When we use regression to estimate paramters of the single-index model, we get <b>Security Characteristic Line (SCL)</b> as a result.\n",
    "    - This is just a regression line through the plot of excess returns of the security and S&P 500.\n",
    "    \n",
    "<center><img src=\"images/SCL.JPG\"></center>"
   ]
  },
  {
   "cell_type": "markdown",
   "metadata": {
    "slideshow": {
     "slide_type": "subslide"
    }
   },
   "source": [
    "<center><img src=\"images/Table 8.1.JPG\"></center>\n",
    "<br>\n",
    "<center>$\\alpha_{HP}$ = .0086 and $\\beta_{HP}$ = 2.0348 (slope)</center> \n",
    "Since the t-stat of intercept is less than 2, we can't deduce that it is different from 0.<br><br>\n",
    "<center>$\\beta_{HP}^2 * \\sigma_{\\text{S&P 500}}^2$ = .3752</center>\n",
    "<center>$\\sigma_{HP}^2$ = .3410</center>\n",
    "<center> std. error = .0767 = $\\sqrt{.0059}$</center>\n",
    "<br>\n",
    "<center>$R^2$ = .5239 = $\\frac{Regression SS}{Total SS} = \\frac{.3752}{.7162}$</center>"
   ]
  },
  {
   "cell_type": "markdown",
   "metadata": {
    "slideshow": {
     "slide_type": "subslide"
    }
   },
   "source": [
    "- As a note, we should not rely on the alpha calculated using the regression model for future periods since empirical evidence has shown that alpha values do not persist over time."
   ]
  },
  {
   "cell_type": "markdown",
   "metadata": {
    "slideshow": {
     "slide_type": "slide"
    }
   },
   "source": [
    "## Predicting Betas\n",
    "\n",
    "- Betas seem to drift towards 1 over time. We look at several options to predict future betas.<br><br>\n",
    "- <b>Option 1:</b> Use regression:\n",
    "    - Current beta = a + b (Past beta)\n",
    "    - Forecast beta = a + b (Current beta)\n",
    "<br><br>\n",
    "- <b>Option 2:</b> Use other financial variables to forecast beta:\n",
    "    - Current beta = a + $b_1$(Past beta) + $b_2$(Firm size) + $b_3$(Debt ratio)\n",
    "    - Researchers found that even after controlling for financial characteristics, some industries have beta values that are on average lower or higher than the predicted betas. They use this average deviation as an \"adjustment factor\".\n"
   ]
  },
  {
   "cell_type": "markdown",
   "metadata": {
    "slideshow": {
     "slide_type": "slide"
    }
   },
   "source": [
    "## Tracking Portfolios\n",
    "\n",
    "Assume a portfolio has this return: $R_p = .04 + 1.4*R_{\\text{S&P 500}} + e_p$.\n",
    "\n",
    "To remove systematic risk, we will create a <b>tracking portfolio</b>: $R_T$ = 1.4 units of S&P 500 and -.4 units in T-bills.\n",
    "\n",
    "Then we can purchase the portfolio and short the tracking portfolio:\n",
    "$$R_c = R_p - R_T$$\n",
    "$$R_c = (.04 + 1.4R_{\\text{S&P 500}} + e_p) - 1.4R_{\\text{S&P 500}}$$\n",
    "$$R_c = 0.4 + e_p$$\n",
    "\n",
    "The process of separating alpha from market exposure is called <b>alpha transport</b>."
   ]
  },
  {
   "cell_type": "markdown",
   "metadata": {
    "slideshow": {
     "slide_type": "slide"
    }
   },
   "source": [
    "## Information Ratio\n",
    "\n",
    "- The Sharpe ratio of an optimally constructed risky portfolio will exceed that of the index portfolio (passive strategy). The equation is:\n",
    "\n",
    "$$S_P^2 = S_M^2 + \\left(\\frac{\\alpha_A}{\\sigma(e_A)}\\right)^2 = S_M^2 + IR^2$$\n",
    "\n",
    "where,<br>\n",
    "\n",
    "$S_M^2$ is the Sharpe ratios of the passive market index.\n",
    "\n",
    "$\\frac{\\alpha_A}{e_A}$ is the <b>Information Ratio</b>, which represents the contribution of the portfolio to the Sharpe ratio (when held at optimal weight).\n",
    "\n",
    "- This all implies that, to maximize Sharpe ratio we must maximize the IR of the active portfolio."
   ]
  },
  {
   "cell_type": "markdown",
   "metadata": {
    "slideshow": {
     "slide_type": "slide"
    }
   },
   "source": [
    "## Optimal Risky Portfolio in the Single-Index Model\n",
    "\n",
    "- We create the optimal risky portfolio from n actively researched firm (i.e active portfolio (A)) and market index portfolio (M) (i.e. S&P 500 - for diversification purposes).\n",
    "- The optimal risky portfolio trades off the search for alpha against departure from efficient diversification.\n",
    "\n",
    "<b>Assuming beta is 1 </b>\n",
    "- The optimal weight for the active portfolio (A) balances the contribution of the active portfolio ($\\alpha$) against its contribution to the portfolio variance.\n",
    "\n",
    "$$w_A^0 = \\frac{\\frac{\\alpha_A}{\\sigma^2(e_A)}}{\\frac{E(R_M)}{\\sigma_M^2}}$$"
   ]
  },
  {
   "cell_type": "markdown",
   "metadata": {
    "slideshow": {
     "slide_type": "subslide"
    }
   },
   "source": [
    "- Next, we remove the $\\beta$ = 1 assumption.\n",
    "    - As beta of the active portfolio increases, there is less diversification benefit from the passive portfolio.\n",
    "        - Since higher beta means higher correlation between active and passive portfolios.\n",
    "        - Hence, lower the need to hold the passive portfolio.\n",
    "        \n",
    "$$w_A^* = \\frac{w_A^0}{1 + (1 - \\beta_A)*w_A^0}$$\n",
    "\n",
    "If $\\beta_A$ = 1 then $w_A^* = w_A^0$\n",
    "\n",
    "- Now we invest $w_A^*$ in active portfolio and 1 - $w_A^*$ in index portfolio."
   ]
  },
  {
   "cell_type": "markdown",
   "metadata": {
    "slideshow": {
     "slide_type": "subslide"
    }
   },
   "source": [
    "- To get the amount of investment in each security of the active portfolio, we use the following equation:\n",
    "\n",
    "$$w_i^* = w_A^* * \\frac{\\frac{\\alpha_i}{\\sigma^2(e_i)}}{\\sum_{i=1}^n \\frac{\\alpha_i}{\\sigma^2(e_i)}}$$\n",
    "\n",
    "The contribution of each security to information ratio of active portfolio is:\n",
    "$$\\left[\\frac{\\alpha_A}{\\sigma(e_A)}\\right]^2 = \\sum_{i=1}^n \\left[\\frac{\\alpha_i}{\\sigma(e_i)}\\right]^2$$ \n",
    "\n",
    "- If security alpha is negative, then we short that security."
   ]
  },
  {
   "cell_type": "markdown",
   "metadata": {
    "slideshow": {
     "slide_type": "subslide"
    }
   },
   "source": [
    "<center><img src=\"images/Optimal_Risky_Port_SIM.JPG\"></center>"
   ]
  }
 ],
 "metadata": {
  "celltoolbar": "Slideshow",
  "kernelspec": {
   "display_name": "Python 3",
   "language": "python",
   "name": "python3"
  },
  "language_info": {
   "codemirror_mode": {
    "name": "ipython",
    "version": 3
   },
   "file_extension": ".py",
   "mimetype": "text/x-python",
   "name": "python",
   "nbconvert_exporter": "python",
   "pygments_lexer": "ipython3",
   "version": "3.7.1"
  }
 },
 "nbformat": 4,
 "nbformat_minor": 2
}
