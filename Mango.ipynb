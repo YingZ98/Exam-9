{
 "cells": [
  {
   "cell_type": "markdown",
   "metadata": {
    "slideshow": {
     "slide_type": "slide"
    }
   },
   "source": [
    "## Overview\n",
    "\n",
    "- Paper discusses several methods of determining the risk loads of new and renewal accounts.\n",
    "- We assume losses are from a Poisson distribution with occurence rate $\\lambda$.\n",
    "- We use binomial approximation with probability p."
   ]
  },
  {
   "cell_type": "markdown",
   "metadata": {
    "slideshow": {
     "slide_type": "subslide"
    }
   },
   "source": [
    "<center>E[L] = $\\sum [L_i \\cdot p_i]$</center><br><br>\n",
    "<center>Var(L) = $\\sum [L_i^2 \\cdot p_i \\cdot (1-p_i)]$</center><br><br>\n",
    "<center>Cov(L,n) = $\\sum [L_i \\cdot n_i \\cdot p_i \\cdot (1-p_i)]$</center>"
   ]
  },
  {
   "cell_type": "markdown",
   "metadata": {
    "slideshow": {
     "slide_type": "slide"
    }
   },
   "source": [
    "## Marginal Surplus (MS) Method\n",
    "\n",
    "- Trying to figure out additional risk load needed for adding a new account to the portfolio.\n",
    "<br><br>\n",
    "<center>V = Needed surplus</center>\n",
    "<center>S = Standard deviation of losses</center>\n",
    "<center>R = Return on portfolio</center>\n",
    "<center>z = Std. associated with the percentile for surplus</center>\n",
    "<br><br>\n",
    "<center>V = z $\\cdot$ STD(losses) - E[R]<center>    "
   ]
  },
  {
   "cell_type": "markdown",
   "metadata": {
    "slideshow": {
     "slide_type": "subslide"
    }
   },
   "source": [
    "Marginal Surplus for adding new account:<br><br>\n",
    "<center>$V_{New} - V_{Old}$<center>\n",
    "<center>$\\downarrow$<center>\n",
    "<center>$z \\cdot STD(Losses_{New})- R_{New} - z \\cdot STD(Losses_{Old})+ R_{Old}$<center><br>\n",
    "    \n",
    " \n",
    "Let, y = required return on surplus.<br><br>\n",
    "$$R_{New}-R_{Old} = z \\cdot \\frac{y}{1+y} \\cdot (STD(Losses_{New})-STD(Losses_{Old}))$$\n",
    "$$\\downarrow$$\n",
    "$$r = \\color{blue}{\\frac{z \\cdot y}{1+y}} \\cdot (STD(Losses_{New})-STD(Losses_{Old}))$$<br>\n",
    "$$\\text{Risk Load} = \\color{blue}{Multiplier} \\cdot \\text{Marginal STD}$$\n"
   ]
  },
  {
   "cell_type": "markdown",
   "metadata": {
    "slideshow": {
     "slide_type": "subslide"
    }
   },
   "source": [
    "- Here's how we get the $\\frac{y}{1+y}$ part of the equation.\n",
    "\n",
    "$$(R_{New}-R_{Old}) \\cdot \\frac{1+y}{y}$$\n",
    "$$\\downarrow$$\n",
    "<center>This basically converts return to surplus figures and calculates new surplus values</center>"
   ]
  },
  {
   "cell_type": "markdown",
   "metadata": {
    "slideshow": {
     "slide_type": "subslide"
    }
   },
   "source": [
    "<center><img src='images/Mango_MS_MV.JPG'></center>"
   ]
  },
  {
   "cell_type": "markdown",
   "metadata": {
    "slideshow": {
     "slide_type": "subslide"
    }
   },
   "source": [
    "<center><img src='images/Mango_MS_MV_Ren.JPG'></center>"
   ]
  },
  {
   "cell_type": "markdown",
   "metadata": {
    "slideshow": {
     "slide_type": "subslide"
    }
   },
   "source": [
    "<center><img src='images/Mango_MS_Ren.JPG'></center>"
   ]
  },
  {
   "cell_type": "markdown",
   "metadata": {
    "slideshow": {
     "slide_type": "slide"
    }
   },
   "source": [
    "## Marginal Variance\n",
    "\n",
    "<br>\n",
    "<center>L = Existing portfolio</center>\n",
    "<center>n = New account</center>\n",
    "$$\\text{Risk Load} (r) = \\lambda \\cdot \\text{Marginal Variance}$$\n",
    "where, $\\lambda = \\frac{z \\cdot y}{(1+y) \\cdot STD(L+n)}$<br><br>\n",
    "$$r = \\lambda [Var(L+n) - Var(L)]$$\n",
    "$$\\downarrow$$\n",
    "$$r = \\lambda [Var(n) + 2 \\cdot Cov(L,n)]$$\n",
    "<br><br>\n",
    "- Here $\\lambda$ is chosen such that the risk load produced by the Marginal Surplus and Marginal Variance methods will be the same."
   ]
  },
  {
   "cell_type": "markdown",
   "metadata": {
    "slideshow": {
     "slide_type": "subslide"
    }
   },
   "source": [
    "<center><img src='images/Mango_MS_MV.JPG'></center>"
   ]
  },
  {
   "cell_type": "markdown",
   "metadata": {
    "slideshow": {
     "slide_type": "subslide"
    }
   },
   "source": [
    "- Change in std. for Y is derived by subtracting the std. for x from the overall.\n",
    "- Under MV build-up scenario, the 2*Cov goes to Y only."
   ]
  },
  {
   "cell_type": "markdown",
   "metadata": {
    "slideshow": {
     "slide_type": "subslide"
    }
   },
   "source": [
    "<center><img src='images/Mango_MV.JPG'></center>"
   ]
  },
  {
   "cell_type": "markdown",
   "metadata": {
    "slideshow": {
     "slide_type": "subslide"
    }
   },
   "source": [
    "<center><img src='images/Mango_MS_MV_Ren.JPG'></center>"
   ]
  },
  {
   "cell_type": "markdown",
   "metadata": {
    "slideshow": {
     "slide_type": "subslide"
    }
   },
   "source": [
    "<center><img src='images/Mango_MV_Ren.JPG'></center>"
   ]
  },
  {
   "cell_type": "markdown",
   "metadata": {
    "slideshow": {
     "slide_type": "slide"
    }
   },
   "source": [
    "- $\\color{green}{\\text{Marginal Surplus}}$ method is $\\color{green}{\\text{sub-additive}}$.\n",
    "    - Square root is sub-additive.\n",
    "- $\\color{blue}{\\text{Marginal Variance}}$ method is $\\color{blue}{\\text{super-additive}}$.\n",
    "    - Since it double counts the covariance."
   ]
  },
  {
   "cell_type": "markdown",
   "metadata": {
    "slideshow": {
     "slide_type": "slide"
    }
   },
   "source": [
    "## Renewal Additivity\n",
    "\n",
    "- <b>Renewal additvity</b> is a desired property since it implies sum of renewal risk loads is equal to the risk load for the aggregate portfolio.\n",
    "    - Neither MS nor MV methods are renewal additive.\n",
    "    \n",
    "<br><br>\n",
    "- Note, both Shapely and Covariance share methods are alternative to the MV method."
   ]
  },
  {
   "cell_type": "markdown",
   "metadata": {
    "slideshow": {
     "slide_type": "slide"
    }
   },
   "source": [
    "## Shapley Value\n",
    "\n",
    "- The Shapley value method allocates the mutual covariance equally between accounts.<br><br>\n",
    "<center>Shapley Value = Var(n) + $\\sum$Cov(L,n)</center>\n",
    "\n",
    "#### Shapley vs MV Method\n",
    "- MV method allocates 2*Cov(L,n) to each account.\n",
    "- Shapley allocates Cov(L,n) equally to each account."
   ]
  },
  {
   "cell_type": "markdown",
   "metadata": {
    "slideshow": {
     "slide_type": "slide"
    }
   },
   "source": [
    "## Covariance Share\n",
    "\n",
    "- Covariance share method tries to be more fair and allocates covariance based on the selected weights.\n",
    "    - Generally based on expected losses."
   ]
  },
  {
   "cell_type": "markdown",
   "metadata": {
    "slideshow": {
     "slide_type": "slide"
    }
   },
   "source": [
    "<center><img src='images/Mango_SP_CS_Build.JPG'></center>"
   ]
  },
  {
   "cell_type": "markdown",
   "metadata": {
    "slideshow": {
     "slide_type": "subslide"
    }
   },
   "source": [
    "- Note, both Shapley and Covariance share methods produce lower risk loads for Y because we are allocating a smaller proportion of the covariance to it."
   ]
  },
  {
   "cell_type": "markdown",
   "metadata": {
    "slideshow": {
     "slide_type": "slide"
    }
   },
   "source": [
    "<center><img src='images/Mango_SP_CS_Ren.JPG'></center>"
   ]
  },
  {
   "cell_type": "markdown",
   "metadata": {
    "slideshow": {
     "slide_type": "slide"
    }
   },
   "source": [
    "<center><img src='images/Mango_Sum.JPG'></center>"
   ]
  }
 ],
 "metadata": {
  "celltoolbar": "Slideshow",
  "kernelspec": {
   "display_name": "Python 3",
   "language": "python",
   "name": "python3"
  },
  "language_info": {
   "codemirror_mode": {
    "name": "ipython",
    "version": 3
   },
   "file_extension": ".py",
   "mimetype": "text/x-python",
   "name": "python",
   "nbconvert_exporter": "python",
   "pygments_lexer": "ipython3",
   "version": "3.7.1"
  }
 },
 "nbformat": 4,
 "nbformat_minor": 2
}
